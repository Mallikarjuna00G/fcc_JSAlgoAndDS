{
 "cells": [
  {
   "cell_type": "code",
   "execution_count": 1,
   "metadata": {},
   "outputs": [],
   "source": [
    "from IPython.display import display, Markdown, HTML, Image\n",
    "\n",
    "def fetchAndDisplaySrcFileAsCodeBlock(fileName):\n",
    "\tcode = \"\"\n",
    "\n",
    "\twith open(fileName, \"r\") as file:\n",
    "\t\tcode = file.read()\n",
    "\tfileType = \"\"\n",
    "\ti = fileName.rfind(\".\")\n",
    "\tif i != -1:\n",
    "\t\tfileType = fileName[i+1:]\n",
    "\tdisplay(Markdown(f\"\"\"```{fileType}\n",
    "{code}\n",
    "```\"\"\"))\n"
   ]
  },
  {
   "cell_type": "markdown",
   "metadata": {},
   "source": [
    "# Review JavaScript Fundamentals by Building a Gradebook App"
   ]
  },
  {
   "cell_type": "markdown",
   "metadata": {},
   "source": [
    "In this mini project, you will get to review JavaScript fundamentals like functions, variables, conditionals and more by building a gradebook app.\n",
    "\n",
    "This will give you an opportunity to solve small problems and get a better understanding of the basics."
   ]
  },
  {
   "cell_type": "markdown",
   "metadata": {},
   "source": [
    "## Step1:"
   ]
  },
  {
   "cell_type": "markdown",
   "metadata": {},
   "source": [
    "<p>A teacher has finished grading their students' tests and needs your help to calculate the average score for the class.</p>"
   ]
  },
  {
   "cell_type": "markdown",
   "metadata": {},
   "source": [
    "<p>Complete the <code>getAverage</code> function which takes in an array of test scores and returns the average score.</p>"
   ]
  },
  {
   "cell_type": "markdown",
   "metadata": {},
   "source": [
    "<p>The average is calculated by adding up all the scores and dividing by the total number of scores.</p>\n",
    "\n",
    "**Example Code**\n",
    "\n",
    "```\n",
    "average = sum of all scores / total number of scores\n",
    "```"
   ]
  },
  {
   "cell_type": "markdown",
   "metadata": {},
   "source": [
    "<p>A couple of function calls have been provided for you so you can test out your code.</p>"
   ]
  },
  {
   "cell_type": "markdown",
   "metadata": {},
   "source": [
    "<p><strong>Tips</strong></p>\n",
    "\n",
    "- You can use a loop to iterate over the `scores` array and add up all the scores.\n",
    "- You can use the `length` property to get the total number of scores."
   ]
  },
  {
   "cell_type": "markdown",
   "metadata": {},
   "source": [
    "**Source file link:** [gradeBookApp_step1.js](./gradeBookApp_step1.js)"
   ]
  },
  {
   "cell_type": "code",
   "execution_count": 10,
   "metadata": {},
   "outputs": [
    {
     "data": {
      "text/markdown": [
       "```js\n",
       "function getAverage(scores) {\n",
       "    let temp = 0;\n",
       "    for (const item of scores){\n",
       "        temp += item;\n",
       "    }\n",
       "    return temp / scores.length;\n",
       "}\n",
       "\n",
       "console.log(getAverage([92, 88, 12, 77, 57, 100, 67, 38, 97, 89]));\n",
       "console.log(getAverage([45, 87, 98, 100, 86, 94, 67, 88, 94, 95]));\n",
       "```"
      ],
      "text/plain": [
       "<IPython.core.display.Markdown object>"
      ]
     },
     "metadata": {},
     "output_type": "display_data"
    }
   ],
   "source": [
    "fileName = \"gradeBookApp_step1.js\"\n",
    "fetchAndDisplaySrcFileAsCodeBlock(fileName)"
   ]
  },
  {
   "cell_type": "markdown",
   "metadata": {},
   "source": [
    "### Execution logs: "
   ]
  },
  {
   "cell_type": "code",
   "execution_count": 11,
   "metadata": {},
   "outputs": [
    {
     "name": "stdout",
     "output_type": "stream",
     "text": [
      "\u001b[33m71.7\u001b[39m\n",
      "\u001b[33m85.4\u001b[39m\n"
     ]
    }
   ],
   "source": [
    "!node gradeBookApp_step1.js"
   ]
  },
  {
   "cell_type": "markdown",
   "metadata": {},
   "source": [
    "---"
   ]
  },
  {
   "cell_type": "markdown",
   "metadata": {},
   "source": [
    "## Step2:"
   ]
  },
  {
   "cell_type": "markdown",
   "metadata": {},
   "source": [
    "<p>Now the teacher needs your help converting the student score to a letter grade.</p>"
   ]
  },
  {
   "cell_type": "markdown",
   "metadata": {},
   "source": [
    "<p>Complete the <code>getGrade</code> function that takes a number <code>score</code> as a parameter. Your function should return a string representing a letter grade based on the score.</p>"
   ]
  },
  {
   "cell_type": "markdown",
   "metadata": {},
   "source": [
    "<p>Here are the scores and their corresponding letter grades:</p>"
   ]
  },
  {
   "cell_type": "markdown",
   "metadata": {},
   "source": [
    "<p><strong>Tips</strong></p>"
   ]
  },
  {
   "cell_type": "markdown",
   "metadata": {},
   "source": [
    "**Source file link:** [gradeBookApp_step2.js](./gradeBookApp_step2.js)"
   ]
  },
  {
   "cell_type": "code",
   "execution_count": 12,
   "metadata": {},
   "outputs": [
    {
     "data": {
      "text/markdown": [
       "```js\n",
       "function getAverage(scores) {\n",
       "    let sum = 0;\n",
       "\n",
       "    for (const score of scores) {\n",
       "        sum += score;\n",
       "    }\n",
       "\n",
       "    return sum / scores.length;\n",
       "}\n",
       "\n",
       "function getGrade(score) {\n",
       "    let grade = \"\";\n",
       "\n",
       "    if(score < 60) {\n",
       "        grade = \"F\";\n",
       "    }\n",
       "    else if(score < 70) {\n",
       "        grade = \"D\";\n",
       "    }\n",
       "    else if(score < 80) {\n",
       "        grade = \"C\";\n",
       "    }\n",
       "    else if(score < 90) {\n",
       "        grade = \"B\";\n",
       "    }\n",
       "    else if(score < 100) {\n",
       "        grade = \"A\";\n",
       "    }\n",
       "    else {\n",
       "        grade = \"A++\";\n",
       "    }\n",
       "    return grade;\n",
       "}\n",
       "\n",
       "console.log(getGrade(96));\n",
       "console.log(getGrade(82));\n",
       "console.log(getGrade(56));\n",
       "```"
      ],
      "text/plain": [
       "<IPython.core.display.Markdown object>"
      ]
     },
     "metadata": {},
     "output_type": "display_data"
    }
   ],
   "source": [
    "fileName = \"gradeBookApp_step2.js\"\n",
    "fetchAndDisplaySrcFileAsCodeBlock(fileName)"
   ]
  },
  {
   "cell_type": "markdown",
   "metadata": {},
   "source": [
    "### Execution logs: "
   ]
  },
  {
   "cell_type": "code",
   "execution_count": 13,
   "metadata": {},
   "outputs": [
    {
     "name": "stdout",
     "output_type": "stream",
     "text": [
      "A\n",
      "B\n",
      "F\n"
     ]
    }
   ],
   "source": [
    "!node gradeBookApp_step2.js"
   ]
  },
  {
   "cell_type": "markdown",
   "metadata": {},
   "source": [
    "---"
   ]
  },
  {
   "cell_type": "markdown",
   "metadata": {},
   "source": [
    "## Step3:"
   ]
  },
  {
   "cell_type": "markdown",
   "metadata": {},
   "source": [
    "<p>The teacher is really happy with the program you have created so far. But now they want to have an easy way to check if a student has a passing grade. A passing grade is anything that is not an <code>\"F\"</code>.</p>"
   ]
  },
  {
   "cell_type": "markdown",
   "metadata": {},
   "source": [
    "<p>Complete the function <code>hasPassingGrade</code> that takes a student score as a parameter. Your function should return <code>true</code> if the student has a passing grade and <code>false</code> if they do not.</p>"
   ]
  },
  {
   "cell_type": "markdown",
   "metadata": {},
   "source": [
    "<p><strong>Tips</strong></p>"
   ]
  },
  {
   "cell_type": "markdown",
   "metadata": {},
   "source": [
    "**Source file link:** [gradeBookApp_step3.js](./gradeBookApp_step3.js)"
   ]
  },
  {
   "cell_type": "code",
   "execution_count": 14,
   "metadata": {},
   "outputs": [
    {
     "data": {
      "text/markdown": [
       "```js\n",
       "function getAverage(scores) {\n",
       "    let sum = 0;\n",
       "\n",
       "    for (const score of scores) {\n",
       "        sum += score;\n",
       "    }\n",
       "\n",
       "    return sum / scores.length;\n",
       "}\n",
       "\n",
       "function getGrade(score) {\n",
       "    if (score === 100) {\n",
       "        return \"A++\";\n",
       "    } else if (score >= 90) {\n",
       "        return \"A\";\n",
       "    } else if (score >= 80) {\n",
       "        return \"B\";\n",
       "    } else if (score >= 70) {\n",
       "        return \"C\";\n",
       "    } else if (score >= 60) {\n",
       "        return \"D\";\n",
       "    } else {\n",
       "        return \"F\";\n",
       "    }\n",
       "}\n",
       "\n",
       "function hasPassingGrade(score) {\n",
       "    if(getGrade(score) === \"F\") {\n",
       "        return false;\n",
       "    }\n",
       "    else {\n",
       "        return true;\n",
       "    }\n",
       "}\n",
       "\n",
       "\n",
       "console.log(hasPassingGrade(100));\n",
       "console.log(hasPassingGrade(53));\n",
       "console.log(hasPassingGrade(87));\n",
       "```"
      ],
      "text/plain": [
       "<IPython.core.display.Markdown object>"
      ]
     },
     "metadata": {},
     "output_type": "display_data"
    }
   ],
   "source": [
    "fileName = \"gradeBookApp_step3.js\"\n",
    "fetchAndDisplaySrcFileAsCodeBlock(fileName)"
   ]
  },
  {
   "cell_type": "markdown",
   "metadata": {},
   "source": [
    "### Execution logs: "
   ]
  },
  {
   "cell_type": "code",
   "execution_count": 15,
   "metadata": {},
   "outputs": [
    {
     "name": "stdout",
     "output_type": "stream",
     "text": [
      "\u001b[33mtrue\u001b[39m\n",
      "\u001b[33mfalse\u001b[39m\n",
      "\u001b[33mtrue\u001b[39m\n"
     ]
    }
   ],
   "source": [
    "!node gradeBookApp_step3.js"
   ]
  },
  {
   "cell_type": "markdown",
   "metadata": {},
   "source": [
    "---"
   ]
  },
  {
   "cell_type": "markdown",
   "metadata": {},
   "source": [
    "## Step4:"
   ]
  },
  {
   "cell_type": "markdown",
   "metadata": {},
   "source": [
    "<p>Now that the teacher has all of the information they need, they want to be able to message the student with the results.</p>"
   ]
  },
  {
   "cell_type": "markdown",
   "metadata": {},
   "source": [
    "<p>Complete the <code>studentMsg</code> function with <code>totalScores</code> and <code>studentScore</code> for parameters. The function should return a string representing a message to the student.</p>"
   ]
  },
  {
   "cell_type": "markdown",
   "metadata": {},
   "source": [
    "<p>If the student passed the course, the string should follow this format:</p>\n",
    "\n",
    "**Example Code**\n",
    "\n",
    "```\n",
    "Class average: average-goes-here. Your grade: grade-goes-here. You passed the course.\n",
    "```"
   ]
  },
  {
   "cell_type": "markdown",
   "metadata": {},
   "source": [
    "<p>If the student failed the course, the string should follow this format:</p>\n",
    "\n",
    "**Example Code**\n",
    "\n",
    "```\n",
    "Class average: average-goes-here. Your grade: grade-goes-here. You failed the course.\n",
    "```"
   ]
  },
  {
   "cell_type": "markdown",
   "metadata": {},
   "source": [
    "<p>Replace <code>average-goes-here</code> with the average of the total scores.\n",
    "Replace <code>grade-goes-here</code> with the student's grade.</p>"
   ]
  },
  {
   "cell_type": "markdown",
   "metadata": {},
   "source": [
    "<p><strong>Tips</strong></p>\n",
    "\n",
    "- Use the `getAverage` function to get the class average.\n",
    "- Use the `getGrade` function to get the student's grade.\n",
    "- Use string concatenation (`+`) to build the message.\n",
    "- Be careful with the punctuation and spaces in the message."
   ]
  },
  {
   "cell_type": "markdown",
   "metadata": {},
   "source": [
    "**Source file link:** [gradeBookApp_step4.js](./gradeBookApp_step4.js)"
   ]
  },
  {
   "cell_type": "code",
   "execution_count": 18,
   "metadata": {},
   "outputs": [
    {
     "data": {
      "text/markdown": [
       "```js\n",
       "function getAverage(scores) {\n",
       "    let sum = 0;\n",
       "  \n",
       "    for (const score of scores) {\n",
       "          sum += score;\n",
       "    }\n",
       "  \n",
       "    return sum / scores.length;\n",
       "}\n",
       "  \n",
       "function getGrade(score) {\n",
       "    if (score === 100) {\n",
       "        return \"A++\";\n",
       "    } else if (score >= 90) {\n",
       "        return \"A\";\n",
       "    } else if (score >= 80) {\n",
       "        return \"B\";\n",
       "    } else if (score >= 70) {\n",
       "        return \"C\";\n",
       "    } else if (score >= 60) {\n",
       "        return \"D\";\n",
       "    } else {\n",
       "        return \"F\";\n",
       "    }\n",
       "}\n",
       "  \n",
       "function hasPassingGrade(score) {\n",
       "    return getGrade(score) !== \"F\";\n",
       "}\n",
       "  \n",
       "function studentMsg(totalScores, studentScore) {\n",
       "    let avg = getAverage(totalScores);\n",
       "    let grade = getGrade(studentScore);\n",
       "    let result = \"failed\";\n",
       "    if(hasPassingGrade(studentScore)) {\n",
       "        result = \"passed\";\n",
       "    }\n",
       "    return \"Class average: \" + avg + \". Your grade: \" + grade + \". You \" + result + \" the course.\";\n",
       "}\n",
       "console.log(studentMsg([92, 88, 12, 77, 57, 100, 67, 38, 97, 89], 37));\n",
       "console.log(studentMsg([56, 23, 89, 42, 75, 11, 68, 34, 91, 19], 100));\n",
       "  \n",
       "```"
      ],
      "text/plain": [
       "<IPython.core.display.Markdown object>"
      ]
     },
     "metadata": {},
     "output_type": "display_data"
    }
   ],
   "source": [
    "fileName = \"gradeBookApp_step4.js\"\n",
    "fetchAndDisplaySrcFileAsCodeBlock(fileName)"
   ]
  },
  {
   "cell_type": "markdown",
   "metadata": {},
   "source": [
    "### Execution logs: "
   ]
  },
  {
   "cell_type": "code",
   "execution_count": 19,
   "metadata": {},
   "outputs": [
    {
     "name": "stdout",
     "output_type": "stream",
     "text": [
      "Class average: 71.7. Your grade: F. You failed the course.\n",
      "Class average: 50.8. Your grade: A++. You passed the course.\n"
     ]
    }
   ],
   "source": [
    "!node gradeBookApp_step4.js"
   ]
  },
  {
   "cell_type": "markdown",
   "metadata": {},
   "source": [
    "---"
   ]
  }
 ],
 "metadata": {
  "kernelspec": {
   "display_name": "Python 3",
   "language": "python",
   "name": "python3"
  },
  "language_info": {
   "codemirror_mode": {
    "name": "ipython",
    "version": 3
   },
   "file_extension": ".py",
   "mimetype": "text/x-python",
   "name": "python",
   "nbconvert_exporter": "python",
   "pygments_lexer": "ipython3",
   "version": "3.11.2"
  }
 },
 "nbformat": 4,
 "nbformat_minor": 2
}
