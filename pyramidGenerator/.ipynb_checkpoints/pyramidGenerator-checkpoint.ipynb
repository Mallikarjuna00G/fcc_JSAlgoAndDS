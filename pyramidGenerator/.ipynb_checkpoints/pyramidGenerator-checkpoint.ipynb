{
 "cells": [
  {
   "cell_type": "markdown",
   "metadata": {},
   "source": [
    "# Learn Introductory JavaScript by Building a Pyramid Generator\n",
    "\n",
    "JavaScript is a powerful scripting language that you can use to make web pages interactive. It's one of the core technologies of the web, along with HTML and CSS. All modern browsers support JavaScript.\n",
    "\n",
    "In this practice project, you'll learn fundamental programming concepts in JavaScript by coding your own Pyramid Generator. You'll learn how to work with arrays, strings, functions, loops, if/else statements, and more."
   ]
  },
  {
   "cell_type": "markdown",
   "metadata": {},
   "source": [
    "## Step1:\n",
    "\n",
    "JavaScript is the programming language that powers the web. Unlike the HTML and CSS, JavaScript is most commonly used to write logic instead of markup.\n",
    "\n",
    "In this project, you will learn the basics of Javascript and apply those concepts to building a pyramid generator.\n",
    "\n",
    "A pyramid generator is a program where you can set the type of character, the count for the pyramid, and the direction of the pyramid. The program will then generate a pyramid based on those inputs.\n",
    "\n",
    "**Source file link:** [script_step1.js](./script_step1.js)\n"
   ]
  },
  {
   "cell_type": "code",
   "execution_count": 1,
   "metadata": {
    "vscode": {
     "languageId": "plaintext"
    }
   },
   "outputs": [
    {
     "ename": "NameError",
     "evalue": "name 'console' is not defined",
     "output_type": "error",
     "traceback": [
      "\u001b[0;31m---------------------------------------------------------------------------\u001b[0m",
      "\u001b[0;31mNameError\u001b[0m                                 Traceback (most recent call last)",
      "Cell \u001b[0;32mIn [1], line 1\u001b[0m\n\u001b[0;32m----> 1\u001b[0m \u001b[43mconsole\u001b[49m\u001b[38;5;241m.\u001b[39mlog(\u001b[38;5;124m\"\u001b[39m\u001b[38;5;124mLet\u001b[39m\u001b[38;5;124m'\u001b[39m\u001b[38;5;124ms build a pyramid using Javascript basics:\u001b[39m\u001b[38;5;124m\"\u001b[39m);\n\u001b[1;32m      2\u001b[0m console\u001b[38;5;241m.\u001b[39mlog(\u001b[38;5;124m\"\u001b[39m\u001b[38;5;124m    #    \u001b[39m\u001b[38;5;124m\"\u001b[39m);\n\u001b[1;32m      3\u001b[0m console\u001b[38;5;241m.\u001b[39mlog(\u001b[38;5;124m\"\u001b[39m\u001b[38;5;124m   ###   \u001b[39m\u001b[38;5;124m\"\u001b[39m);\n",
      "\u001b[0;31mNameError\u001b[0m: name 'console' is not defined"
     ]
    }
   ],
   "source": [
    "console.log(\"Let's build a pyramid using Javascript basics:\");\n",
    "console.log(\"    #    \");\n",
    "console.log(\"   ###   \");\n",
    "console.log(\"  #####  \");\n",
    "console.log(\" ####### \");\n",
    "console.log(\"#########\");"
   ]
  },
  {
   "cell_type": "code",
   "execution_count": null,
   "metadata": {},
   "outputs": [],
   "source": []
  }
 ],
 "metadata": {
  "kernelspec": {
   "display_name": "Python 3 (ipykernel)",
   "language": "python",
   "name": "python3"
  },
  "language_info": {
   "codemirror_mode": {
    "name": "ipython",
    "version": 3
   },
   "file_extension": ".py",
   "mimetype": "text/x-python",
   "name": "python",
   "nbconvert_exporter": "python",
   "pygments_lexer": "ipython3",
   "version": "3.11.2"
  }
 },
 "nbformat": 4,
 "nbformat_minor": 2
}
