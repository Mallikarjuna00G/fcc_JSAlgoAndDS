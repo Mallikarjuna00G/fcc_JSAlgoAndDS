{
 "cells": [
  {
   "cell_type": "code",
   "execution_count": 239,
   "metadata": {},
   "outputs": [],
   "source": [
    "from IPython.display import display, Markdown, HTML, Image\n",
    "\n",
    "def fetchAndDisplaySrcFileAsCodeBlock(fileName):\n",
    "\tcode = \"\"\n",
    "\n",
    "\twith open(fileName, \"r\") as file:\n",
    "\t\tcode = file.read()\n",
    "\tfileType = \"\"\n",
    "\ti = fileName.rfind(\".\")\n",
    "\tif i != -1:\n",
    "\t\tfileType = fileName[i+1:]\n",
    "\tdisplay(Markdown(f\"\"\"```{fileType}\n",
    "{code}\n",
    "```\"\"\"))\n"
   ]
  },
  {
   "cell_type": "markdown",
   "metadata": {},
   "source": [
    "# Learn Introductory JavaScript by Building a Pyramid Generator"
   ]
  },
  {
   "cell_type": "markdown",
   "metadata": {},
   "source": [
    "JavaScript is a powerful scripting language that you can use to make web pages interactive. It's one of the core technologies of the web, along with HTML and CSS. All modern browsers support JavaScript.\n",
    "\n",
    "In this practice project, you'll learn fundamental programming concepts in JavaScript by coding your own Pyramid Generator. You'll learn how to work with arrays, strings, functions, loops, `if`/`else` statements, and more."
   ]
  },
  {
   "cell_type": "markdown",
   "metadata": {},
   "source": [
    "## Step1:"
   ]
  },
  {
   "cell_type": "markdown",
   "metadata": {},
   "source": [
    "<p>JavaScript is the programming language that powers the web. Unlike the HTML and CSS you have learned previously, JavaScript is most commonly used to write logic instead of markup.</p>"
   ]
  },
  {
   "cell_type": "markdown",
   "metadata": {},
   "source": [
    "<p>In this project, you will learn the basics of Javascript and apply those concepts to building a pyramid generator.</p>"
   ]
  },
  {
   "cell_type": "markdown",
   "metadata": {},
   "source": [
    "A pyramid generator is a program where you can set the \n",
    "- type of character, \n",
    "- the count for the pyramid, and \n",
    "- the direction of the pyramid. \n",
    " \n",
    "The program will then generate a pyramid based on those inputs."
   ]
  },
  {
   "cell_type": "markdown",
   "metadata": {},
   "source": [
    "**Source file link:** [pyramidGenerator_step1.js](./pyramidGenerator_step1.js)"
   ]
  },
  {
   "cell_type": "code",
   "execution_count": 240,
   "metadata": {},
   "outputs": [
    {
     "data": {
      "text/markdown": [
       "```js\n",
       "console.log(\"Let's build a pyramid using Javascript basics\");\n",
       "console.log(\"#########\");\n",
       "console.log(\" ####### \");\n",
       "console.log(\"  #####  \");\n",
       "console.log(\"   ###   \");\n",
       "console.log(\"    #    \");\n",
       "\n",
       "```"
      ],
      "text/plain": [
       "<IPython.core.display.Markdown object>"
      ]
     },
     "metadata": {},
     "output_type": "display_data"
    }
   ],
   "source": [
    "fileName = \"pyramidGenerator_step1.js\"\n",
    "fetchAndDisplaySrcFileAsCodeBlock(fileName)"
   ]
  },
  {
   "cell_type": "markdown",
   "metadata": {},
   "source": [
    "### Execution logs: "
   ]
  },
  {
   "cell_type": "code",
   "execution_count": 241,
   "metadata": {},
   "outputs": [
    {
     "name": "stdout",
     "output_type": "stream",
     "text": [
      "Let's build a pyramid using Javascript basics\n",
      "#########\n",
      " ####### \n",
      "  #####  \n",
      "   ###   \n",
      "    #    \n"
     ]
    }
   ],
   "source": [
    "!node pyramidGenerator_step1.js"
   ]
  },
  {
   "cell_type": "markdown",
   "metadata": {},
   "source": [
    "---"
   ]
  },
  {
   "cell_type": "markdown",
   "metadata": {},
   "source": [
    "## Step2:"
   ]
  },
  {
   "cell_type": "markdown",
   "metadata": {},
   "source": [
    "<p>One of the most important concepts in programming is variables. A <dfn>variable</dfn> points to a specific memory address that stores a value. Variables are given a name which can be used throughout your code to access that value.</p>"
   ]
  },
  {
   "cell_type": "markdown",
   "metadata": {},
   "source": [
    "<p>Declaring a variable means giving it a name. In JavaScript, this is often done with the <code>let</code> keyword. For example, here is how you would declare a <code>hello</code> variable:</p>"
   ]
  },
  {
   "cell_type": "markdown",
   "metadata": {},
   "source": [
    "Variable naming follows specific rules: \n",
    "\n",
    "names can include \n",
    "- letters, \n",
    "- numbers, \n",
    "- dollar signs, and \n",
    "- underscores, \n",
    " \n",
    "but cannot contain \n",
    "- spaces and \n",
    "- must not begin with a number."
   ]
  },
  {
   "cell_type": "markdown",
   "metadata": {},
   "source": [
    "<p>Use the <code>let</code> keyword to declare a variable called <code>character</code>.</p>"
   ]
  },
  {
   "cell_type": "markdown",
   "metadata": {},
   "source": [
    "<p><em>Note</em>: It is common practice to end statements in JavaScript with a semicolon. <code>;</code></p>"
   ]
  },
  {
   "cell_type": "markdown",
   "metadata": {},
   "source": [
    "**Source file link:** [pyramidGenerator_step2.js](./pyramidGenerator_step2.js)"
   ]
  },
  {
   "cell_type": "code",
   "execution_count": 242,
   "metadata": {},
   "outputs": [
    {
     "data": {
      "text/markdown": [
       "```js\n",
       "let hello;\n",
       "```"
      ],
      "text/plain": [
       "<IPython.core.display.Markdown object>"
      ]
     },
     "metadata": {},
     "output_type": "display_data"
    }
   ],
   "source": [
    "fileName = \"pyramidGenerator_step2.js\"\n",
    "fetchAndDisplaySrcFileAsCodeBlock(fileName)"
   ]
  },
  {
   "cell_type": "markdown",
   "metadata": {},
   "source": [
    "### Execution logs: "
   ]
  },
  {
   "cell_type": "code",
   "execution_count": 243,
   "metadata": {},
   "outputs": [],
   "source": [
    "!node pyramidGenerator_step2.js"
   ]
  },
  {
   "cell_type": "markdown",
   "metadata": {},
   "source": [
    "---"
   ]
  },
  {
   "cell_type": "markdown",
   "metadata": {},
   "source": [
    "## Step3:"
   ]
  },
  {
   "cell_type": "markdown",
   "metadata": {},
   "source": [
    "<p>Your <code>character</code> variable currently does not have a value. You can assign a value using the <dfn>assignment</dfn> operator <code>=</code>. For example:</p>"
   ]
  },
  {
   "cell_type": "markdown",
   "metadata": {},
   "source": [
    "<p>Assigning a value to a variable at the moment of its declaration is known as <dfn>initialization</dfn>.</p>"
   ]
  },
  {
   "cell_type": "markdown",
   "metadata": {},
   "source": [
    "<p>Initialize your <code>character</code> variable by assigning it the value <code>\"Hello\"</code> during its declaration.</p>"
   ]
  },
  {
   "cell_type": "markdown",
   "metadata": {},
   "source": [
    "**Source file link:** [pyramidGenerator_step3.js](./pyramidGenerator_step3.js)"
   ]
  },
  {
   "cell_type": "code",
   "execution_count": 244,
   "metadata": {},
   "outputs": [
    {
     "data": {
      "text/markdown": [
       "```js\n",
       "let character = \"Hello\";\n",
       "```"
      ],
      "text/plain": [
       "<IPython.core.display.Markdown object>"
      ]
     },
     "metadata": {},
     "output_type": "display_data"
    }
   ],
   "source": [
    "fileName = \"pyramidGenerator_step3.js\"\n",
    "fetchAndDisplaySrcFileAsCodeBlock(fileName)"
   ]
  },
  {
   "cell_type": "markdown",
   "metadata": {},
   "source": [
    "### Execution logs: "
   ]
  },
  {
   "cell_type": "code",
   "execution_count": 245,
   "metadata": {},
   "outputs": [],
   "source": [
    "!node pyramidGenerator_step3.js"
   ]
  },
  {
   "cell_type": "markdown",
   "metadata": {},
   "source": [
    "---"
   ]
  },
  {
   "cell_type": "markdown",
   "metadata": {},
   "source": [
    "## Step4:"
   ]
  },
  {
   "cell_type": "markdown",
   "metadata": {},
   "source": [
    "<p>JavaScript has seven primitive data types, with String being one of them. In JavaScript, a <dfn>string</dfn> represents a sequence of characters and can be enclosed in either single (<code>'</code>) or double (<code>\"</code>) quotes.</p>"
   ]
  },
  {
   "cell_type": "markdown",
   "metadata": {},
   "source": [
    "<p>Note that strings are <dfn>immutable</dfn>, which means once they are created, they cannot be changed. The variable can still be reassigned another value.</p>"
   ]
  },
  {
   "cell_type": "markdown",
   "metadata": {},
   "source": [
    "<p>Change your <code>\"Hello\"</code> string to use single quotes.</p>"
   ]
  },
  {
   "cell_type": "markdown",
   "metadata": {},
   "source": [
    "**Source file link:** [pyramidGenerator_step4.js](./pyramidGenerator_step4.js)"
   ]
  },
  {
   "cell_type": "code",
   "execution_count": 246,
   "metadata": {},
   "outputs": [
    {
     "data": {
      "text/markdown": [
       "```js\n",
       "let character = 'Hello';\n",
       "```"
      ],
      "text/plain": [
       "<IPython.core.display.Markdown object>"
      ]
     },
     "metadata": {},
     "output_type": "display_data"
    }
   ],
   "source": [
    "fileName = \"pyramidGenerator_step4.js\"\n",
    "fetchAndDisplaySrcFileAsCodeBlock(fileName)"
   ]
  },
  {
   "cell_type": "markdown",
   "metadata": {},
   "source": [
    "### Execution logs: "
   ]
  },
  {
   "cell_type": "code",
   "execution_count": 247,
   "metadata": {},
   "outputs": [],
   "source": [
    "!node pyramidGenerator_step4.js"
   ]
  },
  {
   "cell_type": "markdown",
   "metadata": {},
   "source": [
    "---"
   ]
  },
  {
   "cell_type": "markdown",
   "metadata": {},
   "source": [
    "## Step5:"
   ]
  },
  {
   "cell_type": "markdown",
   "metadata": {},
   "source": [
    "<p>The <dfn>console</dfn> allows you to print and view JavaScript output. You can send information to the console using <code>console.log()</code>. For example, this code will print <code>\"Naomi\"</code> to the console:</p>"
   ]
  },
  {
   "cell_type": "markdown",
   "metadata": {},
   "source": [
    "**Example Code:**\n",
    "\n",
    "```js\n",
    "let developer = \"Naomi\";\n",
    "console.log(developer);\n",
    "```\n",
    "\n",
    "<p>The code above accesses the <code>developer</code> variable with its name in the <code>console.log()</code>. Note that the value between the parentheses is the value that will be printed.</p>"
   ]
  },
  {
   "cell_type": "markdown",
   "metadata": {},
   "source": [
    "<p>Print the value of the <code>character</code> variable to the console.</p>"
   ]
  },
  {
   "cell_type": "markdown",
   "metadata": {},
   "source": [
    "**Source file link:** [pyramidGenerator_step5.js](./pyramidGenerator_step5.js)"
   ]
  },
  {
   "cell_type": "code",
   "execution_count": 248,
   "metadata": {},
   "outputs": [
    {
     "data": {
      "text/markdown": [
       "```js\n",
       "let character = 'Hello';\n",
       "console.log(character);\n",
       "\n",
       "```"
      ],
      "text/plain": [
       "<IPython.core.display.Markdown object>"
      ]
     },
     "metadata": {},
     "output_type": "display_data"
    }
   ],
   "source": [
    "fileName = \"pyramidGenerator_step5.js\"\n",
    "fetchAndDisplaySrcFileAsCodeBlock(fileName)"
   ]
  },
  {
   "cell_type": "markdown",
   "metadata": {},
   "source": [
    "### Execution logs: "
   ]
  },
  {
   "cell_type": "code",
   "execution_count": 249,
   "metadata": {},
   "outputs": [
    {
     "name": "stdout",
     "output_type": "stream",
     "text": [
      "Hello\n"
     ]
    }
   ],
   "source": [
    "!node pyramidGenerator_step5.js"
   ]
  },
  {
   "cell_type": "markdown",
   "metadata": {},
   "source": [
    "---"
   ]
  },
  {
   "cell_type": "markdown",
   "metadata": {},
   "source": [
    "## Step6:"
   ]
  },
  {
   "cell_type": "markdown",
   "metadata": {},
   "source": [
    "<p>When a variable is declared with the <code>let</code> keyword, you can <dfn>reassign</dfn> (or change the value of) that variable later on. In this example, the value of <code>programmer</code> is changed from <code>\"Naomi\"</code> to <code>\"CamperChan\"</code>.</p>"
   ]
  },
  {
   "cell_type": "markdown",
   "metadata": {},
   "source": [
    "**Example code:**\n",
    "\n",
    "```js\n",
    "let programmer = \"Naomi\";\n",
    "programmer = \"CamperChan\";\n",
    "```\n",
    "\n",
    "<p>Note that when reassigning a variable, you do <strong>not</strong> use the <code>let</code> keyword again.</p>"
   ]
  },
  {
   "cell_type": "markdown",
   "metadata": {},
   "source": [
    "<p>After your <code>console.log</code>, assign the value <code>\"World\"</code> to your <code>character</code> variable.</p>"
   ]
  },
  {
   "cell_type": "markdown",
   "metadata": {},
   "source": [
    "**Source file link:** [pyramidGenerator_step6.js](./pyramidGenerator_step6.js)"
   ]
  },
  {
   "cell_type": "code",
   "execution_count": 250,
   "metadata": {},
   "outputs": [
    {
     "data": {
      "text/markdown": [
       "```js\n",
       "let character = 'Hello';\n",
       "console.log(character);\n",
       "character = \"World\";\n",
       "```"
      ],
      "text/plain": [
       "<IPython.core.display.Markdown object>"
      ]
     },
     "metadata": {},
     "output_type": "display_data"
    }
   ],
   "source": [
    "fileName = \"pyramidGenerator_step6.js\"\n",
    "fetchAndDisplaySrcFileAsCodeBlock(fileName)"
   ]
  },
  {
   "cell_type": "markdown",
   "metadata": {},
   "source": [
    "### Execution logs: "
   ]
  },
  {
   "cell_type": "code",
   "execution_count": 251,
   "metadata": {},
   "outputs": [
    {
     "name": "stdout",
     "output_type": "stream",
     "text": [
      "Hello\n"
     ]
    }
   ],
   "source": [
    "!node pyramidGenerator_step6.js"
   ]
  },
  {
   "cell_type": "markdown",
   "metadata": {},
   "source": [
    "---"
   ]
  },
  {
   "cell_type": "markdown",
   "metadata": {},
   "source": [
    "## Step7:"
   ]
  },
  {
   "cell_type": "markdown",
   "metadata": {},
   "source": [
    "<p>Now log your <code>character</code> variable to the console again. You should see the string <code>\"Hello\"</code>, then the string <code>\"World\"</code>, in the console.</p>"
   ]
  },
  {
   "cell_type": "markdown",
   "metadata": {},
   "source": [
    "**Source file link:** [pyramidGenerator_step7.js](./pyramidGenerator_step7.js)"
   ]
  },
  {
   "cell_type": "code",
   "execution_count": 252,
   "metadata": {},
   "outputs": [
    {
     "data": {
      "text/markdown": [
       "```js\n",
       "let character = 'Hello';\n",
       "console.log(character);\n",
       "character = \"World\";\n",
       "console.log(character);\n",
       "\n",
       "```"
      ],
      "text/plain": [
       "<IPython.core.display.Markdown object>"
      ]
     },
     "metadata": {},
     "output_type": "display_data"
    }
   ],
   "source": [
    "fileName = \"pyramidGenerator_step7.js\"\n",
    "fetchAndDisplaySrcFileAsCodeBlock(fileName)"
   ]
  },
  {
   "cell_type": "markdown",
   "metadata": {},
   "source": [
    "### Execution logs: "
   ]
  },
  {
   "cell_type": "code",
   "execution_count": 253,
   "metadata": {},
   "outputs": [
    {
     "name": "stdout",
     "output_type": "stream",
     "text": [
      "Hello\n",
      "World\n"
     ]
    }
   ],
   "source": [
    "!node pyramidGenerator_step7.js"
   ]
  },
  {
   "cell_type": "markdown",
   "metadata": {},
   "source": [
    "---"
   ]
  },
  {
   "cell_type": "markdown",
   "metadata": {},
   "source": [
    "## Step8:"
   ]
  },
  {
   "cell_type": "markdown",
   "metadata": {},
   "source": [
    "<p>When variable names are more than one word, there are specific naming conventions for how you capitalize the words. In JavaScript, the convention to use is <dfn>camel case</dfn>.</p>"
   ]
  },
  {
   "cell_type": "markdown",
   "metadata": {},
   "source": [
    "<p>Camel case means that the first word in the name is entirely lowercase, but the following words are all title-cased. Here are some examples of camel case:</p>\n",
    "\n",
    "**Example Code**\n",
    "\n",
    "```js\n",
    "let variableOne;\n",
    "let secondVariable;\n",
    "let yetAnotherVariable;\n",
    "let thisIsAnAbsurdlyLongName;\n",
    "```"
   ]
  },
  {
   "cell_type": "markdown",
   "metadata": {},
   "source": [
    "<p>Use camel case to declare a new <code>secondCharacter</code> variable.</p>"
   ]
  },
  {
   "cell_type": "markdown",
   "metadata": {},
   "source": [
    "**Source file link:** [pyramidGenerator_step8.js](./pyramidGenerator_step8.js)"
   ]
  },
  {
   "cell_type": "code",
   "execution_count": 254,
   "metadata": {},
   "outputs": [
    {
     "data": {
      "text/markdown": [
       "```js\n",
       "let character = 'Hello';\n",
       "console.log(character);\n",
       "character = \"World\";\n",
       "console.log(character);\n",
       "let secondCharacter;\n",
       "```"
      ],
      "text/plain": [
       "<IPython.core.display.Markdown object>"
      ]
     },
     "metadata": {},
     "output_type": "display_data"
    }
   ],
   "source": [
    "fileName = \"pyramidGenerator_step8.js\"\n",
    "fetchAndDisplaySrcFileAsCodeBlock(fileName)"
   ]
  },
  {
   "cell_type": "markdown",
   "metadata": {},
   "source": [
    "### Execution logs: "
   ]
  },
  {
   "cell_type": "code",
   "execution_count": 255,
   "metadata": {},
   "outputs": [
    {
     "name": "stdout",
     "output_type": "stream",
     "text": [
      "Hello\n",
      "World\n"
     ]
    }
   ],
   "source": [
    "!node pyramidGenerator_step8.js"
   ]
  },
  {
   "cell_type": "markdown",
   "metadata": {},
   "source": [
    "---"
   ]
  },
  {
   "cell_type": "markdown",
   "metadata": {},
   "source": [
    "## Step9:"
   ]
  },
  {
   "cell_type": "markdown",
   "metadata": {},
   "source": [
    "<p>When you declare a variable without initializing it, it is considered <dfn>uninitialized</dfn>. Currently, your <code>secondCharacter</code> variable is uninitialized.</p>"
   ]
  },
  {
   "cell_type": "markdown",
   "metadata": {},
   "source": [
    "<p>Add a <code>console.log()</code> to see what the value of your <code>secondCharacter</code> variable is.</p>"
   ]
  },
  {
   "cell_type": "markdown",
   "metadata": {},
   "source": [
    "**Source file link:** [pyramidGenerator_step9.js](./pyramidGenerator_step9.js)"
   ]
  },
  {
   "cell_type": "code",
   "execution_count": 256,
   "metadata": {},
   "outputs": [
    {
     "data": {
      "text/markdown": [
       "```js\n",
       "let character = 'Hello';\n",
       "console.log(character);\n",
       "character = \"World\";\n",
       "let secondCharacter;\n",
       "console.log(secondCharacter);\n",
       "\n",
       "```"
      ],
      "text/plain": [
       "<IPython.core.display.Markdown object>"
      ]
     },
     "metadata": {},
     "output_type": "display_data"
    }
   ],
   "source": [
    "fileName = \"pyramidGenerator_step9.js\"\n",
    "fetchAndDisplaySrcFileAsCodeBlock(fileName)"
   ]
  },
  {
   "cell_type": "markdown",
   "metadata": {},
   "source": [
    "### Execution logs: "
   ]
  },
  {
   "cell_type": "code",
   "execution_count": 257,
   "metadata": {},
   "outputs": [
    {
     "name": "stdout",
     "output_type": "stream",
     "text": [
      "Hello\n",
      "\u001b[90mundefined\u001b[39m\n"
     ]
    }
   ],
   "source": [
    "!node pyramidGenerator_step9.js"
   ]
  },
  {
   "cell_type": "markdown",
   "metadata": {},
   "source": [
    "---"
   ]
  },
  {
   "cell_type": "markdown",
   "metadata": {},
   "source": [
    "## Step10:"
   ]
  },
  {
   "cell_type": "markdown",
   "metadata": {},
   "source": [
    "<p>The default value of an uninitialized variable is <code>undefined</code>. This is a special data type that represents a value that does not have a definition yet.</p>"
   ]
  },
  {
   "cell_type": "markdown",
   "metadata": {},
   "source": [
    "<p>You can still assign a value to an uninitialized variable. Here is an example:</p>\n",
    "\n",
    "**Example Code**\n",
    "\n",
    "```js\n",
    "let uninitialized;\n",
    "uninitialized = \"assigned\";\n",
    "```"
   ]
  },
  {
   "cell_type": "markdown",
   "metadata": {},
   "source": [
    "<p>Assign the string <code>\"Test\"</code> to your <code>secondCharacter</code> variable below your declaration. Open the console to see how your log has changed.</p>"
   ]
  },
  {
   "cell_type": "markdown",
   "metadata": {},
   "source": [
    "**Source file link:** [pyramidGenerator_step10.js](./pyramidGenerator_step10.js)"
   ]
  },
  {
   "cell_type": "code",
   "execution_count": 258,
   "metadata": {},
   "outputs": [
    {
     "data": {
      "text/markdown": [
       "```js\n",
       "let character = 'Hello';\n",
       "console.log(character);\n",
       "character = \"World\";\n",
       "let secondCharacter;\n",
       "secondCharacter = \"Test\";\n",
       "console.log(secondCharacter);\n",
       "```"
      ],
      "text/plain": [
       "<IPython.core.display.Markdown object>"
      ]
     },
     "metadata": {},
     "output_type": "display_data"
    }
   ],
   "source": [
    "fileName = \"pyramidGenerator_step10.js\"\n",
    "fetchAndDisplaySrcFileAsCodeBlock(fileName)"
   ]
  },
  {
   "cell_type": "markdown",
   "metadata": {},
   "source": [
    "### Execution logs: "
   ]
  },
  {
   "cell_type": "code",
   "execution_count": 259,
   "metadata": {},
   "outputs": [
    {
     "name": "stdout",
     "output_type": "stream",
     "text": [
      "Hello\n",
      "Test\n"
     ]
    }
   ],
   "source": [
    "!node pyramidGenerator_step10.js"
   ]
  },
  {
   "cell_type": "markdown",
   "metadata": {},
   "source": [
    "---"
   ]
  },
  {
   "cell_type": "markdown",
   "metadata": {},
   "source": [
    "## Step11:"
   ]
  },
  {
   "cell_type": "markdown",
   "metadata": {},
   "source": [
    "<p>You can also assign the value of a variable to another variable. For example:</p>\n",
    "\n",
    "**Example Code**\n",
    "\n",
    "```js\n",
    "let first = \"One\";\n",
    "let second = \"Two\";\n",
    "second = first;\n",
    "```"
   ]
  },
  {
   "cell_type": "markdown",
   "metadata": {},
   "source": [
    "<p>The <code>second</code> variable would now have the value <code>\"One\"</code>.</p>"
   ]
  },
  {
   "cell_type": "markdown",
   "metadata": {},
   "source": [
    "<p>To see this in action, change your <code>secondCharacter</code> assignment from <code>\"Test\"</code> to your <code>character</code> variable.</p>"
   ]
  },
  {
   "cell_type": "markdown",
   "metadata": {},
   "source": [
    "**Source file link:** [pyramidGenerator_step11.js](./pyramidGenerator_step11.js)"
   ]
  },
  {
   "cell_type": "code",
   "execution_count": 260,
   "metadata": {},
   "outputs": [
    {
     "data": {
      "text/markdown": [
       "```js\n",
       "let character = 'Hello';\n",
       "console.log(character);\n",
       "character = \"World\";\n",
       "let secondCharacter;\n",
       "secondCharacter = character;\n",
       "console.log(secondCharacter);\n",
       "```"
      ],
      "text/plain": [
       "<IPython.core.display.Markdown object>"
      ]
     },
     "metadata": {},
     "output_type": "display_data"
    }
   ],
   "source": [
    "fileName = \"pyramidGenerator_step11.js\"\n",
    "fetchAndDisplaySrcFileAsCodeBlock(fileName)"
   ]
  },
  {
   "cell_type": "markdown",
   "metadata": {},
   "source": [
    "### Execution logs: "
   ]
  },
  {
   "cell_type": "code",
   "execution_count": 261,
   "metadata": {},
   "outputs": [
    {
     "name": "stdout",
     "output_type": "stream",
     "text": [
      "Hello\n",
      "World\n"
     ]
    }
   ],
   "source": [
    "!node pyramidGenerator_step11.js"
   ]
  },
  {
   "cell_type": "markdown",
   "metadata": {},
   "source": [
    "---"
   ]
  },
  {
   "cell_type": "markdown",
   "metadata": {},
   "source": [
    "## Step12:"
   ]
  },
  {
   "cell_type": "markdown",
   "metadata": {},
   "source": [
    "<p>You are now ready to declare your next variable. Remove both <code>console.log</code> statements, and the <code>character</code> reassignment.</p>"
   ]
  },
  {
   "cell_type": "markdown",
   "metadata": {},
   "source": [
    "<p>Also remove your <code>secondCharacter</code> variable, but leave the <code>character</code> initialization unchanged.</p>"
   ]
  },
  {
   "cell_type": "markdown",
   "metadata": {},
   "source": [
    "**Source file link:** [pyramidGenerator_step12.js](./pyramidGenerator_step12.js)"
   ]
  },
  {
   "cell_type": "code",
   "execution_count": 262,
   "metadata": {},
   "outputs": [
    {
     "data": {
      "text/markdown": [
       "```js\n",
       "let character = 'Hello';\n",
       "```"
      ],
      "text/plain": [
       "<IPython.core.display.Markdown object>"
      ]
     },
     "metadata": {},
     "output_type": "display_data"
    }
   ],
   "source": [
    "fileName = \"pyramidGenerator_step12.js\"\n",
    "fetchAndDisplaySrcFileAsCodeBlock(fileName)"
   ]
  },
  {
   "cell_type": "markdown",
   "metadata": {},
   "source": [
    "### Execution logs: "
   ]
  },
  {
   "cell_type": "code",
   "execution_count": 263,
   "metadata": {},
   "outputs": [],
   "source": [
    "!node pyramidGenerator_step12.js"
   ]
  },
  {
   "cell_type": "markdown",
   "metadata": {},
   "source": [
    "---"
   ]
  },
  {
   "cell_type": "markdown",
   "metadata": {},
   "source": [
    "## Step13:"
   ]
  },
  {
   "cell_type": "markdown",
   "metadata": {},
   "source": [
    "<p>Before moving forward, you should take a moment to review the concepts you have learned.</p>"
   ]
  },
  {
   "cell_type": "markdown",
   "metadata": {},
   "source": [
    "<p>Use the <code>let</code> keyword to declare a <code>profession</code> variable and an <code>age</code> variable. Initialize <code>profession</code> with the string <code>\"teacher\"</code>, but do not initialize <code>age</code> with any value.</p>"
   ]
  },
  {
   "cell_type": "markdown",
   "metadata": {},
   "source": [
    "<p>Log both of your variables to the console to see the results.</p>"
   ]
  },
  {
   "cell_type": "markdown",
   "metadata": {},
   "source": [
    "**Source file link:** [pyramidGenerator_step13.js](./pyramidGenerator_step13.js)"
   ]
  },
  {
   "cell_type": "code",
   "execution_count": 264,
   "metadata": {},
   "outputs": [
    {
     "data": {
      "text/markdown": [
       "```js\n",
       "let character = \"Hello\";\n",
       "let profession = \"teacher\"\n",
       "let age;\n",
       "\n",
       "console.log(profession);\n",
       "console.log(age);\n",
       "\n",
       "\n",
       "```"
      ],
      "text/plain": [
       "<IPython.core.display.Markdown object>"
      ]
     },
     "metadata": {},
     "output_type": "display_data"
    }
   ],
   "source": [
    "fileName = \"pyramidGenerator_step13.js\"\n",
    "fetchAndDisplaySrcFileAsCodeBlock(fileName)"
   ]
  },
  {
   "cell_type": "markdown",
   "metadata": {},
   "source": [
    "### Execution logs: "
   ]
  },
  {
   "cell_type": "code",
   "execution_count": 265,
   "metadata": {},
   "outputs": [
    {
     "name": "stdout",
     "output_type": "stream",
     "text": [
      "teacher\n",
      "\u001b[90mundefined\u001b[39m\n"
     ]
    }
   ],
   "source": [
    "!node pyramidGenerator_step13.js"
   ]
  },
  {
   "cell_type": "markdown",
   "metadata": {},
   "source": [
    "---"
   ]
  },
  {
   "cell_type": "markdown",
   "metadata": {},
   "source": [
    "## Step14:"
   ]
  },
  {
   "cell_type": "markdown",
   "metadata": {},
   "source": [
    "<p>Now that you have reviewed declaration and initialization, remove the code you wrote for your review.</p>"
   ]
  },
  {
   "cell_type": "markdown",
   "metadata": {},
   "source": [
    "<p>Do not remove your <code>character</code> variable.</p>"
   ]
  },
  {
   "cell_type": "markdown",
   "metadata": {},
   "source": [
    "**Source file link:** [pyramidGenerator_step14.js](./pyramidGenerator_step14.js)"
   ]
  },
  {
   "cell_type": "code",
   "execution_count": 266,
   "metadata": {},
   "outputs": [
    {
     "data": {
      "text/markdown": [
       "```js\n",
       "let character = \"Hello\";\n",
       "```"
      ],
      "text/plain": [
       "<IPython.core.display.Markdown object>"
      ]
     },
     "metadata": {},
     "output_type": "display_data"
    }
   ],
   "source": [
    "fileName = \"pyramidGenerator_step14.js\"\n",
    "fetchAndDisplaySrcFileAsCodeBlock(fileName)"
   ]
  },
  {
   "cell_type": "markdown",
   "metadata": {},
   "source": [
    "### Execution logs: "
   ]
  },
  {
   "cell_type": "code",
   "execution_count": 267,
   "metadata": {},
   "outputs": [],
   "source": [
    "!node pyramidGenerator_step14.js"
   ]
  },
  {
   "cell_type": "markdown",
   "metadata": {},
   "source": [
    "---"
   ]
  },
  {
   "cell_type": "markdown",
   "metadata": {},
   "source": [
    "## Step15:"
   ]
  },
  {
   "cell_type": "markdown",
   "metadata": {},
   "source": [
    "<p>Use <code>let</code> to declare a <code>count</code> variable. Assign it the <dfn>number</dfn> <code>8</code>. When using a number value, you do not use quotes. For example:</p>\n",
    "\n",
    "**Example Code**\n",
    "\n",
    "```jc\n",
    "let money = 100;\n",
    "```"
   ]
  },
  {
   "cell_type": "markdown",
   "metadata": {},
   "source": [
    "**Source file link:** [pyramidGenerator_step15.js](./pyramidGenerator_step15.js)"
   ]
  },
  {
   "cell_type": "code",
   "execution_count": 268,
   "metadata": {},
   "outputs": [
    {
     "data": {
      "text/markdown": [
       "```js\n",
       "let character = \"Hello\";\n",
       "let count = 8;\n",
       "```"
      ],
      "text/plain": [
       "<IPython.core.display.Markdown object>"
      ]
     },
     "metadata": {},
     "output_type": "display_data"
    }
   ],
   "source": [
    "fileName = \"pyramidGenerator_step15.js\"\n",
    "fetchAndDisplaySrcFileAsCodeBlock(fileName)"
   ]
  },
  {
   "cell_type": "markdown",
   "metadata": {},
   "source": [
    "### Execution logs: "
   ]
  },
  {
   "cell_type": "code",
   "execution_count": 269,
   "metadata": {},
   "outputs": [],
   "source": [
    "!node pyramidGenerator_step15.js"
   ]
  },
  {
   "cell_type": "markdown",
   "metadata": {},
   "source": [
    "---"
   ]
  },
  {
   "cell_type": "markdown",
   "metadata": {},
   "source": [
    "## Step16:"
   ]
  },
  {
   "cell_type": "markdown",
   "metadata": {},
   "source": [
    "<p>With the <code>number</code> data type, you can perform mathematical operations, like addition. Try printing <code>count + 1</code> to the console.</p>"
   ]
  },
  {
   "cell_type": "markdown",
   "metadata": {},
   "source": [
    "**Source file link:** [pyramidGenerator_step16.js](./pyramidGenerator_step16.js)"
   ]
  },
  {
   "cell_type": "code",
   "execution_count": 270,
   "metadata": {},
   "outputs": [
    {
     "data": {
      "text/markdown": [
       "```js\n",
       "let character = \"Hello\";\n",
       "let count = 8;\n",
       "console.log(count + 1);\n",
       "\n",
       "```"
      ],
      "text/plain": [
       "<IPython.core.display.Markdown object>"
      ]
     },
     "metadata": {},
     "output_type": "display_data"
    }
   ],
   "source": [
    "fileName = \"pyramidGenerator_step16.js\"\n",
    "fetchAndDisplaySrcFileAsCodeBlock(fileName)"
   ]
  },
  {
   "cell_type": "markdown",
   "metadata": {},
   "source": [
    "### Execution logs: "
   ]
  },
  {
   "cell_type": "code",
   "execution_count": 271,
   "metadata": {},
   "outputs": [
    {
     "name": "stdout",
     "output_type": "stream",
     "text": [
      "\u001b[33m9\u001b[39m\n"
     ]
    }
   ],
   "source": [
    "!node pyramidGenerator_step16.js"
   ]
  },
  {
   "cell_type": "markdown",
   "metadata": {},
   "source": [
    "---"
   ]
  },
  {
   "cell_type": "markdown",
   "metadata": {},
   "source": [
    "## Step17:"
   ]
  },
  {
   "cell_type": "markdown",
   "metadata": {},
   "source": [
    "<p>You can also perform subtraction (<code>-</code>), multiplication (<code>*</code>), and division (<code>/</code>). Feel free to experiment with the operators and numbers in your <code>console.log</code>. When you are ready to move on, remove the <code>console.log</code>.</p>"
   ]
  },
  {
   "cell_type": "markdown",
   "metadata": {},
   "source": [
    "**Source file link:** [pyramidGenerator_step17.js](./pyramidGenerator_step17.js)"
   ]
  },
  {
   "cell_type": "code",
   "execution_count": 272,
   "metadata": {},
   "outputs": [
    {
     "data": {
      "text/markdown": [
       "```js\n",
       "let character = \"Hello\";\n",
       "let count = 8;\n",
       "\n",
       "```"
      ],
      "text/plain": [
       "<IPython.core.display.Markdown object>"
      ]
     },
     "metadata": {},
     "output_type": "display_data"
    }
   ],
   "source": [
    "fileName = \"pyramidGenerator_step17.js\"\n",
    "fetchAndDisplaySrcFileAsCodeBlock(fileName)"
   ]
  },
  {
   "cell_type": "markdown",
   "metadata": {},
   "source": [
    "### Execution logs: "
   ]
  },
  {
   "cell_type": "code",
   "execution_count": 273,
   "metadata": {},
   "outputs": [],
   "source": [
    "!node pyramidGenerator_step17.js"
   ]
  },
  {
   "cell_type": "markdown",
   "metadata": {},
   "source": [
    "---"
   ]
  },
  {
   "cell_type": "markdown",
   "metadata": {},
   "source": [
    "## Step18:"
   ]
  },
  {
   "cell_type": "markdown",
   "metadata": {},
   "source": [
    "<p>In programming, you will often need to work with lots of data. There are many data structures that can help you organize and manage your data. One of the most basic data structures is an <dfn>array</dfn>.</p>"
   ]
  },
  {
   "cell_type": "markdown",
   "metadata": {},
   "source": [
    "<p>An <dfn>array</dfn> is a non-primitive data type that can hold a series of values. Non-primitive data types differ from primitive data types in that they can hold more complex data. Primitive data types like strings and numbers can only hold one value at a time.</p>"
   ]
  },
  {
   "cell_type": "markdown",
   "metadata": {},
   "source": [
    "<p>Arrays are denoted using square brackets (<code>[]</code>). Here is an example of a variable with the value of an empty array:</p>\n",
    "\n",
    "**Example Code**\n",
    "\n",
    "```js\n",
    "let array = [];\n",
    "```"
   ]
  },
  {
   "cell_type": "markdown",
   "metadata": {},
   "source": [
    "<p>Declare a <code>rows</code> variable and assign it an empty array.</p>"
   ]
  },
  {
   "cell_type": "markdown",
   "metadata": {},
   "source": [
    "**Source file link:** [pyramidGenerator_step18.js](./pyramidGenerator_step18.js)"
   ]
  },
  {
   "cell_type": "code",
   "execution_count": 274,
   "metadata": {},
   "outputs": [
    {
     "data": {
      "text/markdown": [
       "```js\n",
       "let character = \"Hello\";\n",
       "let count = 8;\n",
       "let rows = [];\n",
       "```"
      ],
      "text/plain": [
       "<IPython.core.display.Markdown object>"
      ]
     },
     "metadata": {},
     "output_type": "display_data"
    }
   ],
   "source": [
    "fileName = \"pyramidGenerator_step18.js\"\n",
    "fetchAndDisplaySrcFileAsCodeBlock(fileName)"
   ]
  },
  {
   "cell_type": "markdown",
   "metadata": {},
   "source": [
    "### Execution logs: "
   ]
  },
  {
   "cell_type": "code",
   "execution_count": 275,
   "metadata": {},
   "outputs": [],
   "source": [
    "!node pyramidGenerator_step18.js"
   ]
  },
  {
   "cell_type": "markdown",
   "metadata": {},
   "source": [
    "---"
   ]
  },
  {
   "cell_type": "markdown",
   "metadata": {},
   "source": [
    "## Step19:"
   ]
  },
  {
   "cell_type": "markdown",
   "metadata": {},
   "source": [
    "<p>When an array holds values, or <dfn>elements</dfn>, those values are separated by commas. Here is an array that holds two strings:</p>\n",
    "\n",
    "**Example Code**\n",
    "\n",
    "```js\n",
    "let array = [\"first\", \"second\"]\n",
    "```"
   ]
  },
  {
   "cell_type": "markdown",
   "metadata": {},
   "source": [
    "<p>Change your <code>rows</code> declaration to be an array with the strings <code>\"Naomi\"</code>, <code>\"Quincy\"</code>, and <code>\"CamperChan\"</code>. The order of values in an array is important, so follow that order. Remember that strings are case-sensitive.</p>"
   ]
  },
  {
   "cell_type": "markdown",
   "metadata": {},
   "source": [
    "**Source file link:** [pyramidGenerator_step19.js](./pyramidGenerator_step19.js)"
   ]
  },
  {
   "cell_type": "code",
   "execution_count": 276,
   "metadata": {},
   "outputs": [
    {
     "data": {
      "text/markdown": [
       "```js\n",
       "let character = \"Hello\";\n",
       "let count = 8;\n",
       "let rows = [\"Naomi\", \"Quincy\", \"CamperChan\"];\n",
       "```"
      ],
      "text/plain": [
       "<IPython.core.display.Markdown object>"
      ]
     },
     "metadata": {},
     "output_type": "display_data"
    }
   ],
   "source": [
    "fileName = \"pyramidGenerator_step19.js\"\n",
    "fetchAndDisplaySrcFileAsCodeBlock(fileName)"
   ]
  },
  {
   "cell_type": "markdown",
   "metadata": {},
   "source": [
    "### Execution logs: "
   ]
  },
  {
   "cell_type": "code",
   "execution_count": 277,
   "metadata": {},
   "outputs": [],
   "source": [
    "!node pyramidGenerator_step19.js"
   ]
  },
  {
   "cell_type": "markdown",
   "metadata": {},
   "source": [
    "---"
   ]
  },
  {
   "cell_type": "markdown",
   "metadata": {},
   "source": [
    "## Step20:"
   ]
  },
  {
   "cell_type": "markdown",
   "metadata": {},
   "source": [
    "<p>You can access the values inside an array using the <dfn>index</dfn> of the value. An index is a number representing the position of the value in the array, starting from <code>0</code> for the first value.</p>"
   ]
  },
  {
   "cell_type": "markdown",
   "metadata": {},
   "source": [
    "<p>You can access the value using <dfn>bracket notation</dfn>, such as <code>array[0]</code>.</p>"
   ]
  },
  {
   "cell_type": "markdown",
   "metadata": {},
   "source": [
    "<p>Use <code>console.log</code> and bracket notation to print the first value in your <code>rows</code> array.</p>"
   ]
  },
  {
   "cell_type": "markdown",
   "metadata": {},
   "source": [
    "**Source file link:** [pyramidGenerator_step20.js](./pyramidGenerator_step20.js)"
   ]
  },
  {
   "cell_type": "code",
   "execution_count": 278,
   "metadata": {},
   "outputs": [
    {
     "data": {
      "text/markdown": [
       "```js\n",
       "let character = \"Hello\";\n",
       "let count = 8;\n",
       "let rows = [\"Naomi\", \"Quincy\", \"CamperChan\"];\n",
       "console.log(rows[0]);\n",
       "\n",
       "```"
      ],
      "text/plain": [
       "<IPython.core.display.Markdown object>"
      ]
     },
     "metadata": {},
     "output_type": "display_data"
    }
   ],
   "source": [
    "fileName = \"pyramidGenerator_step20.js\"\n",
    "fetchAndDisplaySrcFileAsCodeBlock(fileName)"
   ]
  },
  {
   "cell_type": "markdown",
   "metadata": {},
   "source": [
    "### Execution logs: "
   ]
  },
  {
   "cell_type": "code",
   "execution_count": 279,
   "metadata": {},
   "outputs": [
    {
     "name": "stdout",
     "output_type": "stream",
     "text": [
      "Naomi\n"
     ]
    }
   ],
   "source": [
    "!node pyramidGenerator_step20.js"
   ]
  },
  {
   "cell_type": "markdown",
   "metadata": {},
   "source": [
    "---"
   ]
  },
  {
   "cell_type": "markdown",
   "metadata": {},
   "source": [
    "## Step21:"
   ]
  },
  {
   "cell_type": "markdown",
   "metadata": {},
   "source": [
    "<p>Arrays are special in that they are considered <dfn>mutable</dfn>. This means you can change the value at an index directly.</p>"
   ]
  },
  {
   "cell_type": "markdown",
   "metadata": {},
   "source": [
    "<p>For example, this code would assign the number <code>25</code> to the second element in the array:</p>\n",
    "\n",
    "**Example Code**\n",
    "\n",
    "```js\n",
    "let array = [1, 2, 3];\n",
    "array[1] = 25;\n",
    "console.log(array); // prints [1, 25, 3]\n",
    "```"
   ]
  },
  {
   "cell_type": "markdown",
   "metadata": {},
   "source": [
    "<p>Update the <strong>third</strong> element of your <code>rows</code> array to be the number <code>10</code>. Then print the <code>rows</code> array to your console.</p>"
   ]
  },
  {
   "cell_type": "markdown",
   "metadata": {},
   "source": [
    "**Source file link:** [pyramidGenerator_step21.js](./pyramidGenerator_step21.js)"
   ]
  },
  {
   "cell_type": "code",
   "execution_count": 280,
   "metadata": {},
   "outputs": [
    {
     "data": {
      "text/markdown": [
       "```js\n",
       "let character = \"Hello\";\n",
       "let count = 8;\n",
       "let rows = [\"Naomi\", \"Quincy\", \"CamperChan\"];\n",
       "console.log(rows[0]);\n",
       "rows[2] = 10;\n",
       "console.log(rows);\n",
       "\n",
       "```"
      ],
      "text/plain": [
       "<IPython.core.display.Markdown object>"
      ]
     },
     "metadata": {},
     "output_type": "display_data"
    }
   ],
   "source": [
    "fileName = \"pyramidGenerator_step21.js\"\n",
    "fetchAndDisplaySrcFileAsCodeBlock(fileName)"
   ]
  },
  {
   "cell_type": "markdown",
   "metadata": {},
   "source": [
    "### Execution logs: "
   ]
  },
  {
   "cell_type": "code",
   "execution_count": 281,
   "metadata": {},
   "outputs": [
    {
     "name": "stdout",
     "output_type": "stream",
     "text": [
      "Naomi\n",
      "[ \u001b[32m'Naomi'\u001b[39m, \u001b[32m'Quincy'\u001b[39m, \u001b[33m10\u001b[39m ]\n"
     ]
    }
   ],
   "source": [
    "!node pyramidGenerator_step21.js"
   ]
  },
  {
   "cell_type": "markdown",
   "metadata": {},
   "source": [
    "---"
   ]
  },
  {
   "cell_type": "markdown",
   "metadata": {},
   "source": [
    "## Step22:"
   ]
  },
  {
   "cell_type": "markdown",
   "metadata": {},
   "source": [
    "<p>Notice how the value inside your <code>rows</code> array has been changed directly? This is called <dfn>mutation</dfn>. As you learn more about arrays, you will learn when to mutate an array, and when you should not.</p>"
   ]
  },
  {
   "cell_type": "markdown",
   "metadata": {},
   "source": [
    "<p>Before moving on, this is a great opportunity to learn a common array use. Currently, your code accesses the last element in the array with <code>rows[2]</code>. But you may not know how many elements are in an array when you want the last one.</p>"
   ]
  },
  {
   "cell_type": "markdown",
   "metadata": {},
   "source": [
    "<p>You can make use of the <code>.length</code> property of an array - this returns the number of elements in the array. To get the last element of any array, you can use the following syntax:</p>\n",
    "\n",
    "**Example Code**\n",
    "\n",
    "```js\n",
    "array[array.length - 1]\n",
    "```"
   ]
  },
  {
   "cell_type": "markdown",
   "metadata": {},
   "source": [
    "<p><code>array.length</code> returns the number of elements in the array. By subtracting <code>1</code>, you get the index of the last element in the array. You can apply this same concept to your <code>rows</code> array.</p>"
   ]
  },
  {
   "cell_type": "markdown",
   "metadata": {},
   "source": [
    "<p>Update your <code>rows[2]</code> to dynamically access the last element in the <code>rows</code> array. Refer to the example above to help you.</p>"
   ]
  },
  {
   "cell_type": "markdown",
   "metadata": {},
   "source": [
    "<p>You should not see anything change in your console.</p>"
   ]
  },
  {
   "cell_type": "markdown",
   "metadata": {},
   "source": [
    "**Source file link:** [pyramidGenerator_step22.js](./pyramidGenerator_step22.js)"
   ]
  },
  {
   "cell_type": "code",
   "execution_count": 282,
   "metadata": {},
   "outputs": [
    {
     "data": {
      "text/markdown": [
       "```js\n",
       "let character = \"Hello\";\n",
       "let count = 8;\n",
       "let rows = [\"Naomi\", \"Quincy\", \"CamperChan\"];\n",
       "console.log(rows[0]);\n",
       "rows[rows.length - 1] = 10;\n",
       "console.log(rows);\n",
       "\n",
       "```"
      ],
      "text/plain": [
       "<IPython.core.display.Markdown object>"
      ]
     },
     "metadata": {},
     "output_type": "display_data"
    }
   ],
   "source": [
    "fileName = \"pyramidGenerator_step22.js\"\n",
    "fetchAndDisplaySrcFileAsCodeBlock(fileName)"
   ]
  },
  {
   "cell_type": "markdown",
   "metadata": {},
   "source": [
    "### Execution logs: "
   ]
  },
  {
   "cell_type": "code",
   "execution_count": 283,
   "metadata": {},
   "outputs": [
    {
     "name": "stdout",
     "output_type": "stream",
     "text": [
      "Naomi\n",
      "[ \u001b[32m'Naomi'\u001b[39m, \u001b[32m'Quincy'\u001b[39m, \u001b[33m10\u001b[39m ]\n"
     ]
    }
   ],
   "source": [
    "!node pyramidGenerator_step22.js"
   ]
  },
  {
   "cell_type": "markdown",
   "metadata": {},
   "source": [
    "---"
   ]
  },
  {
   "cell_type": "markdown",
   "metadata": {},
   "source": [
    "## Step23:"
   ]
  },
  {
   "cell_type": "markdown",
   "metadata": {},
   "source": [
    "<p>For now, remove your first console log and your <code>rows[rows.length - 1]</code> assignment. Leave the second <code>rows</code> log statement for later.</p>"
   ]
  },
  {
   "cell_type": "markdown",
   "metadata": {},
   "source": [
    "**Source file link:** [pyramidGenerator_step23.js](./pyramidGenerator_step23.js)"
   ]
  },
  {
   "cell_type": "code",
   "execution_count": 284,
   "metadata": {},
   "outputs": [
    {
     "data": {
      "text/markdown": [
       "```js\n",
       "let character = \"Hello\";\n",
       "let count = 8;\n",
       "let rows = [\"Naomi\", \"Quincy\", \"CamperChan\"];\n",
       "console.log(rows);\n",
       "\n",
       "```"
      ],
      "text/plain": [
       "<IPython.core.display.Markdown object>"
      ]
     },
     "metadata": {},
     "output_type": "display_data"
    }
   ],
   "source": [
    "fileName = \"pyramidGenerator_step23.js\"\n",
    "fetchAndDisplaySrcFileAsCodeBlock(fileName)"
   ]
  },
  {
   "cell_type": "markdown",
   "metadata": {},
   "source": [
    "### Execution logs: "
   ]
  },
  {
   "cell_type": "code",
   "execution_count": 285,
   "metadata": {},
   "outputs": [
    {
     "name": "stdout",
     "output_type": "stream",
     "text": [
      "[ \u001b[32m'Naomi'\u001b[39m, \u001b[32m'Quincy'\u001b[39m, \u001b[32m'CamperChan'\u001b[39m ]\n"
     ]
    }
   ],
   "source": [
    "!node pyramidGenerator_step23.js"
   ]
  },
  {
   "cell_type": "markdown",
   "metadata": {},
   "source": [
    "---"
   ]
  },
  {
   "cell_type": "markdown",
   "metadata": {},
   "source": [
    "## Step24:"
   ]
  },
  {
   "cell_type": "markdown",
   "metadata": {},
   "source": [
    "<p>In the last few steps, you learned all about working with arrays. Take a moment to review what you have learned.</p>"
   ]
  },
  {
   "cell_type": "markdown",
   "metadata": {},
   "source": [
    "<p>Start by declaring a <code>cities</code> variable and initializing it as an array of the strings <code>\"London\"</code>, <code>\"New York\"</code>, and <code>\"Mumbai\"</code>. Then log that variable to the console.</p>"
   ]
  },
  {
   "cell_type": "markdown",
   "metadata": {},
   "source": [
    "<p>After logging, change the last element of <code>cities</code> to the string <code>\"Mexico City\"</code>, then log the <code>cities</code> variable again.</p>"
   ]
  },
  {
   "cell_type": "markdown",
   "metadata": {},
   "source": [
    "<p>When done correctly, you should see this output in the console.</p>\n",
    "\n",
    "**Example Code**\n",
    "\n",
    "```\n",
    "[ \"London\", \"New York\", \"Mumbai\" ]\n",
    "[ \"London\", \"New York\", \"Mexico City\" ]\n",
    "```"
   ]
  },
  {
   "cell_type": "markdown",
   "metadata": {},
   "source": [
    "**Source file link:** [pyramidGenerator_step24.js](./pyramidGenerator_step24.js)"
   ]
  },
  {
   "cell_type": "code",
   "execution_count": 286,
   "metadata": {},
   "outputs": [
    {
     "data": {
      "text/markdown": [
       "```js\n",
       "let character = \"Hello\";\n",
       "let count = 8;\n",
       "let rows = [\"Naomi\", \"Quincy\", \"CamperChan\"];\n",
       "console.log(rows);\n",
       "let cities = [\"London\", \"New York\", \"Mumbai\"];\n",
       "console.log(cities);\n",
       "cities[cities.length - 1] = \"Mexico City\";\n",
       "console.log(cities);\n",
       "\n",
       "```"
      ],
      "text/plain": [
       "<IPython.core.display.Markdown object>"
      ]
     },
     "metadata": {},
     "output_type": "display_data"
    }
   ],
   "source": [
    "fileName = \"pyramidGenerator_step24.js\"\n",
    "fetchAndDisplaySrcFileAsCodeBlock(fileName)"
   ]
  },
  {
   "cell_type": "markdown",
   "metadata": {},
   "source": [
    "### Execution logs: "
   ]
  },
  {
   "cell_type": "code",
   "execution_count": 287,
   "metadata": {},
   "outputs": [
    {
     "name": "stdout",
     "output_type": "stream",
     "text": [
      "[ \u001b[32m'Naomi'\u001b[39m, \u001b[32m'Quincy'\u001b[39m, \u001b[32m'CamperChan'\u001b[39m ]\n",
      "[ \u001b[32m'London'\u001b[39m, \u001b[32m'New York'\u001b[39m, \u001b[32m'Mumbai'\u001b[39m ]\n",
      "[ \u001b[32m'London'\u001b[39m, \u001b[32m'New York'\u001b[39m, \u001b[32m'Mexico City'\u001b[39m ]\n"
     ]
    }
   ],
   "source": [
    "!node pyramidGenerator_step24.js"
   ]
  },
  {
   "cell_type": "markdown",
   "metadata": {},
   "source": [
    "---"
   ]
  },
  {
   "cell_type": "markdown",
   "metadata": {},
   "source": [
    "## Step25:"
   ]
  },
  {
   "cell_type": "markdown",
   "metadata": {},
   "source": [
    "<p>Now you are ready to move onto the next set of array lessons.</p>"
   ]
  },
  {
   "cell_type": "markdown",
   "metadata": {},
   "source": [
    "<p>Remove all of your code from the previous step.</p>"
   ]
  },
  {
   "cell_type": "markdown",
   "metadata": {},
   "source": [
    "**Source file link:** [pyramidGenerator_step25.js](./pyramidGenerator_step25.js)"
   ]
  },
  {
   "cell_type": "code",
   "execution_count": 288,
   "metadata": {},
   "outputs": [
    {
     "data": {
      "text/markdown": [
       "```js\n",
       "let character = \"Hello\";\n",
       "let count = 8;\n",
       "let rows = [\"Naomi\", \"Quincy\", \"CamperChan\"];\n",
       "console.log(rows);\n",
       "```"
      ],
      "text/plain": [
       "<IPython.core.display.Markdown object>"
      ]
     },
     "metadata": {},
     "output_type": "display_data"
    }
   ],
   "source": [
    "fileName = \"pyramidGenerator_step25.js\"\n",
    "fetchAndDisplaySrcFileAsCodeBlock(fileName)"
   ]
  },
  {
   "cell_type": "markdown",
   "metadata": {},
   "source": [
    "### Execution logs: "
   ]
  },
  {
   "cell_type": "code",
   "execution_count": 289,
   "metadata": {},
   "outputs": [
    {
     "name": "stdout",
     "output_type": "stream",
     "text": [
      "[ \u001b[32m'Naomi'\u001b[39m, \u001b[32m'Quincy'\u001b[39m, \u001b[32m'CamperChan'\u001b[39m ]\n"
     ]
    }
   ],
   "source": [
    "!node pyramidGenerator_step25.js"
   ]
  },
  {
   "cell_type": "markdown",
   "metadata": {},
   "source": [
    "---"
   ]
  },
  {
   "cell_type": "markdown",
   "metadata": {},
   "source": [
    "## Step26:"
   ]
  },
  {
   "cell_type": "markdown",
   "metadata": {},
   "source": [
    "<p>A <dfn>method</dfn> in JavaScript is a function that's associated with certain values or objects. An example you've already encountered is the <code>.log()</code> method, which is part of the <code>console</code> object.</p>"
   ]
  },
  {
   "cell_type": "markdown",
   "metadata": {},
   "source": [
    "<p>Arrays have their own methods, and the first you will explore is the <code>.push()</code> method. This allows you to \"push\" a value to the end of an array. Here is an example to add the number <code>12</code> to the end of an array:</p>\n",
    "\n",
    "**Example Code**\n",
    "\n",
    "```js\n",
    "array.push(12);\n",
    "```"
   ]
  },
  {
   "cell_type": "markdown",
   "metadata": {},
   "source": [
    "<p>Use <code>.push()</code> to add the string <code>\"freeCodeCamp\"</code> to the end of your <code>rows</code> array. Add this code before your <code>console.log</code> so you can see the change you made to your array.</p>"
   ]
  },
  {
   "cell_type": "markdown",
   "metadata": {},
   "source": [
    "**Source file link:** [pyramidGenerator_step26.js](./pyramidGenerator_step26.js)"
   ]
  },
  {
   "cell_type": "code",
   "execution_count": 290,
   "metadata": {},
   "outputs": [
    {
     "data": {
      "text/markdown": [
       "```js\n",
       "let character = \"Hello\";\n",
       "let count = 8;\n",
       "let rows = [\"Naomi\", \"Quincy\", \"CamperChan\"];\n",
       "rows.push(\"freeCodeCamp\");\n",
       "console.log(rows);\n",
       "```"
      ],
      "text/plain": [
       "<IPython.core.display.Markdown object>"
      ]
     },
     "metadata": {},
     "output_type": "display_data"
    }
   ],
   "source": [
    "fileName = \"pyramidGenerator_step26.js\"\n",
    "fetchAndDisplaySrcFileAsCodeBlock(fileName)"
   ]
  },
  {
   "cell_type": "markdown",
   "metadata": {},
   "source": [
    "### Execution logs: "
   ]
  },
  {
   "cell_type": "code",
   "execution_count": 291,
   "metadata": {},
   "outputs": [
    {
     "name": "stdout",
     "output_type": "stream",
     "text": [
      "[ \u001b[32m'Naomi'\u001b[39m, \u001b[32m'Quincy'\u001b[39m, \u001b[32m'CamperChan'\u001b[39m, \u001b[32m'freeCodeCamp'\u001b[39m ]\n"
     ]
    }
   ],
   "source": [
    "!node pyramidGenerator_step26.js"
   ]
  },
  {
   "cell_type": "markdown",
   "metadata": {},
   "source": [
    "---"
   ]
  },
  {
   "cell_type": "markdown",
   "metadata": {},
   "source": [
    "## Step27:"
   ]
  },
  {
   "cell_type": "markdown",
   "metadata": {},
   "source": [
    "<p>Another method essential for this project is the <code>.pop()</code> method. It removes the last element from an array and <dfn>returns</dfn> that element.</p>"
   ]
  },
  {
   "cell_type": "markdown",
   "metadata": {},
   "source": [
    "<p>When a method returns a value, you can think of it as giving the value back to you, making it available for use in other parts of your code.</p>"
   ]
  },
  {
   "cell_type": "markdown",
   "metadata": {},
   "source": [
    "<p>Create a new variable called <code>popped</code> and assign it the result of <code>rows.pop()</code>. Then, log <code>popped</code> to the console.</p>"
   ]
  },
  {
   "cell_type": "markdown",
   "metadata": {},
   "source": [
    "**Source file link:** [pyramidGenerator_step27.js](./pyramidGenerator_step27.js)"
   ]
  },
  {
   "cell_type": "code",
   "execution_count": 292,
   "metadata": {},
   "outputs": [
    {
     "data": {
      "text/markdown": [
       "```js\n",
       "let character = \"Hello\";\n",
       "let count = 8;\n",
       "let rows = [\"Naomi\", \"Quincy\", \"CamperChan\"];\n",
       "rows.push(\"freeCodeCamp\");\n",
       "let popped = rows.pop();\n",
       "console.log(popped);\n",
       "console.log(rows);\n",
       "\n",
       "```"
      ],
      "text/plain": [
       "<IPython.core.display.Markdown object>"
      ]
     },
     "metadata": {},
     "output_type": "display_data"
    }
   ],
   "source": [
    "fileName = \"pyramidGenerator_step27.js\"\n",
    "fetchAndDisplaySrcFileAsCodeBlock(fileName)"
   ]
  },
  {
   "cell_type": "markdown",
   "metadata": {},
   "source": [
    "### Execution logs: "
   ]
  },
  {
   "cell_type": "code",
   "execution_count": 293,
   "metadata": {},
   "outputs": [
    {
     "name": "stdout",
     "output_type": "stream",
     "text": [
      "freeCodeCamp\n",
      "[ \u001b[32m'Naomi'\u001b[39m, \u001b[32m'Quincy'\u001b[39m, \u001b[32m'CamperChan'\u001b[39m ]\n"
     ]
    }
   ],
   "source": [
    "!node pyramidGenerator_step27.js"
   ]
  },
  {
   "cell_type": "markdown",
   "metadata": {},
   "source": [
    "---"
   ]
  },
  {
   "cell_type": "markdown",
   "metadata": {},
   "source": [
    "## Step28:"
   ]
  },
  {
   "cell_type": "markdown",
   "metadata": {},
   "source": [
    "<p>You should have seen <code>\"freeCodeCamp\"</code> printed to the console. This is because <code>.pop()</code> returns the value that was removed from the array - and you pushed <code>\"freeCodeCamp\"</code> to the end of the array earlier.</p>"
   ]
  },
  {
   "cell_type": "markdown",
   "metadata": {},
   "source": [
    "<p>But what does <code>.push()</code> return? Assign your existing <code>rows.push()</code> to a new <code>pushed</code> variable, and log it.</p>"
   ]
  },
  {
   "cell_type": "markdown",
   "metadata": {},
   "source": [
    "**Source file link:** [pyramidGenerator_step28.js](./pyramidGenerator_step28.js)"
   ]
  },
  {
   "cell_type": "code",
   "execution_count": 294,
   "metadata": {},
   "outputs": [
    {
     "data": {
      "text/markdown": [
       "```js\n",
       "let character = \"Hello\";\n",
       "let count = 8;\n",
       "let rows = [\"Naomi\", \"Quincy\", \"CamperChan\"];\n",
       "rows.push(\"freeCodeCamp\");\n",
       "let popped = rows.pop();\n",
       "console.log(popped);\n",
       "console.log(rows);\n",
       "let pushed = rows.push(\"freeCodeCamp\");\n",
       "console.log(pushed);\n",
       "console.log(rows);\n",
       "\n",
       "```"
      ],
      "text/plain": [
       "<IPython.core.display.Markdown object>"
      ]
     },
     "metadata": {},
     "output_type": "display_data"
    }
   ],
   "source": [
    "fileName = \"pyramidGenerator_step28.js\"\n",
    "fetchAndDisplaySrcFileAsCodeBlock(fileName)"
   ]
  },
  {
   "cell_type": "markdown",
   "metadata": {},
   "source": [
    "### Execution logs: "
   ]
  },
  {
   "cell_type": "code",
   "execution_count": 295,
   "metadata": {},
   "outputs": [
    {
     "name": "stdout",
     "output_type": "stream",
     "text": [
      "freeCodeCamp\n",
      "[ \u001b[32m'Naomi'\u001b[39m, \u001b[32m'Quincy'\u001b[39m, \u001b[32m'CamperChan'\u001b[39m ]\n",
      "\u001b[33m4\u001b[39m\n",
      "[ \u001b[32m'Naomi'\u001b[39m, \u001b[32m'Quincy'\u001b[39m, \u001b[32m'CamperChan'\u001b[39m, \u001b[32m'freeCodeCamp'\u001b[39m ]\n"
     ]
    }
   ],
   "source": [
    "!node pyramidGenerator_step28.js"
   ]
  },
  {
   "cell_type": "markdown",
   "metadata": {},
   "source": [
    "---"
   ]
  },
  {
   "cell_type": "markdown",
   "metadata": {},
   "source": [
    "## Step29:"
   ]
  },
  {
   "cell_type": "markdown",
   "metadata": {},
   "source": [
    "<p>Were you expecting to see <code>4</code> in the console? <code>.push()</code> returns the new length of the array, after adding the value you give it.</p>"
   ]
  },
  {
   "cell_type": "markdown",
   "metadata": {},
   "source": [
    "<p>It is important to be aware of what values a method returns. Take some time to experiment with <code>.push()</code> and <code>.pop()</code>. When you are ready, remove all of your <code>.push()</code> and <code>.pop()</code> calls, and your <code>console.log</code> statements.</p>"
   ]
  },
  {
   "cell_type": "markdown",
   "metadata": {},
   "source": [
    "**Source file link:** [pyramidGenerator_step29.js](./pyramidGenerator_step29.js)"
   ]
  },
  {
   "cell_type": "code",
   "execution_count": 296,
   "metadata": {},
   "outputs": [
    {
     "data": {
      "text/markdown": [
       "```js\n",
       "let character = \"Hello\";\n",
       "let count = 8;\n",
       "let rows = [\"Naomi\", \"Quincy\", \"CamperChan\"];\n",
       "```"
      ],
      "text/plain": [
       "<IPython.core.display.Markdown object>"
      ]
     },
     "metadata": {},
     "output_type": "display_data"
    }
   ],
   "source": [
    "fileName = \"pyramidGenerator_step29.js\"\n",
    "fetchAndDisplaySrcFileAsCodeBlock(fileName)"
   ]
  },
  {
   "cell_type": "markdown",
   "metadata": {},
   "source": [
    "### Execution logs: "
   ]
  },
  {
   "cell_type": "code",
   "execution_count": 297,
   "metadata": {},
   "outputs": [],
   "source": [
    "!node pyramidGenerator_step29.js"
   ]
  },
  {
   "cell_type": "markdown",
   "metadata": {},
   "source": [
    "---"
   ]
  },
  {
   "cell_type": "markdown",
   "metadata": {},
   "source": [
    "## Step30:"
   ]
  },
  {
   "cell_type": "markdown",
   "metadata": {},
   "source": [
    "<p>Change your <code>rows</code> declaration to be assigned an empty array again.</p>"
   ]
  },
  {
   "cell_type": "markdown",
   "metadata": {},
   "source": [
    "<p>Also, change your <code>'Hello'</code> string to use double quotes again. Generally, it does not matter which of the two you prefer, but you will want to be consistent in that choice throughout your project.</p>"
   ]
  },
  {
   "cell_type": "markdown",
   "metadata": {},
   "source": [
    "**Source file link:** [pyramidGenerator_step30.js](./pyramidGenerator_step30.js)"
   ]
  },
  {
   "cell_type": "code",
   "execution_count": 298,
   "metadata": {},
   "outputs": [
    {
     "data": {
      "text/markdown": [
       "```js\n",
       "let character = \"Hello\";\n",
       "let count = 8;\n",
       "let rows = [];\n",
       "```"
      ],
      "text/plain": [
       "<IPython.core.display.Markdown object>"
      ]
     },
     "metadata": {},
     "output_type": "display_data"
    }
   ],
   "source": [
    "fileName = \"pyramidGenerator_step30.js\"\n",
    "fetchAndDisplaySrcFileAsCodeBlock(fileName)"
   ]
  },
  {
   "cell_type": "markdown",
   "metadata": {},
   "source": [
    "### Execution logs: "
   ]
  },
  {
   "cell_type": "code",
   "execution_count": 299,
   "metadata": {},
   "outputs": [],
   "source": [
    "!node pyramidGenerator_step30.js"
   ]
  },
  {
   "cell_type": "markdown",
   "metadata": {},
   "source": [
    "---"
   ]
  },
  {
   "cell_type": "markdown",
   "metadata": {},
   "source": [
    "## Step31:"
   ]
  },
  {
   "cell_type": "markdown",
   "metadata": {},
   "source": [
    "<p>Declaring a variable with the <code>let</code> keyword allows it to be reassigned. This means you could change <code>character</code> later to be a completely different value.</p>"
   ]
  },
  {
   "cell_type": "markdown",
   "metadata": {},
   "source": [
    "<p>For this project, you will not want to change these variable values. So instead, you should use <code>const</code> to declare them. <code>const</code> variables are special.</p>"
   ]
  },
  {
   "cell_type": "markdown",
   "metadata": {},
   "source": [
    "<p>First, a <code>const</code> variable cannot be reassigned like a <code>let</code> variable. This code would throw an error:</p>\n",
    "\n",
    "**Example Code**\n",
    "\n",
    "```js\n",
    "const firstName = \"Naomi\";\n",
    "firstName = \"Jessica\";\n",
    "```"
   ]
  },
  {
   "cell_type": "markdown",
   "metadata": {},
   "source": [
    "<p>A <code>const</code> variable also cannot be uninitialized. This code would throw an error:</p>\n",
    "\n",
    "**Example Code**\n",
    "\n",
    "```js\n",
    "const firstName;\n",
    "```"
   ]
  },
  {
   "cell_type": "markdown",
   "metadata": {},
   "source": [
    "<p>Replace your <code>let</code> keywords with <code>const</code>.</p>"
   ]
  },
  {
   "cell_type": "markdown",
   "metadata": {},
   "source": [
    "**Source file link:** [pyramidGenerator_step31.js](./pyramidGenerator_step31.js)"
   ]
  },
  {
   "cell_type": "code",
   "execution_count": 300,
   "metadata": {},
   "outputs": [
    {
     "data": {
      "text/markdown": [
       "```js\n",
       "const character = \"Hello\";\n",
       "const count = 8;\n",
       "const rows = [];\n",
       "```"
      ],
      "text/plain": [
       "<IPython.core.display.Markdown object>"
      ]
     },
     "metadata": {},
     "output_type": "display_data"
    }
   ],
   "source": [
    "fileName = \"pyramidGenerator_step31.js\"\n",
    "fetchAndDisplaySrcFileAsCodeBlock(fileName)"
   ]
  },
  {
   "cell_type": "markdown",
   "metadata": {},
   "source": [
    "### Execution logs: "
   ]
  },
  {
   "cell_type": "code",
   "execution_count": 301,
   "metadata": {},
   "outputs": [],
   "source": [
    "!node pyramidGenerator_step31.js"
   ]
  },
  {
   "cell_type": "markdown",
   "metadata": {},
   "source": [
    "---"
   ]
  },
  {
   "cell_type": "markdown",
   "metadata": {},
   "source": [
    "## Step32:"
   ]
  },
  {
   "cell_type": "markdown",
   "metadata": {},
   "source": [
    "<p>You are now ready to start building your pyramid generator. Your <code>character</code> variable will serve as the building block for the pyramid.</p>"
   ]
  },
  {
   "cell_type": "markdown",
   "metadata": {},
   "source": [
    "<p><code>\"Hello\"</code> might not work very well for that. Change the value of <code>character</code> to be the hash character <code>\"#\"</code>.</p>"
   ]
  },
  {
   "cell_type": "markdown",
   "metadata": {},
   "source": [
    "**Source file link:** [pyramidGenerator_step32.js](./pyramidGenerator_step32.js)"
   ]
  },
  {
   "cell_type": "code",
   "execution_count": 302,
   "metadata": {},
   "outputs": [
    {
     "data": {
      "text/markdown": [
       "```js\n",
       "const character = \"#\";\n",
       "const count = 8;\n",
       "const rows = [];\n",
       "```"
      ],
      "text/plain": [
       "<IPython.core.display.Markdown object>"
      ]
     },
     "metadata": {},
     "output_type": "display_data"
    }
   ],
   "source": [
    "fileName = \"pyramidGenerator_step32.js\"\n",
    "fetchAndDisplaySrcFileAsCodeBlock(fileName)"
   ]
  },
  {
   "cell_type": "markdown",
   "metadata": {},
   "source": [
    "### Execution logs: "
   ]
  },
  {
   "cell_type": "code",
   "execution_count": 303,
   "metadata": {},
   "outputs": [],
   "source": [
    "!node pyramidGenerator_step32.js"
   ]
  },
  {
   "cell_type": "markdown",
   "metadata": {},
   "source": [
    "---"
   ]
  },
  {
   "cell_type": "markdown",
   "metadata": {},
   "source": [
    "## Step33:"
   ]
  },
  {
   "cell_type": "markdown",
   "metadata": {},
   "source": [
    "<p>To generate a pyramid, you will need to create multiple rows. When you have to perform a task repeatedly until a condition is met, you will use a <dfn>loop</dfn>. There are many ways to write a loop.</p>"
   ]
  },
  {
   "cell_type": "markdown",
   "metadata": {},
   "source": [
    "<p>You are going to start with a basic <code>for</code> loop. <code>for</code> loops use the following syntax:</p>\n",
    "\n",
    "**Example Code**\n",
    "\n",
    "```js\n",
    "for (iterator; condition; iteration) {\n",
    "  logic;\n",
    "}\n",
    "```"
   ]
  },
  {
   "cell_type": "markdown",
   "metadata": {},
   "source": [
    "<p>In the upcoming steps, you'll explore each component of a loop in detail. For now, construct a <code>for</code> loop that includes the terms <code>\"iterator\"</code>, <code>\"condition\"</code>, and <code>\"iteration\"</code> for the three components. Keep the loop <dfn>body</dfn>, the section within the curly braces <code>{}</code>, empty.</p>"
   ]
  },
  {
   "cell_type": "markdown",
   "metadata": {},
   "source": [
    "**Source file link:** [pyramidGenerator_step33.js](./pyramidGenerator_step33.js)"
   ]
  },
  {
   "cell_type": "code",
   "execution_count": 304,
   "metadata": {},
   "outputs": [
    {
     "data": {
      "text/markdown": [
       "```js\n",
       "const character = \"#\";\n",
       "const count = 8;\n",
       "const rows = [];\n",
       "\n",
       "// for (\"iterator\"; \"condition\"; \"iteration\") {\n",
       "    \n",
       "// }\n",
       "```"
      ],
      "text/plain": [
       "<IPython.core.display.Markdown object>"
      ]
     },
     "metadata": {},
     "output_type": "display_data"
    }
   ],
   "source": [
    "fileName = \"pyramidGenerator_step33.js\"\n",
    "fetchAndDisplaySrcFileAsCodeBlock(fileName)"
   ]
  },
  {
   "cell_type": "markdown",
   "metadata": {},
   "source": [
    "**Note:** Part of the code has been commented out because, it is just a format of `for` loop."
   ]
  },
  {
   "cell_type": "markdown",
   "metadata": {},
   "source": [
    "### Execution logs: "
   ]
  },
  {
   "cell_type": "code",
   "execution_count": 305,
   "metadata": {},
   "outputs": [],
   "source": [
    "!node pyramidGenerator_step33.js"
   ]
  },
  {
   "cell_type": "markdown",
   "metadata": {},
   "source": [
    "---"
   ]
  },
  {
   "cell_type": "markdown",
   "metadata": {},
   "source": [
    "## Step34:"
   ]
  },
  {
   "cell_type": "markdown",
   "metadata": {},
   "source": [
    "<p>Your loop now needs a proper iterator. The <dfn>iterator</dfn> is a variable you can declare specifically in your <code>for</code> loop to control how the loop iterates or goes through your logic.</p>"
   ]
  },
  {
   "cell_type": "markdown",
   "metadata": {},
   "source": [
    "<p>It is a common convention to use <code>i</code> as your iterator variable in a loop. A <code>for</code> loop allows you to declare this in the parentheses <code>()</code>. For example, here is a <code>for</code> loop that declares an <code>index</code> variable and assigns it the value <code>100</code>.</p>\n",
    "\n",
    "**Example Code**\n",
    "\n",
    "```js\n",
    "for (let index = 100; \"second\"; \"third\") {\n",
    "\n",
    "}\n",
    "```"
   ]
  },
  {
   "cell_type": "markdown",
   "metadata": {},
   "source": [
    "<p>Replace the string <code>\"iterator\"</code> with a <code>let</code> declaration for the variable <code>i</code>. Assign it the value <code>0</code> to start. This will give the <code>i</code> variable the value <code>0</code> the <strong>first time</strong> your loop runs.</p>"
   ]
  },
  {
   "cell_type": "markdown",
   "metadata": {},
   "source": [
    "**Source file link:** [pyramidGenerator_step34.js](./pyramidGenerator_step34.js)"
   ]
  },
  {
   "cell_type": "code",
   "execution_count": 306,
   "metadata": {},
   "outputs": [
    {
     "data": {
      "text/markdown": [
       "```js\n",
       "const character = \"#\";\n",
       "const count = 8;\n",
       "const rows = [];\n",
       "\n",
       "// for (let i = 0; \"condition\"; \"iteration\") {\n",
       "    \n",
       "// }\n",
       "```"
      ],
      "text/plain": [
       "<IPython.core.display.Markdown object>"
      ]
     },
     "metadata": {},
     "output_type": "display_data"
    }
   ],
   "source": [
    "fileName = \"pyramidGenerator_step34.js\"\n",
    "fetchAndDisplaySrcFileAsCodeBlock(fileName)"
   ]
  },
  {
   "cell_type": "markdown",
   "metadata": {},
   "source": [
    "**Note:** Part of the code has been commented out since it is not a valid code but just a format used to explain."
   ]
  },
  {
   "cell_type": "markdown",
   "metadata": {},
   "source": [
    "### Execution logs: "
   ]
  },
  {
   "cell_type": "code",
   "execution_count": 307,
   "metadata": {},
   "outputs": [],
   "source": [
    "!node pyramidGenerator_step34.js"
   ]
  },
  {
   "cell_type": "markdown",
   "metadata": {},
   "source": [
    "---"
   ]
  },
  {
   "cell_type": "markdown",
   "metadata": {},
   "source": [
    "## Step35:"
   ]
  },
  {
   "cell_type": "markdown",
   "metadata": {},
   "source": [
    "<p>The <dfn>condition</dfn> of a <code>for</code> loop tells the loop how many times it should iterate. When the <code>condition</code> becomes false, the loop will stop.</p>"
   ]
  },
  {
   "cell_type": "markdown",
   "metadata": {},
   "source": [
    "<p>In JavaScript, a Boolean value can be either <code>true</code> or <code>false</code>. These are not strings - you will learn more about the difference later on.</p>"
   ]
  },
  {
   "cell_type": "markdown",
   "metadata": {},
   "source": [
    "<p>For now, you will use the <dfn>less than</dfn> operator (<code>&lt;</code>). This allows you to check if the value on the left is less than the value on the right. For example, <code>count &lt; 3</code> would evaluate to <code>true</code> if <code>count</code> is <code>2</code>, and <code>false</code> if <code>count</code> is <code>4</code>.</p>"
   ]
  },
  {
   "cell_type": "markdown",
   "metadata": {},
   "source": [
    "<p>Replace your <code>\"condition\"</code> string with a condition to check if <code>i</code> is less than <code>count</code>.</p>"
   ]
  },
  {
   "cell_type": "markdown",
   "metadata": {},
   "source": [
    "**Source file link:** [pyramidGenerator_step35.js](./pyramidGenerator_step35.js)"
   ]
  },
  {
   "cell_type": "code",
   "execution_count": 308,
   "metadata": {},
   "outputs": [
    {
     "data": {
      "text/markdown": [
       "```js\n",
       "const character = \"#\";\n",
       "const count = 8;\n",
       "const rows = [];\n",
       "\n",
       "// for (let i = 0; i < count; \"iteration\") {\n",
       "    \n",
       "// }\n",
       "```"
      ],
      "text/plain": [
       "<IPython.core.display.Markdown object>"
      ]
     },
     "metadata": {},
     "output_type": "display_data"
    }
   ],
   "source": [
    "fileName = \"pyramidGenerator_step35.js\"\n",
    "fetchAndDisplaySrcFileAsCodeBlock(fileName)"
   ]
  },
  {
   "cell_type": "markdown",
   "metadata": {},
   "source": [
    "**Note:** Part of the code has been commented out because it is not yet a valid syntax."
   ]
  },
  {
   "cell_type": "markdown",
   "metadata": {},
   "source": [
    "### Execution logs: "
   ]
  },
  {
   "cell_type": "code",
   "execution_count": 309,
   "metadata": {},
   "outputs": [],
   "source": [
    "!node pyramidGenerator_step35.js"
   ]
  },
  {
   "cell_type": "markdown",
   "metadata": {},
   "source": [
    "---"
   ]
  },
  {
   "cell_type": "markdown",
   "metadata": {},
   "source": [
    "## Step36:"
   ]
  },
  {
   "cell_type": "markdown",
   "metadata": {},
   "source": [
    "<p>Your <dfn>iteration</dfn> statement will tell your loop what to do with the iterator after each run.</p>"
   ]
  },
  {
   "cell_type": "markdown",
   "metadata": {},
   "source": [
    "<p>When you reassign a variable, you can use the variable to reference the previous value before the reassignment. This allows you to do things like add three to an existing number. For example, <code>bees = bees + 3;</code> would increase the value of <code>bees</code> by three.</p>"
   ]
  },
  {
   "cell_type": "markdown",
   "metadata": {},
   "source": [
    "<p>Use that syntax to replace your <code>\"iteration\"</code> string with a reassignment statement that increases <code>i</code> by one.</p>"
   ]
  },
  {
   "cell_type": "markdown",
   "metadata": {},
   "source": [
    "**Source file link:** [pyramidGenerator_step36.js](./pyramidGenerator_step36.js)"
   ]
  },
  {
   "cell_type": "code",
   "execution_count": 310,
   "metadata": {},
   "outputs": [
    {
     "data": {
      "text/markdown": [
       "```js\n",
       "const character = \"#\";\n",
       "const count = 8;\n",
       "const rows = [];\n",
       "\n",
       "for (let i = 0; i < count; i = i + 1) {\n",
       "    \n",
       "}\n",
       "```"
      ],
      "text/plain": [
       "<IPython.core.display.Markdown object>"
      ]
     },
     "metadata": {},
     "output_type": "display_data"
    }
   ],
   "source": [
    "fileName = \"pyramidGenerator_step36.js\"\n",
    "fetchAndDisplaySrcFileAsCodeBlock(fileName)"
   ]
  },
  {
   "cell_type": "markdown",
   "metadata": {},
   "source": [
    "### Execution logs: "
   ]
  },
  {
   "cell_type": "code",
   "execution_count": 311,
   "metadata": {},
   "outputs": [],
   "source": [
    "!node pyramidGenerator_step36.js"
   ]
  },
  {
   "cell_type": "markdown",
   "metadata": {},
   "source": [
    "---"
   ]
  },
  {
   "cell_type": "markdown",
   "metadata": {},
   "source": [
    "## Step37:"
   ]
  },
  {
   "cell_type": "markdown",
   "metadata": {},
   "source": [
    "<p>Your loop should now run eight times. Inside the body of the loop, print the value of the <code>i</code> iterator and see what happens.</p>"
   ]
  },
  {
   "cell_type": "markdown",
   "metadata": {},
   "source": [
    "**Source file link:** [pyramidGenerator_step37.js](./pyramidGenerator_step37.js)"
   ]
  },
  {
   "cell_type": "code",
   "execution_count": 312,
   "metadata": {},
   "outputs": [
    {
     "data": {
      "text/markdown": [
       "```js\n",
       "const character = \"#\";\n",
       "const count = 8;\n",
       "const rows = [];\n",
       "\n",
       "for (let i = 0; i < count; i = i + 1) {\n",
       "    console.log(i);\n",
       "    \n",
       "}\n",
       "```"
      ],
      "text/plain": [
       "<IPython.core.display.Markdown object>"
      ]
     },
     "metadata": {},
     "output_type": "display_data"
    }
   ],
   "source": [
    "fileName = \"pyramidGenerator_step37.js\"\n",
    "fetchAndDisplaySrcFileAsCodeBlock(fileName)"
   ]
  },
  {
   "cell_type": "markdown",
   "metadata": {},
   "source": [
    "### Execution logs: "
   ]
  },
  {
   "cell_type": "code",
   "execution_count": 313,
   "metadata": {},
   "outputs": [
    {
     "name": "stdout",
     "output_type": "stream",
     "text": [
      "\u001b[33m0\u001b[39m\n",
      "\u001b[33m1\u001b[39m\n",
      "\u001b[33m2\u001b[39m\n",
      "\u001b[33m3\u001b[39m\n",
      "\u001b[33m4\u001b[39m\n",
      "\u001b[33m5\u001b[39m\n",
      "\u001b[33m6\u001b[39m\n",
      "\u001b[33m7\u001b[39m\n"
     ]
    }
   ],
   "source": [
    "!node pyramidGenerator_step37.js"
   ]
  },
  {
   "cell_type": "markdown",
   "metadata": {},
   "source": [
    "---"
   ]
  },
  {
   "cell_type": "markdown",
   "metadata": {},
   "source": [
    "## Step38:"
   ]
  },
  {
   "cell_type": "markdown",
   "metadata": {},
   "source": [
    "<p>You should see the numbers zero through seven printed in your console, one per line. This will serve as the foundation for generating your pyramid.</p>"
   ]
  },
  {
   "cell_type": "markdown",
   "metadata": {},
   "source": [
    "<p>Replace your log statement with a statement to push <code>i</code> to your <code>rows</code> array.</p>"
   ]
  },
  {
   "cell_type": "markdown",
   "metadata": {},
   "source": [
    "**Source file link:** [pyramidGenerator_step38.js](./pyramidGenerator_step38.js)"
   ]
  },
  {
   "cell_type": "code",
   "execution_count": 314,
   "metadata": {},
   "outputs": [
    {
     "data": {
      "text/markdown": [
       "```js\n",
       "const character = \"#\";\n",
       "const count = 8;\n",
       "const rows = [];\n",
       "\n",
       "for (let i = 0; i < count; i = i + 1) {\n",
       "    rows.push(i);\n",
       "}\n",
       "```"
      ],
      "text/plain": [
       "<IPython.core.display.Markdown object>"
      ]
     },
     "metadata": {},
     "output_type": "display_data"
    }
   ],
   "source": [
    "fileName = \"pyramidGenerator_step38.js\"\n",
    "fetchAndDisplaySrcFileAsCodeBlock(fileName)"
   ]
  },
  {
   "cell_type": "markdown",
   "metadata": {},
   "source": [
    "### Execution logs: "
   ]
  },
  {
   "cell_type": "code",
   "execution_count": 315,
   "metadata": {},
   "outputs": [],
   "source": [
    "!node pyramidGenerator_step38.js"
   ]
  },
  {
   "cell_type": "markdown",
   "metadata": {},
   "source": [
    "---"
   ]
  },
  {
   "cell_type": "markdown",
   "metadata": {},
   "source": [
    "## Step39:"
   ]
  },
  {
   "cell_type": "markdown",
   "metadata": {},
   "source": [
    "<p>Unfortunately, now you cannot see what your loop is doing.</p>"
   ]
  },
  {
   "cell_type": "markdown",
   "metadata": {},
   "source": [
    "<p>Use <code>let</code> to declare a <code>result</code> variable, and assign it an empty string. An empty string is represented by quotation marks with nothing between them, such as <code>\"\"</code>.</p>"
   ]
  },
  {
   "cell_type": "markdown",
   "metadata": {},
   "source": [
    "**Source file link:** [pyramidGenerator_step39.js](./pyramidGenerator_step39.js)"
   ]
  },
  {
   "cell_type": "code",
   "execution_count": 316,
   "metadata": {},
   "outputs": [
    {
     "data": {
      "text/markdown": [
       "```js\n",
       "const character = \"#\";\n",
       "const count = 8;\n",
       "const rows = [];\n",
       "\n",
       "for (let i = 0; i < count; i = i + 1) {\n",
       "    rows.push(i);\n",
       "}\n",
       "\n",
       "let result = \"\";\n",
       "```"
      ],
      "text/plain": [
       "<IPython.core.display.Markdown object>"
      ]
     },
     "metadata": {},
     "output_type": "display_data"
    }
   ],
   "source": [
    "fileName = \"pyramidGenerator_step39.js\"\n",
    "fetchAndDisplaySrcFileAsCodeBlock(fileName)"
   ]
  },
  {
   "cell_type": "markdown",
   "metadata": {},
   "source": [
    "### Execution logs: "
   ]
  },
  {
   "cell_type": "code",
   "execution_count": 317,
   "metadata": {},
   "outputs": [],
   "source": [
    "!node pyramidGenerator_step39.js"
   ]
  },
  {
   "cell_type": "markdown",
   "metadata": {},
   "source": [
    "---"
   ]
  },
  {
   "cell_type": "markdown",
   "metadata": {},
   "source": [
    "## Step40:"
   ]
  },
  {
   "cell_type": "markdown",
   "metadata": {},
   "source": [
    "<p>Add a log statement to print the value of <code>result</code>. Depending on which console you use, you may not see anything printed.</p>"
   ]
  },
  {
   "cell_type": "markdown",
   "metadata": {},
   "source": [
    "**Source file link:** [pyramidGenerator_step40.js](./pyramidGenerator_step40.js)"
   ]
  },
  {
   "cell_type": "code",
   "execution_count": 318,
   "metadata": {},
   "outputs": [
    {
     "data": {
      "text/markdown": [
       "```js\n",
       "const character = \"#\";\n",
       "const count = 8;\n",
       "const rows = [];\n",
       "\n",
       "for (let i = 0; i < count; i = i + 1) {\n",
       "    rows.push(i);\n",
       "}\n",
       "\n",
       "let result = \"\";\n",
       "console.log(result);\n",
       "\n",
       "```"
      ],
      "text/plain": [
       "<IPython.core.display.Markdown object>"
      ]
     },
     "metadata": {},
     "output_type": "display_data"
    }
   ],
   "source": [
    "fileName = \"pyramidGenerator_step40.js\"\n",
    "fetchAndDisplaySrcFileAsCodeBlock(fileName)"
   ]
  },
  {
   "cell_type": "markdown",
   "metadata": {},
   "source": [
    "### Execution logs: "
   ]
  },
  {
   "cell_type": "code",
   "execution_count": 319,
   "metadata": {},
   "outputs": [
    {
     "name": "stdout",
     "output_type": "stream",
     "text": [
      "\n"
     ]
    }
   ],
   "source": [
    "!node pyramidGenerator_step40.js"
   ]
  },
  {
   "cell_type": "markdown",
   "metadata": {},
   "source": [
    "---"
   ]
  },
  {
   "cell_type": "markdown",
   "metadata": {},
   "source": [
    "## Step41:"
   ]
  },
  {
   "cell_type": "markdown",
   "metadata": {},
   "source": [
    "<p>To manipulate the <code>result</code> string, you will use a different type of loop. Specifically, a <code>for...of</code> loop, which iterates over each item in an iterable object and temporarily assigns it to a variable.</p>"
   ]
  },
  {
   "cell_type": "markdown",
   "metadata": {},
   "source": [
    "<p>The syntax for a <code>for...of</code> loop looks like:</p>\n",
    "\n",
    "**Example Code**\n",
    "\n",
    "```js\n",
    "for (const value of iterable) {\n",
    "\n",
    "}\n",
    "```"
   ]
  },
  {
   "cell_type": "markdown",
   "metadata": {},
   "source": [
    "<p>Note that you can use <code>const</code> because the variable only exists for a single iteration, not during the entire loop.</p>"
   ]
  },
  {
   "cell_type": "markdown",
   "metadata": {},
   "source": [
    "<p>Create a <code>for...of</code> loop to iterate through your <code>rows</code> array, assigning each value to a <code>row</code> variable.</p>"
   ]
  },
  {
   "cell_type": "markdown",
   "metadata": {},
   "source": [
    "**Source file link:** [pyramidGenerator_step41.js](./pyramidGenerator_step41.js)"
   ]
  },
  {
   "cell_type": "code",
   "execution_count": 320,
   "metadata": {},
   "outputs": [
    {
     "data": {
      "text/markdown": [
       "```js\n",
       "const character = \"#\";\n",
       "const count = 8;\n",
       "const rows = [];\n",
       "\n",
       "for (let i = 0; i < count; i = i + 1) {\n",
       "    rows.push(i);\n",
       "}\n",
       "\n",
       "let result = \"\";\n",
       "console.log(result);\n",
       "\n",
       "for (const row of rows) {\n",
       "    \n",
       "}\n",
       "```"
      ],
      "text/plain": [
       "<IPython.core.display.Markdown object>"
      ]
     },
     "metadata": {},
     "output_type": "display_data"
    }
   ],
   "source": [
    "fileName = \"pyramidGenerator_step41.js\"\n",
    "fetchAndDisplaySrcFileAsCodeBlock(fileName)"
   ]
  },
  {
   "cell_type": "markdown",
   "metadata": {},
   "source": [
    "### Execution logs: "
   ]
  },
  {
   "cell_type": "code",
   "execution_count": 321,
   "metadata": {},
   "outputs": [
    {
     "name": "stdout",
     "output_type": "stream",
     "text": [
      "\n"
     ]
    }
   ],
   "source": [
    "!node pyramidGenerator_step41.js"
   ]
  },
  {
   "cell_type": "markdown",
   "metadata": {},
   "source": [
    "---"
   ]
  },
  {
   "cell_type": "markdown",
   "metadata": {},
   "source": [
    "## Step42:"
   ]
  },
  {
   "cell_type": "markdown",
   "metadata": {},
   "source": [
    "<p>Remember in your previous loop that you used the addition operator <code>+</code> to increase the value of <code>i</code> by <code>1</code>.</p>"
   ]
  },
  {
   "cell_type": "markdown",
   "metadata": {},
   "source": [
    "<p>You can do a similar thing with a string value, by appending a new string to an existing string. For example, <code>hello = hello + \" World\";</code> would add the string <code>\" World\"</code> to the existing string stored in the <code>hello</code> variable. This is called <dfn>concatenation</dfn>.</p>"
   ]
  },
  {
   "cell_type": "markdown",
   "metadata": {},
   "source": [
    "<p>In your <code>for...of</code> loop, use the addition operator to concatenate the <code>row</code> value to the <code>result</code> value.</p>"
   ]
  },
  {
   "cell_type": "markdown",
   "metadata": {},
   "source": [
    "**Source file link:** [pyramidGenerator_step42.js](./pyramidGenerator_step42.js)"
   ]
  },
  {
   "cell_type": "code",
   "execution_count": 322,
   "metadata": {},
   "outputs": [
    {
     "data": {
      "text/markdown": [
       "```js\n",
       "const character = \"#\";\n",
       "const count = 8;\n",
       "const rows = [];\n",
       "\n",
       "for (let i = 0; i < count; i = i + 1) {\n",
       "    rows.push(i);\n",
       "}\n",
       "\n",
       "let result = \"\";\n",
       "\n",
       "for (const row of rows) {\n",
       "    result = result + row;\n",
       "}\n",
       "\n",
       "console.log(result);\n",
       "```"
      ],
      "text/plain": [
       "<IPython.core.display.Markdown object>"
      ]
     },
     "metadata": {},
     "output_type": "display_data"
    }
   ],
   "source": [
    "fileName = \"pyramidGenerator_step42.js\"\n",
    "fetchAndDisplaySrcFileAsCodeBlock(fileName)"
   ]
  },
  {
   "cell_type": "markdown",
   "metadata": {},
   "source": [
    "### Execution logs: "
   ]
  },
  {
   "cell_type": "code",
   "execution_count": 323,
   "metadata": {},
   "outputs": [
    {
     "name": "stdout",
     "output_type": "stream",
     "text": [
      "01234567\n"
     ]
    }
   ],
   "source": [
    "!node pyramidGenerator_step42.js"
   ]
  },
  {
   "cell_type": "markdown",
   "metadata": {},
   "source": [
    "---"
   ]
  },
  {
   "cell_type": "markdown",
   "metadata": {},
   "source": [
    "## Step43:"
   ]
  },
  {
   "cell_type": "markdown",
   "metadata": {},
   "source": [
    "<p>Now all of your numbers are appearing on the same line. This will not work for creating a pyramid.</p>"
   ]
  },
  {
   "cell_type": "markdown",
   "metadata": {},
   "source": [
    "<p>You will need to add a new line to each row. However, pressing the return key to insert a line break between quotes in JavaScript will result in a parsing error. Instead, you need to use the special <dfn>escape sequence</dfn> <code>\\n</code>, which is interpreted as a new line when the string is logged. For example:</p>\n",
    "\n",
    "**Example Code**\n",
    "\n",
    "```js\n",
    "lineOne = lineOne + \"\\n\" + lineTwo;\n",
    "```"
   ]
  },
  {
   "cell_type": "markdown",
   "metadata": {},
   "source": [
    "<p>Use a second addition operator to concatenate a new line between the existing <code>result</code> value and the added <code>row</code> value.</p>"
   ]
  },
  {
   "cell_type": "markdown",
   "metadata": {},
   "source": [
    "**Source file link:** [pyramidGenerator_step43.js](./pyramidGenerator_step43.js)"
   ]
  },
  {
   "cell_type": "code",
   "execution_count": 324,
   "metadata": {},
   "outputs": [
    {
     "data": {
      "text/markdown": [
       "```js\n",
       "const character = \"#\";\n",
       "const count = 8;\n",
       "const rows = [];\n",
       "\n",
       "for (let i = 0; i < count; i = i + 1) {\n",
       "    rows.push(i);\n",
       "}\n",
       "\n",
       "let result = \"\";\n",
       "\n",
       "for (const row of rows) {\n",
       "    result = result + \"\\n\" + row;\n",
       "}\n",
       "\n",
       "console.log(result);\n",
       "```"
      ],
      "text/plain": [
       "<IPython.core.display.Markdown object>"
      ]
     },
     "metadata": {},
     "output_type": "display_data"
    }
   ],
   "source": [
    "fileName = \"pyramidGenerator_step43.js\"\n",
    "fetchAndDisplaySrcFileAsCodeBlock(fileName)"
   ]
  },
  {
   "cell_type": "markdown",
   "metadata": {},
   "source": [
    "### Execution logs: "
   ]
  },
  {
   "cell_type": "code",
   "execution_count": 325,
   "metadata": {},
   "outputs": [
    {
     "name": "stdout",
     "output_type": "stream",
     "text": [
      "\n",
      "0\n",
      "1\n",
      "2\n",
      "3\n",
      "4\n",
      "5\n",
      "6\n",
      "7\n"
     ]
    }
   ],
   "source": [
    "!node pyramidGenerator_step43.js"
   ]
  },
  {
   "cell_type": "markdown",
   "metadata": {},
   "source": [
    "---"
   ]
  },
  {
   "cell_type": "markdown",
   "metadata": {},
   "source": [
    "## Step44:"
   ]
  },
  {
   "cell_type": "markdown",
   "metadata": {},
   "source": [
    "<p>Printing numbers won't result in a visually appealing pyramid. Now that you're outputting the formatted content of your <code>rows</code> array, it's time to update your original loop.</p>"
   ]
  },
  {
   "cell_type": "markdown",
   "metadata": {},
   "source": [
    "<p>Instead of pushing <code>i</code> to the array, push the value of your <code>character</code> variable.</p>"
   ]
  },
  {
   "cell_type": "markdown",
   "metadata": {},
   "source": [
    "**Source file link:** [pyramidGenerator_step44.js](./pyramidGenerator_step44.js)"
   ]
  },
  {
   "cell_type": "code",
   "execution_count": 326,
   "metadata": {},
   "outputs": [
    {
     "data": {
      "text/markdown": [
       "```js\n",
       "const character = \"#\";\n",
       "const count = 8;\n",
       "const rows = [];\n",
       "\n",
       "for (let i = 0; i < count; i = i + 1) {\n",
       "    rows.push(character);\n",
       "}\n",
       "\n",
       "let result = \"\";\n",
       "\n",
       "for (const row of rows) {\n",
       "    result = result + \"\\n\" + row;\n",
       "}\n",
       "\n",
       "console.log(result);\n",
       "```"
      ],
      "text/plain": [
       "<IPython.core.display.Markdown object>"
      ]
     },
     "metadata": {},
     "output_type": "display_data"
    }
   ],
   "source": [
    "fileName = \"pyramidGenerator_step44.js\"\n",
    "fetchAndDisplaySrcFileAsCodeBlock(fileName)"
   ]
  },
  {
   "cell_type": "markdown",
   "metadata": {},
   "source": [
    "### Execution logs: "
   ]
  },
  {
   "cell_type": "code",
   "execution_count": 327,
   "metadata": {},
   "outputs": [
    {
     "name": "stdout",
     "output_type": "stream",
     "text": [
      "\n",
      "#\n",
      "#\n",
      "#\n",
      "#\n",
      "#\n",
      "#\n",
      "#\n",
      "#\n"
     ]
    }
   ],
   "source": [
    "!node pyramidGenerator_step44.js"
   ]
  },
  {
   "cell_type": "markdown",
   "metadata": {},
   "source": [
    "---"
   ]
  },
  {
   "cell_type": "markdown",
   "metadata": {},
   "source": [
    "## Step45:"
   ]
  },
  {
   "cell_type": "markdown",
   "metadata": {},
   "source": [
    "<p>Now you have a series of <code>#</code> characters, but the pyramid shape is still missing. Fortunately, the <code>i</code> variable represents the current \"row\" number in your loop, enabling you to use it for crafting a pyramid-like structure.</p>"
   ]
  },
  {
   "cell_type": "markdown",
   "metadata": {},
   "source": [
    "<p>To achieve this, you will use the <code>.repeat()</code> method available to strings. This method accepts a number as an argument, specifying the number of times to repeat the target string. For example, using <code>.repeat()</code> to generate the string <code>\"Code! Code! Code!\"</code>:</p>\n",
    "\n",
    "**Example Code**\n",
    "\n",
    "```js\n",
    "const activity = \"Code! \";\n",
    "activity.repeat(3);\n",
    "```"
   ]
  },
  {
   "cell_type": "markdown",
   "metadata": {},
   "source": [
    "<p>Use the <code>.repeat()</code> method on your <code>character</code>, and give it <code>i</code> for the number.</p>"
   ]
  },
  {
   "cell_type": "markdown",
   "metadata": {},
   "source": [
    "**Source file link:** [pyramidGenerator_step45.js](./pyramidGenerator_step45.js)"
   ]
  },
  {
   "cell_type": "code",
   "execution_count": 328,
   "metadata": {},
   "outputs": [
    {
     "data": {
      "text/markdown": [
       "```js\n",
       "const character = \"#\";\n",
       "const count = 8;\n",
       "const rows = [];\n",
       "\n",
       "for (let i = 0; i < count; i = i + 1) {\n",
       "    rows.push(character.repeat(i));\n",
       "}\n",
       "\n",
       "let result = \"\";\n",
       "\n",
       "for (const row of rows) {\n",
       "    result = result + \"\\n\" + row;\n",
       "}\n",
       "\n",
       "console.log(result);\n",
       "```"
      ],
      "text/plain": [
       "<IPython.core.display.Markdown object>"
      ]
     },
     "metadata": {},
     "output_type": "display_data"
    }
   ],
   "source": [
    "fileName = \"pyramidGenerator_step45.js\"\n",
    "fetchAndDisplaySrcFileAsCodeBlock(fileName)"
   ]
  },
  {
   "cell_type": "markdown",
   "metadata": {},
   "source": [
    "### Execution logs: "
   ]
  },
  {
   "cell_type": "code",
   "execution_count": 329,
   "metadata": {},
   "outputs": [
    {
     "name": "stdout",
     "output_type": "stream",
     "text": [
      "\n",
      "\n",
      "#\n",
      "##\n",
      "###\n",
      "####\n",
      "#####\n",
      "######\n",
      "#######\n"
     ]
    }
   ],
   "source": [
    "!node pyramidGenerator_step45.js"
   ]
  },
  {
   "cell_type": "markdown",
   "metadata": {},
   "source": [
    "---"
   ]
  },
  {
   "cell_type": "markdown",
   "metadata": {},
   "source": [
    "## Step46:"
   ]
  },
  {
   "cell_type": "markdown",
   "metadata": {},
   "source": [
    "<p>You're getting closer! At this point, you're encountering what's known as an <dfn>off-by-one error</dfn>, a frequent problem in zero-based indexing languages like JavaScript.</p>"
   ]
  },
  {
   "cell_type": "markdown",
   "metadata": {},
   "source": [
    "<p>The first index of your <code>rows</code> array is <code>0</code>, which is why you start your <code>for</code> loop with <code>i = 0</code>. But repeating a string zero times results in nothing to print.</p>"
   ]
  },
  {
   "cell_type": "markdown",
   "metadata": {},
   "source": [
    "<p>To fix this, add <code>1</code> to the value of <code>i</code> in your <code>.repeat()</code> call. Do not assign it back to <code>i</code> like you did in your loop conditions.</p>"
   ]
  },
  {
   "cell_type": "markdown",
   "metadata": {},
   "source": [
    "**Source file link:** [pyramidGenerator_step46.js](./pyramidGenerator_step46.js)"
   ]
  },
  {
   "cell_type": "code",
   "execution_count": 330,
   "metadata": {},
   "outputs": [
    {
     "data": {
      "text/markdown": [
       "```js\n",
       "const character = \"#\";\n",
       "const count = 8;\n",
       "const rows = [];\n",
       "\n",
       "for (let i = 0; i < count; i = i + 1) {\n",
       "    rows.push(character.repeat(i + 1));\n",
       "}\n",
       "\n",
       "let result = \"\";\n",
       "\n",
       "for (const row of rows) {\n",
       "    result = result + \"\\n\" + row;\n",
       "}\n",
       "\n",
       "console.log(result);\n",
       "```"
      ],
      "text/plain": [
       "<IPython.core.display.Markdown object>"
      ]
     },
     "metadata": {},
     "output_type": "display_data"
    }
   ],
   "source": [
    "fileName = \"pyramidGenerator_step46.js\"\n",
    "fetchAndDisplaySrcFileAsCodeBlock(fileName)"
   ]
  },
  {
   "cell_type": "markdown",
   "metadata": {},
   "source": [
    "### Execution logs: "
   ]
  },
  {
   "cell_type": "code",
   "execution_count": 331,
   "metadata": {},
   "outputs": [
    {
     "name": "stdout",
     "output_type": "stream",
     "text": [
      "\n",
      "#\n",
      "##\n",
      "###\n",
      "####\n",
      "#####\n",
      "######\n",
      "#######\n",
      "########\n"
     ]
    }
   ],
   "source": [
    "!node pyramidGenerator_step46.js"
   ]
  },
  {
   "cell_type": "markdown",
   "metadata": {},
   "source": [
    "---"
   ]
  },
  {
   "cell_type": "markdown",
   "metadata": {},
   "source": [
    "## Step47:"
   ]
  },
  {
   "cell_type": "markdown",
   "metadata": {},
   "source": [
    "<p>The logic for formatting this pyramid is likely going to get complicated, which means it's a great time to extract that code into a function.</p>"
   ]
  },
  {
   "cell_type": "markdown",
   "metadata": {},
   "source": [
    "<p>A <dfn>function</dfn> is a block of code that can be reused throughout your application. Functions are declared with the following syntax:</p>\n",
    "\n",
    "**Example Code**\n",
    "\n",
    "```js\n",
    "function name(parameter) {\n",
    "\n",
    "}\n",
    "```"
   ]
  },
  {
   "cell_type": "markdown",
   "metadata": {},
   "source": [
    "<p>The <code>function</code> keyword tells JavaScript that the <code>name</code> variable is going to be a function. <code>parameter</code> is a variable that represents a value that is passed into the function when it is used. A function may have as many, or as few, <dfn>parameters</dfn> as you'd like. Like a <code>for</code> loop, the space between the curly braces is the <dfn>function body</dfn>.</p>"
   ]
  },
  {
   "cell_type": "markdown",
   "metadata": {},
   "source": [
    "<p>Declare a <code>padRow</code> function. Do not create any parameter variables yet. The function body should be empty. Remember that you need to use camel case for your naming convention.</p>"
   ]
  },
  {
   "cell_type": "markdown",
   "metadata": {},
   "source": [
    "**Source file link:** [pyramidGenerator_step47.js](./pyramidGenerator_step47.js)"
   ]
  },
  {
   "cell_type": "code",
   "execution_count": 332,
   "metadata": {},
   "outputs": [
    {
     "data": {
      "text/markdown": [
       "```js\n",
       "const character = \"#\";\n",
       "const count = 8;\n",
       "const rows = [];\n",
       "\n",
       "function padRow() {\n",
       "\n",
       "}\n",
       "\n",
       "for (let i = 0; i < count; i = i + 1) {\n",
       "    rows.push(character.repeat(i + 1));\n",
       "}\n",
       "\n",
       "let result = \"\";\n",
       "\n",
       "for (const row of rows) {\n",
       "    result = result + \"\\n\" + row;\n",
       "}\n",
       "\n",
       "console.log(result);\n",
       "\n",
       "```"
      ],
      "text/plain": [
       "<IPython.core.display.Markdown object>"
      ]
     },
     "metadata": {},
     "output_type": "display_data"
    }
   ],
   "source": [
    "fileName = \"pyramidGenerator_step47.js\"\n",
    "fetchAndDisplaySrcFileAsCodeBlock(fileName)"
   ]
  },
  {
   "cell_type": "markdown",
   "metadata": {},
   "source": [
    "### Execution logs: "
   ]
  },
  {
   "cell_type": "code",
   "execution_count": 333,
   "metadata": {},
   "outputs": [
    {
     "name": "stdout",
     "output_type": "stream",
     "text": [
      "\n",
      "#\n",
      "##\n",
      "###\n",
      "####\n",
      "#####\n",
      "######\n",
      "#######\n",
      "########\n"
     ]
    }
   ],
   "source": [
    "!node pyramidGenerator_step47.js"
   ]
  },
  {
   "cell_type": "markdown",
   "metadata": {},
   "source": [
    "---"
   ]
  },
  {
   "cell_type": "markdown",
   "metadata": {},
   "source": [
    "## Step48:"
   ]
  },
  {
   "cell_type": "markdown",
   "metadata": {},
   "source": [
    "<p>In order to use a function, you need to call it. A <dfn>function call</dfn> tells your application to run the code from the function wherever you choose to call it. The syntax for a function call is the function name followed by parentheses. For example, this code defines and calls a <code>test</code> function.</p>\n",
    "\n",
    "**Example Code**\n",
    "\n",
    "```js\n",
    "function test() {\n",
    "\n",
    "}\n",
    "\n",
    "test();\n",
    "```"
   ]
  },
  {
   "cell_type": "markdown",
   "metadata": {},
   "source": [
    "<p>Call your <code>padRow</code> function.</p>"
   ]
  },
  {
   "cell_type": "markdown",
   "metadata": {},
   "source": [
    "**Source file link:** [pyramidGenerator_step48.js](./pyramidGenerator_step48.js)"
   ]
  },
  {
   "cell_type": "code",
   "execution_count": 334,
   "metadata": {},
   "outputs": [
    {
     "data": {
      "text/markdown": [
       "```js\n",
       "const character = \"#\";\n",
       "const count = 8;\n",
       "const rows = [];\n",
       "\n",
       "function padRow() {\n",
       "\n",
       "}\n",
       "\n",
       "padRow();\n",
       "\n",
       "for (let i = 0; i < count; i = i + 1) {\n",
       "    rows.push(character.repeat(i + 1));\n",
       "}\n",
       "\n",
       "let result = \"\";\n",
       "\n",
       "for (const row of rows) {\n",
       "    result = result + \"\\n\" + row;\n",
       "}\n",
       "\n",
       "console.log(result);\n",
       "\n",
       "```"
      ],
      "text/plain": [
       "<IPython.core.display.Markdown object>"
      ]
     },
     "metadata": {},
     "output_type": "display_data"
    }
   ],
   "source": [
    "fileName = \"pyramidGenerator_step48.js\"\n",
    "fetchAndDisplaySrcFileAsCodeBlock(fileName)"
   ]
  },
  {
   "cell_type": "markdown",
   "metadata": {},
   "source": [
    "### Execution logs: "
   ]
  },
  {
   "cell_type": "code",
   "execution_count": 335,
   "metadata": {},
   "outputs": [
    {
     "name": "stdout",
     "output_type": "stream",
     "text": [
      "\n",
      "#\n",
      "##\n",
      "###\n",
      "####\n",
      "#####\n",
      "######\n",
      "#######\n",
      "########\n"
     ]
    }
   ],
   "source": [
    "!node pyramidGenerator_step48.js"
   ]
  },
  {
   "cell_type": "markdown",
   "metadata": {},
   "source": [
    "---"
   ]
  },
  {
   "cell_type": "markdown",
   "metadata": {},
   "source": [
    "## Step49:"
   ]
  },
  {
   "cell_type": "markdown",
   "metadata": {},
   "source": [
    "<p>You are calling your <code>padRow</code> function, but not doing anything with that function call. All functions in JavaScript <dfn>return</dfn> a value, meaning they provide the defined result of calling them for you to use elsewhere.</p>"
   ]
  },
  {
   "cell_type": "markdown",
   "metadata": {},
   "source": [
    "<p>To see the result of calling your <code>padRow</code> function, declare a <code>call</code> variable and assign your existing <code>padRow</code> call to that variable.</p>"
   ]
  },
  {
   "cell_type": "markdown",
   "metadata": {},
   "source": [
    "**Source file link:** [pyramidGenerator_step49.js](./pyramidGenerator_step49.js)"
   ]
  },
  {
   "cell_type": "code",
   "execution_count": 336,
   "metadata": {},
   "outputs": [
    {
     "data": {
      "text/markdown": [
       "```js\n",
       "const character = \"#\";\n",
       "const count = 8;\n",
       "const rows = [];\n",
       "\n",
       "function padRow() {\n",
       "\n",
       "}\n",
       "\n",
       "const call = padRow();\n",
       "\n",
       "for (let i = 0; i < count; i = i + 1) {\n",
       "    rows.push(character.repeat(i + 1));\n",
       "}\n",
       "\n",
       "let result = \"\";\n",
       "\n",
       "for (const row of rows) {\n",
       "    result = result + \"\\n\" + row;\n",
       "}\n",
       "\n",
       "console.log(result);\n",
       "\n",
       "```"
      ],
      "text/plain": [
       "<IPython.core.display.Markdown object>"
      ]
     },
     "metadata": {},
     "output_type": "display_data"
    }
   ],
   "source": [
    "fileName = \"pyramidGenerator_step49.js\"\n",
    "fetchAndDisplaySrcFileAsCodeBlock(fileName)"
   ]
  },
  {
   "cell_type": "markdown",
   "metadata": {},
   "source": [
    "### Execution logs: "
   ]
  },
  {
   "cell_type": "code",
   "execution_count": 337,
   "metadata": {},
   "outputs": [
    {
     "name": "stdout",
     "output_type": "stream",
     "text": [
      "\n",
      "#\n",
      "##\n",
      "###\n",
      "####\n",
      "#####\n",
      "######\n",
      "#######\n",
      "########\n"
     ]
    }
   ],
   "source": [
    "!node pyramidGenerator_step49.js"
   ]
  },
  {
   "cell_type": "markdown",
   "metadata": {},
   "source": [
    "---"
   ]
  },
  {
   "cell_type": "markdown",
   "metadata": {},
   "source": [
    "## Step50:"
   ]
  },
  {
   "cell_type": "markdown",
   "metadata": {},
   "source": [
    "<p>Now add a log statement to print the value of your <code>call</code> variable.</p>"
   ]
  },
  {
   "cell_type": "markdown",
   "metadata": {},
   "source": [
    "**Source file link:** [pyramidGenerator_step50.js](./pyramidGenerator_step50.js)"
   ]
  },
  {
   "cell_type": "code",
   "execution_count": 338,
   "metadata": {},
   "outputs": [
    {
     "data": {
      "text/markdown": [
       "```js\n",
       "const character = \"#\";\n",
       "const count = 8;\n",
       "const rows = [];\n",
       "\n",
       "function padRow() {\n",
       "\n",
       "}\n",
       "\n",
       "const call = padRow();\n",
       "console.log(call);\n",
       "\n",
       "for (let i = 0; i < count; i = i + 1) {\n",
       "    rows.push(character.repeat(i + 1));\n",
       "}\n",
       "\n",
       "let result = \"\";\n",
       "\n",
       "for (const row of rows) {\n",
       "    result = result + \"\\n\" + row;\n",
       "}\n",
       "\n",
       "console.log(result);\n",
       "\n",
       "```"
      ],
      "text/plain": [
       "<IPython.core.display.Markdown object>"
      ]
     },
     "metadata": {},
     "output_type": "display_data"
    }
   ],
   "source": [
    "fileName = \"pyramidGenerator_step50.js\"\n",
    "fetchAndDisplaySrcFileAsCodeBlock(fileName)"
   ]
  },
  {
   "cell_type": "markdown",
   "metadata": {},
   "source": [
    "### Execution logs: "
   ]
  },
  {
   "cell_type": "code",
   "execution_count": 339,
   "metadata": {},
   "outputs": [
    {
     "name": "stdout",
     "output_type": "stream",
     "text": [
      "\u001b[90mundefined\u001b[39m\n",
      "\n",
      "#\n",
      "##\n",
      "###\n",
      "####\n",
      "#####\n",
      "######\n",
      "#######\n",
      "########\n"
     ]
    }
   ],
   "source": [
    "!node pyramidGenerator_step50.js"
   ]
  },
  {
   "cell_type": "markdown",
   "metadata": {},
   "source": [
    "---"
   ]
  },
  {
   "cell_type": "markdown",
   "metadata": {},
   "source": [
    "## Step51:"
   ]
  },
  {
   "cell_type": "markdown",
   "metadata": {},
   "source": [
    "<p>Your <code>call</code> variable has an <code>undefined</code> value, even though you defined it! This is because your <code>padRow</code> function does not currently return a value. By default, functions return <code>undefined</code> as their value.</p>"
   ]
  },
  {
   "cell_type": "markdown",
   "metadata": {},
   "source": [
    "<p>In order to return something else, you need to use the <code>return</code> keyword. Here is an example of a function that returns the string <code>\"Functions are cool!\"</code>:</p>\n",
    "\n",
    "**Example Code**\n",
    "\n",
    "```js\n",
    "function demo() {\n",
    "  return \"Functions are cool!\";\n",
    "}\n",
    "```"
   ]
  },
  {
   "cell_type": "markdown",
   "metadata": {},
   "source": [
    "<p>Use the <code>return</code> keyword to have your function return the string <code>\"Hello!\"</code>.</p>"
   ]
  },
  {
   "cell_type": "markdown",
   "metadata": {},
   "source": [
    "**Source file link:** [pyramidGenerator_step51.js](./pyramidGenerator_step51.js)"
   ]
  },
  {
   "cell_type": "code",
   "execution_count": 476,
   "metadata": {},
   "outputs": [
    {
     "data": {
      "text/markdown": [
       "```js\n",
       "const character = \"#\";\n",
       "const count = 8;\n",
       "const rows = [];\n",
       "\n",
       "function padRow() {\n",
       "    return \"Hello!\";\n",
       "}\n",
       "\n",
       "const call = padRow();\n",
       "console.log(call);\n",
       "\n",
       "for (let i = 0; i < count; i = i + 1) {\n",
       "    rows.push(character.repeat(i + 1));\n",
       "}\n",
       "\n",
       "let result = \"\";\n",
       "\n",
       "for (const row of rows) {\n",
       "    result = result + \"\\n\" + row;\n",
       "}\n",
       "\n",
       "console.log(result);\n",
       "\n",
       "```"
      ],
      "text/plain": [
       "<IPython.core.display.Markdown object>"
      ]
     },
     "metadata": {},
     "output_type": "display_data"
    }
   ],
   "source": [
    "fileName = \"pyramidGenerator_step51.js\"\n",
    "fetchAndDisplaySrcFileAsCodeBlock(fileName)"
   ]
  },
  {
   "cell_type": "markdown",
   "metadata": {},
   "source": [
    "### Execution logs: "
   ]
  },
  {
   "cell_type": "code",
   "execution_count": 477,
   "metadata": {},
   "outputs": [
    {
     "name": "stdout",
     "output_type": "stream",
     "text": [
      "Hello!\n",
      "\n",
      "#\n",
      "##\n",
      "###\n",
      "####\n",
      "#####\n",
      "######\n",
      "#######\n",
      "########\n"
     ]
    }
   ],
   "source": [
    "!node pyramidGenerator_step51.js"
   ]
  },
  {
   "cell_type": "markdown",
   "metadata": {},
   "source": [
    "---"
   ]
  },
  {
   "cell_type": "markdown",
   "metadata": {},
   "source": [
    "## Step52:"
   ]
  },
  {
   "cell_type": "markdown",
   "metadata": {},
   "source": [
    "<p>When you have a value that is explicitly written in your code, like the <code>\"Hello!\"</code> string in your function, it is considered to be <dfn>hard-coded</dfn>. Hard-coding a value inside a function might not make it as reusable as you'd like.</p>"
   ]
  },
  {
   "cell_type": "markdown",
   "metadata": {},
   "source": [
    "<p>Instead, you can define <dfn>parameters</dfn> for the function. Parameters are special variables that are given a value when you call the function, and can be used in your function to dynamically change the result of the function's code.</p>"
   ]
  },
  {
   "cell_type": "markdown",
   "metadata": {},
   "source": [
    "<p>To add a parameter to your function, you need to add a variable name inside the parentheses. For example, this <code>demo</code> function has a <code>name</code> parameter:</p>\n",
    "\n",
    "**Example Code**\n",
    "\n",
    "```js\n",
    "function demo(name) {\n",
    "\n",
    "}\n",
    "```"
   ]
  },
  {
   "cell_type": "markdown",
   "metadata": {},
   "source": [
    "<p><code>name</code> sounds like a useful parameter, so go ahead and add it to your <code>padRow</code> function.</p>"
   ]
  },
  {
   "cell_type": "markdown",
   "metadata": {},
   "source": [
    "**Source file link:** [pyramidGenerator_step52.js](./pyramidGenerator_step52.js)"
   ]
  },
  {
   "cell_type": "code",
   "execution_count": 478,
   "metadata": {},
   "outputs": [
    {
     "data": {
      "text/markdown": [
       "```js\n",
       "const character = \"#\";\n",
       "const count = 8;\n",
       "const rows = [];\n",
       "\n",
       "function padRow(name) {\n",
       "    return \"Hello!\";\n",
       "}\n",
       "\n",
       "const call = padRow();\n",
       "console.log(call);\n",
       "\n",
       "for (let i = 0; i < count; i = i + 1) {\n",
       "    rows.push(character.repeat(i + 1));\n",
       "}\n",
       "\n",
       "let result = \"\";\n",
       "\n",
       "for (const row of rows) {\n",
       "    result = result + \"\\n\" + row;\n",
       "}\n",
       "\n",
       "console.log(result);\n",
       "\n",
       "```"
      ],
      "text/plain": [
       "<IPython.core.display.Markdown object>"
      ]
     },
     "metadata": {},
     "output_type": "display_data"
    }
   ],
   "source": [
    "fileName = \"pyramidGenerator_step52.js\"\n",
    "fetchAndDisplaySrcFileAsCodeBlock(fileName)"
   ]
  },
  {
   "cell_type": "markdown",
   "metadata": {},
   "source": [
    "### Execution logs: "
   ]
  },
  {
   "cell_type": "code",
   "execution_count": 479,
   "metadata": {},
   "outputs": [
    {
     "name": "stdout",
     "output_type": "stream",
     "text": [
      "Hello!\n",
      "\n",
      "#\n",
      "##\n",
      "###\n",
      "####\n",
      "#####\n",
      "######\n",
      "#######\n",
      "########\n"
     ]
    }
   ],
   "source": [
    "!node pyramidGenerator_step52.js"
   ]
  },
  {
   "cell_type": "markdown",
   "metadata": {},
   "source": [
    "---"
   ]
  },
  {
   "cell_type": "markdown",
   "metadata": {},
   "source": [
    "## Step53:"
   ]
  },
  {
   "cell_type": "markdown",
   "metadata": {},
   "source": [
    "<p>A function does not have to return a hard-coded value. It can return the value stored in a variable. Parameters are special variables for a function, so they can also be returned.</p>"
   ]
  },
  {
   "cell_type": "markdown",
   "metadata": {},
   "source": [
    "<p>Change your <code>padRow</code> function to <code>return</code> the <code>name</code> parameter directly.</p>"
   ]
  },
  {
   "cell_type": "markdown",
   "metadata": {},
   "source": [
    "**Source file link:** [pyramidGenerator_step53.js](./pyramidGenerator_step53.js)"
   ]
  },
  {
   "cell_type": "code",
   "execution_count": 480,
   "metadata": {},
   "outputs": [
    {
     "data": {
      "text/markdown": [
       "```js\n",
       "const character = \"#\";\n",
       "const count = 8;\n",
       "const rows = [];\n",
       "\n",
       "function padRow(name) {\n",
       "    return name;\n",
       "}\n",
       "\n",
       "const call = padRow();\n",
       "console.log(call);\n",
       "\n",
       "for (let i = 0; i < count; i = i + 1) {\n",
       "    rows.push(character.repeat(i + 1));\n",
       "}\n",
       "\n",
       "let result = \"\";\n",
       "\n",
       "for (const row of rows) {\n",
       "    result = result + \"\\n\" + row;\n",
       "}\n",
       "\n",
       "console.log(result);\n",
       "\n",
       "```"
      ],
      "text/plain": [
       "<IPython.core.display.Markdown object>"
      ]
     },
     "metadata": {},
     "output_type": "display_data"
    }
   ],
   "source": [
    "fileName = \"pyramidGenerator_step53.js\"\n",
    "fetchAndDisplaySrcFileAsCodeBlock(fileName)"
   ]
  },
  {
   "cell_type": "markdown",
   "metadata": {},
   "source": [
    "### Execution logs: "
   ]
  },
  {
   "cell_type": "code",
   "execution_count": 481,
   "metadata": {},
   "outputs": [
    {
     "name": "stdout",
     "output_type": "stream",
     "text": [
      "\u001b[90mundefined\u001b[39m\n",
      "\n",
      "#\n",
      "##\n",
      "###\n",
      "####\n",
      "#####\n",
      "######\n",
      "#######\n",
      "########\n"
     ]
    }
   ],
   "source": [
    "!node pyramidGenerator_step53.js"
   ]
  },
  {
   "cell_type": "markdown",
   "metadata": {},
   "source": [
    "---"
   ]
  },
  {
   "cell_type": "markdown",
   "metadata": {},
   "source": [
    "## Step54:"
   ]
  },
  {
   "cell_type": "markdown",
   "metadata": {},
   "source": [
    "<p>If you open your console again, you'll see that your <code>padRow</code> function is returning <code>undefined</code>, even though you defined a return value! This is because parameters need to be given a value when you <strong>call</strong> the function.</p>"
   ]
  },
  {
   "cell_type": "markdown",
   "metadata": {},
   "source": [
    "<p>When you pass a value to a function call, that value is referred to as an <dfn>argument</dfn>. Here is an example of calling a <code>demo</code> function and passing <code>\"Naomi\"</code> as the argument for the <code>name</code> parameter.</p>\n",
    "\n",
    "**Example Code**\n",
    "\n",
    "```js\n",
    "function demo(name) {\n",
    "  return name;\n",
    "}\n",
    "demo(\"Naomi\");\n",
    "```"
   ]
  },
  {
   "cell_type": "markdown",
   "metadata": {},
   "source": [
    "<p>Pass your own name as the argument for the <code>name</code> parameter in your <code>padRow</code> call. Remember that your name is a string, so you'll need to use quotes.</p>"
   ]
  },
  {
   "cell_type": "markdown",
   "metadata": {},
   "source": [
    "**Source file link:** [pyramidGenerator_step54.js](./pyramidGenerator_step54.js)"
   ]
  },
  {
   "cell_type": "code",
   "execution_count": 482,
   "metadata": {},
   "outputs": [
    {
     "data": {
      "text/markdown": [
       "```js\n",
       "const character = \"#\";\n",
       "const count = 8;\n",
       "const rows = [];\n",
       "\n",
       "function padRow(name) {\n",
       "    return name;\n",
       "}\n",
       "\n",
       "const call = padRow(\"Mallikarjuna G\");\n",
       "console.log(call);\n",
       "\n",
       "for (let i = 0; i < count; i = i + 1) {\n",
       "    rows.push(character.repeat(i + 1));\n",
       "}\n",
       "\n",
       "let result = \"\";\n",
       "\n",
       "for (const row of rows) {\n",
       "    result = result + \"\\n\" + row;\n",
       "}\n",
       "\n",
       "console.log(result);\n",
       "\n",
       "```"
      ],
      "text/plain": [
       "<IPython.core.display.Markdown object>"
      ]
     },
     "metadata": {},
     "output_type": "display_data"
    }
   ],
   "source": [
    "fileName = \"pyramidGenerator_step54.js\"\n",
    "fetchAndDisplaySrcFileAsCodeBlock(fileName)"
   ]
  },
  {
   "cell_type": "markdown",
   "metadata": {},
   "source": [
    "### Execution logs: "
   ]
  },
  {
   "cell_type": "code",
   "execution_count": 483,
   "metadata": {},
   "outputs": [
    {
     "name": "stdout",
     "output_type": "stream",
     "text": [
      "Mallikarjuna G\n",
      "\n",
      "#\n",
      "##\n",
      "###\n",
      "####\n",
      "#####\n",
      "######\n",
      "#######\n",
      "########\n"
     ]
    }
   ],
   "source": [
    "!node pyramidGenerator_step54.js"
   ]
  },
  {
   "cell_type": "markdown",
   "metadata": {},
   "source": [
    "---"
   ]
  },
  {
   "cell_type": "markdown",
   "metadata": {},
   "source": [
    "## Step55:"
   ]
  },
  {
   "cell_type": "markdown",
   "metadata": {},
   "source": [
    "<p>Before moving on, take a moment to review how functions work.</p>"
   ]
  },
  {
   "cell_type": "markdown",
   "metadata": {},
   "source": [
    "<p>Declare a function named <code>addTwoNumbers</code>. This function should take two arguments and return the sum of those two arguments.</p>"
   ]
  },
  {
   "cell_type": "markdown",
   "metadata": {},
   "source": [
    "<p>Your function should not use hard-coded values. An example of a hard-coded function might be:</p>\n",
    "\n",
    "**Example Code**\n",
    "\n",
    "```js\n",
    "function sayName(firstName, lastName) {\n",
    "  return \"John Doe\";\n",
    "}\n",
    "\n",
    "sayName(\"Camper\", \"Cat\");\n",
    "```"
   ]
  },
  {
   "cell_type": "markdown",
   "metadata": {},
   "source": [
    "<p>This function would return <code>\"John Doe\"</code> regardless of the arguments passed to the parameters <code>firstName</code>, and <code>lastName</code>, so <code>\"John Doe\"</code> is considered a hard-coded value.</p>"
   ]
  },
  {
   "cell_type": "markdown",
   "metadata": {},
   "source": [
    "<p>Declare a <code>sum</code> variable and assign it the value of calling your <code>addTwoNumbers</code> function with <code>5</code> and <code>10</code> as the arguments. Log the <code>sum</code> variable to the console.</p>"
   ]
  },
  {
   "cell_type": "markdown",
   "metadata": {},
   "source": [
    "**Source file link:** [pyramidGenerator_step55.js](./pyramidGenerator_step55.js)"
   ]
  },
  {
   "cell_type": "code",
   "execution_count": 484,
   "metadata": {},
   "outputs": [
    {
     "data": {
      "text/markdown": [
       "```js\n",
       "const character = \"#\";\n",
       "const count = 8;\n",
       "const rows = [];\n",
       "\n",
       "function addTwoNumbers(a, b) {\n",
       "    return a + b;\n",
       "}\n",
       "\n",
       "const sum = addTwoNumbers(5, 10);\n",
       "console.log(sum);\n",
       "\n",
       "\n",
       "function padRow(name) {\n",
       "    return name;\n",
       "}\n",
       "\n",
       "const call = padRow(\"Mallikarjuna G\");\n",
       "console.log(call);\n",
       "\n",
       "for (let i = 0; i < count; i = i + 1) {\n",
       "    rows.push(character.repeat(i + 1));\n",
       "}\n",
       "\n",
       "let result = \"\";\n",
       "\n",
       "for (const row of rows) {\n",
       "    result = result + \"\\n\" + row;\n",
       "}\n",
       "\n",
       "console.log(result);\n",
       "\n",
       "```"
      ],
      "text/plain": [
       "<IPython.core.display.Markdown object>"
      ]
     },
     "metadata": {},
     "output_type": "display_data"
    }
   ],
   "source": [
    "fileName = \"pyramidGenerator_step55.js\"\n",
    "fetchAndDisplaySrcFileAsCodeBlock(fileName)"
   ]
  },
  {
   "cell_type": "markdown",
   "metadata": {},
   "source": [
    "### Execution logs: "
   ]
  },
  {
   "cell_type": "code",
   "execution_count": 485,
   "metadata": {},
   "outputs": [
    {
     "name": "stdout",
     "output_type": "stream",
     "text": [
      "\u001b[33m15\u001b[39m\n",
      "Mallikarjuna G\n",
      "\n",
      "#\n",
      "##\n",
      "###\n",
      "####\n",
      "#####\n",
      "######\n",
      "#######\n",
      "########\n"
     ]
    }
   ],
   "source": [
    "!node pyramidGenerator_step55.js"
   ]
  },
  {
   "cell_type": "markdown",
   "metadata": {},
   "source": [
    "---"
   ]
  },
  {
   "cell_type": "markdown",
   "metadata": {},
   "source": [
    "## Step56:"
   ]
  },
  {
   "cell_type": "markdown",
   "metadata": {},
   "source": [
    "<p>With that quick review complete, you should remove your <code>addTwoNumbers</code> function, <code>sum</code> variable, and log statement.</p>"
   ]
  },
  {
   "cell_type": "markdown",
   "metadata": {},
   "source": [
    "**Source file link:** [pyramidGenerator_step56.js](./pyramidGenerator_step56.js)"
   ]
  },
  {
   "cell_type": "code",
   "execution_count": 486,
   "metadata": {},
   "outputs": [
    {
     "data": {
      "text/markdown": [
       "```js\n",
       "const character = \"#\";\n",
       "const count = 8;\n",
       "const rows = [];\n",
       "\n",
       "function padRow(name) {\n",
       "    return name;\n",
       "}\n",
       "\n",
       "const call = padRow(\"Mallikarjuna G\");\n",
       "console.log(call);\n",
       "\n",
       "for (let i = 0; i < count; i = i + 1) {\n",
       "    rows.push(character.repeat(i + 1));\n",
       "}\n",
       "\n",
       "let result = \"\";\n",
       "\n",
       "for (const row of rows) {\n",
       "    result = result + \"\\n\" + row;\n",
       "}\n",
       "\n",
       "console.log(result);\n",
       "\n",
       "```"
      ],
      "text/plain": [
       "<IPython.core.display.Markdown object>"
      ]
     },
     "metadata": {},
     "output_type": "display_data"
    }
   ],
   "source": [
    "fileName = \"pyramidGenerator_step56.js\"\n",
    "fetchAndDisplaySrcFileAsCodeBlock(fileName)"
   ]
  },
  {
   "cell_type": "markdown",
   "metadata": {},
   "source": [
    "### Execution logs: "
   ]
  },
  {
   "cell_type": "code",
   "execution_count": 487,
   "metadata": {},
   "outputs": [
    {
     "name": "stdout",
     "output_type": "stream",
     "text": [
      "Mallikarjuna G\n",
      "\n",
      "#\n",
      "##\n",
      "###\n",
      "####\n",
      "#####\n",
      "######\n",
      "#######\n",
      "########\n"
     ]
    }
   ],
   "source": [
    "!node pyramidGenerator_step56.js"
   ]
  },
  {
   "cell_type": "markdown",
   "metadata": {},
   "source": [
    "---"
   ]
  },
  {
   "cell_type": "markdown",
   "metadata": {},
   "source": [
    "## Step57:"
   ]
  },
  {
   "cell_type": "markdown",
   "metadata": {},
   "source": [
    "<p>Variables in JavaScript are available in a specific <dfn>scope</dfn>. In other words, where a variable is declared determines where in your code it can be used.</p>"
   ]
  },
  {
   "cell_type": "markdown",
   "metadata": {},
   "source": [
    "<p>The first scope is the global scope. Variables that are declared outside of any \"block\" like a function or <code>for</code> loop are in the <dfn>global scope</dfn>. Your <code>character</code>, <code>count</code>, and <code>rows</code> variables are all in the global scope.</p>"
   ]
  },
  {
   "cell_type": "markdown",
   "metadata": {},
   "source": [
    "<p>When a variable is in the global scope, a function can access it in its definition. Here is an example of a function using a global <code>title</code> variable:</p>\n",
    "\n",
    "**Example Code**\n",
    "\n",
    "```js\n",
    "const title = \"Professor \";\n",
    "function demo(name) {\n",
    "  return title + name;\n",
    "}\n",
    "demo(\"Naomi\")\n",
    "```"
   ]
  },
  {
   "cell_type": "markdown",
   "metadata": {},
   "source": [
    "<p>This example would return <code>\"Professor Naomi\"</code>. Update your <code>padRow</code> function to return the value of concatenating your <code>character</code> variable to the beginning of the <code>name</code> parameter.</p>"
   ]
  },
  {
   "cell_type": "markdown",
   "metadata": {},
   "source": [
    "**Source file link:** [pyramidGenerator_step57.js](./pyramidGenerator_step57.js)"
   ]
  },
  {
   "cell_type": "code",
   "execution_count": 488,
   "metadata": {},
   "outputs": [
    {
     "data": {
      "text/markdown": [
       "```js\n",
       "const character = \"#\";\n",
       "const count = 8;\n",
       "const rows = [];\n",
       "\n",
       "function padRow(name) {\n",
       "    return character + name;\n",
       "}\n",
       "\n",
       "const call = padRow(\"Mallikarjuna G\");\n",
       "console.log(call);\n",
       "\n",
       "for (let i = 0; i < count; i = i + 1) {\n",
       "    rows.push(character.repeat(i + 1));\n",
       "}\n",
       "\n",
       "let result = \"\";\n",
       "\n",
       "for (const row of rows) {\n",
       "    result = result + \"\\n\" + row;\n",
       "}\n",
       "\n",
       "console.log(result);\n",
       "\n",
       "```"
      ],
      "text/plain": [
       "<IPython.core.display.Markdown object>"
      ]
     },
     "metadata": {},
     "output_type": "display_data"
    }
   ],
   "source": [
    "fileName = \"pyramidGenerator_step57.js\"\n",
    "fetchAndDisplaySrcFileAsCodeBlock(fileName)"
   ]
  },
  {
   "cell_type": "markdown",
   "metadata": {},
   "source": [
    "### Execution logs: "
   ]
  },
  {
   "cell_type": "code",
   "execution_count": 489,
   "metadata": {},
   "outputs": [
    {
     "name": "stdout",
     "output_type": "stream",
     "text": [
      "#Mallikarjuna G\n",
      "\n",
      "#\n",
      "##\n",
      "###\n",
      "####\n",
      "#####\n",
      "######\n",
      "#######\n",
      "########\n"
     ]
    }
   ],
   "source": [
    "!node pyramidGenerator_step57.js"
   ]
  },
  {
   "cell_type": "markdown",
   "metadata": {},
   "source": [
    "---"
   ]
  },
  {
   "cell_type": "markdown",
   "metadata": {},
   "source": [
    "## Step58:"
   ]
  },
  {
   "cell_type": "markdown",
   "metadata": {},
   "source": [
    "<p>Variables can also be declared inside a function. These variables are considered to be in the <dfn>local scope</dfn>, or <dfn>block scope</dfn>. A variable declared inside a function can only be used inside that function. If you try to access it outside of the function, you get a reference error.</p>"
   ]
  },
  {
   "cell_type": "markdown",
   "metadata": {},
   "source": [
    "<p>To see this in action, use <code>const</code> to declare a <code>test</code> variable in your <code>padRow</code> function. Initialise it with the value <code>\"Testing\"</code>.</p>"
   ]
  },
  {
   "cell_type": "markdown",
   "metadata": {},
   "source": [
    "<p>Then, below your function, try to log <code>test</code> to the console. You will see an error because it is not defined outside of the function's local scope. Remove that <code>console.log</code> to pass the tests and continue.</p>"
   ]
  },
  {
   "cell_type": "markdown",
   "metadata": {},
   "source": [
    "**Source file link:** [pyramidGenerator_step58.js](./pyramidGenerator_step58.js)"
   ]
  },
  {
   "cell_type": "code",
   "execution_count": 490,
   "metadata": {},
   "outputs": [
    {
     "data": {
      "text/markdown": [
       "```js\n",
       "const character = \"#\";\n",
       "const count = 8;\n",
       "const rows = [];\n",
       "\n",
       "function padRow(name) {\n",
       "    const test = \"Testing\";\n",
       "    return character + name;\n",
       "}\n",
       "// console.log(test);  // Commented because `test` is not visible here.\n",
       "\n",
       "\n",
       "const call = padRow(\"Mallikarjuna G\");\n",
       "console.log(call);\n",
       "\n",
       "for (let i = 0; i < count; i = i + 1) {\n",
       "    rows.push(character.repeat(i + 1));\n",
       "}\n",
       "\n",
       "let result = \"\";\n",
       "\n",
       "for (const row of rows) {\n",
       "    result = result + \"\\n\" + row;\n",
       "}\n",
       "\n",
       "console.log(result);\n",
       "\n",
       "```"
      ],
      "text/plain": [
       "<IPython.core.display.Markdown object>"
      ]
     },
     "metadata": {},
     "output_type": "display_data"
    }
   ],
   "source": [
    "fileName = \"pyramidGenerator_step58.js\"\n",
    "fetchAndDisplaySrcFileAsCodeBlock(fileName)"
   ]
  },
  {
   "cell_type": "markdown",
   "metadata": {},
   "source": [
    "### Execution logs: "
   ]
  },
  {
   "cell_type": "code",
   "execution_count": 491,
   "metadata": {},
   "outputs": [
    {
     "name": "stdout",
     "output_type": "stream",
     "text": [
      "#Mallikarjuna G\n",
      "\n",
      "#\n",
      "##\n",
      "###\n",
      "####\n",
      "#####\n",
      "######\n",
      "#######\n",
      "########\n"
     ]
    }
   ],
   "source": [
    "!node pyramidGenerator_step58.js"
   ]
  },
  {
   "cell_type": "markdown",
   "metadata": {},
   "source": [
    "---"
   ]
  },
  {
   "cell_type": "markdown",
   "metadata": {},
   "source": [
    "## Step59:"
   ]
  },
  {
   "cell_type": "markdown",
   "metadata": {},
   "source": [
    "<p>Values returned out of a function are used by calling the function. You can use the function call directly as the value it returns, or capture the returned value in a variable. This way, you can use the value assigned to a locally scoped variable, outside the function it was created in.</p>\n",
    "\n",
    "**Example Code**\n",
    "\n",
    "```js\n",
    "function getName() {\n",
    "  const name = \"Camper cat\";\n",
    "  return name;\n",
    "}\n",
    "\n",
    "console.log(getName()); // \"Camper cat\"\n",
    "\n",
    "const capturedReturnValue = getName();\n",
    "console.log(capturedReturnValue); // \"Camper cat\"\n",
    "\n",
    "console.log(name); // reference error\n",
    "```"
   ]
  },
  {
   "cell_type": "markdown",
   "metadata": {},
   "source": [
    "<p>To use your <code>\"Testing\"</code> value, return it out of the <code>padRow</code> function by updating your <code>return</code> statement to return only the <code>test</code> variable.</p>"
   ]
  },
  {
   "cell_type": "markdown",
   "metadata": {},
   "source": [
    "**Source file link:** [pyramidGenerator_step59.js](./pyramidGenerator_step59.js)"
   ]
  },
  {
   "cell_type": "code",
   "execution_count": 492,
   "metadata": {},
   "outputs": [
    {
     "data": {
      "text/markdown": [
       "```js\n",
       "const character = \"#\";\n",
       "const count = 8;\n",
       "const rows = [];\n",
       "\n",
       "function padRow(name) {\n",
       "    const test = \"Testing\";\n",
       "    return test;\n",
       "}\n",
       "// console.log(test);  // Commented because `test` is not visible here.\n",
       "\n",
       "\n",
       "const call = padRow(\"Mallikarjuna G\");\n",
       "console.log(call);\n",
       "\n",
       "for (let i = 0; i < count; i = i + 1) {\n",
       "    rows.push(character.repeat(i + 1));\n",
       "}\n",
       "\n",
       "let result = \"\";\n",
       "\n",
       "for (const row of rows) {\n",
       "    result = result + \"\\n\" + row;\n",
       "}\n",
       "\n",
       "console.log(result);\n",
       "\n",
       "```"
      ],
      "text/plain": [
       "<IPython.core.display.Markdown object>"
      ]
     },
     "metadata": {},
     "output_type": "display_data"
    }
   ],
   "source": [
    "fileName = \"pyramidGenerator_step59.js\"\n",
    "fetchAndDisplaySrcFileAsCodeBlock(fileName)"
   ]
  },
  {
   "cell_type": "markdown",
   "metadata": {},
   "source": [
    "### Execution logs: "
   ]
  },
  {
   "cell_type": "code",
   "execution_count": 493,
   "metadata": {},
   "outputs": [
    {
     "name": "stdout",
     "output_type": "stream",
     "text": [
      "Testing\n",
      "\n",
      "#\n",
      "##\n",
      "###\n",
      "####\n",
      "#####\n",
      "######\n",
      "#######\n",
      "########\n"
     ]
    }
   ],
   "source": [
    "!node pyramidGenerator_step59.js"
   ]
  },
  {
   "cell_type": "markdown",
   "metadata": {},
   "source": [
    "---"
   ]
  },
  {
   "cell_type": "markdown",
   "metadata": {},
   "source": [
    "## Step60:"
   ]
  },
  {
   "cell_type": "markdown",
   "metadata": {},
   "source": [
    "<p>Below the <code>return</code> statement, log the string <code>\"This works!\"</code> to the console.</p>"
   ]
  },
  {
   "cell_type": "markdown",
   "metadata": {},
   "source": [
    "<p>After doing that, you will see that the string <code>\"This works!\"</code> does not display in the console, and the <code>console.log(\"This works!\")</code> line is greyed out.</p>"
   ]
  },
  {
   "cell_type": "markdown",
   "metadata": {},
   "source": [
    "<p>Copy the console log and paste it above the <code>return</code> statement. Now, the string <code>\"This works!\"</code> should appear in the console.</p>"
   ]
  },
  {
   "cell_type": "markdown",
   "metadata": {},
   "source": [
    "<p>An important thing to know about the <code>return</code> keyword is that it does not just define a value to be returned from your function, it also stops the execution of your code inside a function or a block statement. This means any code after a <code>return</code> statement will not run.</p>"
   ]
  },
  {
   "cell_type": "markdown",
   "metadata": {},
   "source": [
    "**Source file link:** [pyramidGenerator_step60.js](./pyramidGenerator_step60.js)"
   ]
  },
  {
   "cell_type": "code",
   "execution_count": 494,
   "metadata": {},
   "outputs": [
    {
     "data": {
      "text/markdown": [
       "```js\n",
       "const character = \"#\";\n",
       "const count = 8;\n",
       "const rows = [];\n",
       "\n",
       "function padRow(name) {\n",
       "    const test = \"Testing\";\n",
       "    console.log(\"This works!\");\n",
       "    return test;\n",
       "    console.log(\"This works!\");  // This does not get displayed.\n",
       "}\n",
       "// console.log(test);  // Commented because `test` is not visible here.\n",
       "\n",
       "\n",
       "const call = padRow(\"Mallikarjuna G\");\n",
       "console.log(call);\n",
       "\n",
       "for (let i = 0; i < count; i = i + 1) {\n",
       "    rows.push(character.repeat(i + 1));\n",
       "}\n",
       "\n",
       "let result = \"\";\n",
       "\n",
       "for (const row of rows) {\n",
       "    result = result + \"\\n\" + row;\n",
       "}\n",
       "\n",
       "console.log(result);\n",
       "\n",
       "```"
      ],
      "text/plain": [
       "<IPython.core.display.Markdown object>"
      ]
     },
     "metadata": {},
     "output_type": "display_data"
    }
   ],
   "source": [
    "fileName = \"pyramidGenerator_step60.js\"\n",
    "fetchAndDisplaySrcFileAsCodeBlock(fileName)"
   ]
  },
  {
   "cell_type": "markdown",
   "metadata": {},
   "source": [
    "### Execution logs: "
   ]
  },
  {
   "cell_type": "code",
   "execution_count": 495,
   "metadata": {},
   "outputs": [
    {
     "name": "stdout",
     "output_type": "stream",
     "text": [
      "This works!\n",
      "Testing\n",
      "\n",
      "#\n",
      "##\n",
      "###\n",
      "####\n",
      "#####\n",
      "######\n",
      "#######\n",
      "########\n"
     ]
    }
   ],
   "source": [
    "!node pyramidGenerator_step60.js"
   ]
  },
  {
   "cell_type": "markdown",
   "metadata": {},
   "source": [
    "---"
   ]
  },
  {
   "cell_type": "markdown",
   "metadata": {},
   "source": [
    "## Step61:"
   ]
  },
  {
   "cell_type": "markdown",
   "metadata": {},
   "source": [
    "<p>Now your <code>call</code> variable has the value <code>\"Testing\"</code>. But your function is no longer using the <code>name</code> parameter.</p>"
   ]
  },
  {
   "cell_type": "markdown",
   "metadata": {},
   "source": [
    "<p>Remove the <code>name</code> parameter from your function declaration, then remove your <code>\"CamperChan\"</code> string from the <code>padRow</code> call.</p>"
   ]
  },
  {
   "cell_type": "markdown",
   "metadata": {},
   "source": [
    "<p>Also, remove both <code>console.log</code> from the <code>padRow</code> function.</p>"
   ]
  },
  {
   "cell_type": "markdown",
   "metadata": {},
   "source": [
    "**Source file link:** [pyramidGenerator_step61.js](./pyramidGenerator_step61.js)"
   ]
  },
  {
   "cell_type": "code",
   "execution_count": 496,
   "metadata": {},
   "outputs": [
    {
     "data": {
      "text/markdown": [
       "```js\n",
       "const character = \"#\";\n",
       "const count = 8;\n",
       "const rows = [];\n",
       "\n",
       "function padRow() {\n",
       "    const test = \"Testing\";\n",
       "    return test;\n",
       "}\n",
       "// console.log(test);  // Commented because `test` is not visible here.\n",
       "\n",
       "\n",
       "const call = padRow();\n",
       "\n",
       "for (let i = 0; i < count; i = i + 1) {\n",
       "    rows.push(character.repeat(i + 1));\n",
       "}\n",
       "\n",
       "let result = \"\";\n",
       "\n",
       "for (const row of rows) {\n",
       "    result = result + \"\\n\" + row;\n",
       "}\n",
       "\n",
       "console.log(result);\n",
       "\n",
       "```"
      ],
      "text/plain": [
       "<IPython.core.display.Markdown object>"
      ]
     },
     "metadata": {},
     "output_type": "display_data"
    }
   ],
   "source": [
    "fileName = \"pyramidGenerator_step61.js\"\n",
    "fetchAndDisplaySrcFileAsCodeBlock(fileName)"
   ]
  },
  {
   "cell_type": "markdown",
   "metadata": {},
   "source": [
    "### Execution logs: "
   ]
  },
  {
   "cell_type": "code",
   "execution_count": 497,
   "metadata": {},
   "outputs": [
    {
     "name": "stdout",
     "output_type": "stream",
     "text": [
      "\n",
      "#\n",
      "##\n",
      "###\n",
      "####\n",
      "#####\n",
      "######\n",
      "#######\n",
      "########\n"
     ]
    }
   ],
   "source": [
    "!node pyramidGenerator_step61.js"
   ]
  },
  {
   "cell_type": "markdown",
   "metadata": {},
   "source": [
    "---"
   ]
  },
  {
   "cell_type": "markdown",
   "metadata": {},
   "source": [
    "## Step62:"
   ]
  },
  {
   "cell_type": "markdown",
   "metadata": {},
   "source": [
    "<p>Because your function was no longer using the parameter, changing the argument did not affect it.</p>"
   ]
  },
  {
   "cell_type": "markdown",
   "metadata": {},
   "source": [
    "<p>Go ahead and remove the <code>test</code> declaration and <code>return</code> statement from your <code>padRow</code> function, so the function is empty again.</p>"
   ]
  },
  {
   "cell_type": "markdown",
   "metadata": {},
   "source": [
    "**Source file link:** [pyramidGenerator_step62.js](./pyramidGenerator_step62.js)"
   ]
  },
  {
   "cell_type": "code",
   "execution_count": 502,
   "metadata": {},
   "outputs": [
    {
     "data": {
      "text/markdown": [
       "```js\n",
       "const character = \"#\";\n",
       "const count = 8;\n",
       "const rows = [];\n",
       "\n",
       "function padRow() {\n",
       "\n",
       "}\n",
       "\n",
       "const call = padRow();\n",
       "console.log(call);\n",
       "\n",
       "\n",
       "for (let i = 0; i < count; i = i + 1) {\n",
       "    rows.push(character.repeat(i + 1));\n",
       "}\n",
       "\n",
       "let result = \"\";\n",
       "\n",
       "for (const row of rows) {\n",
       "    result = result + \"\\n\" + row;\n",
       "}\n",
       "\n",
       "console.log(result);\n",
       "\n",
       "```"
      ],
      "text/plain": [
       "<IPython.core.display.Markdown object>"
      ]
     },
     "metadata": {},
     "output_type": "display_data"
    }
   ],
   "source": [
    "fileName = \"pyramidGenerator_step62.js\"\n",
    "fetchAndDisplaySrcFileAsCodeBlock(fileName)"
   ]
  },
  {
   "cell_type": "markdown",
   "metadata": {},
   "source": [
    "### Execution logs: "
   ]
  },
  {
   "cell_type": "code",
   "execution_count": 503,
   "metadata": {},
   "outputs": [
    {
     "name": "stdout",
     "output_type": "stream",
     "text": [
      "\u001b[90mundefined\u001b[39m\n",
      "\n",
      "#\n",
      "##\n",
      "###\n",
      "####\n",
      "#####\n",
      "######\n",
      "#######\n",
      "########\n"
     ]
    }
   ],
   "source": [
    "!node pyramidGenerator_step62.js"
   ]
  },
  {
   "cell_type": "markdown",
   "metadata": {},
   "source": [
    "---"
   ]
  },
  {
   "cell_type": "markdown",
   "metadata": {},
   "source": [
    "## Step63:"
   ]
  },
  {
   "cell_type": "markdown",
   "metadata": {},
   "source": [
    "<p>As expected, your function now returns <code>undefined</code> again. Your <code>call</code> variable is not necessary any more, so remove the <code>call</code> declaration and the <code>console.log</code> for the <code>call</code> variable.</p>"
   ]
  },
  {
   "cell_type": "markdown",
   "metadata": {},
   "source": [
    "**Source file link:** [pyramidGenerator_step63.js](./pyramidGenerator_step63.js)"
   ]
  },
  {
   "cell_type": "code",
   "execution_count": 504,
   "metadata": {},
   "outputs": [
    {
     "data": {
      "text/markdown": [
       "```js\n",
       "const character = \"#\";\n",
       "const count = 8;\n",
       "const rows = [];\n",
       "\n",
       "function padRow() {\n",
       "\n",
       "}\n",
       "\n",
       "for (let i = 0; i < count; i = i + 1) {\n",
       "    rows.push(character.repeat(i + 1));\n",
       "}\n",
       "\n",
       "let result = \"\";\n",
       "\n",
       "for (const row of rows) {\n",
       "    result = result + \"\\n\" + row;\n",
       "}\n",
       "\n",
       "console.log(result);\n",
       "\n",
       "```"
      ],
      "text/plain": [
       "<IPython.core.display.Markdown object>"
      ]
     },
     "metadata": {},
     "output_type": "display_data"
    }
   ],
   "source": [
    "fileName = \"pyramidGenerator_step63.js\"\n",
    "fetchAndDisplaySrcFileAsCodeBlock(fileName)"
   ]
  },
  {
   "cell_type": "markdown",
   "metadata": {},
   "source": [
    "### Execution logs: "
   ]
  },
  {
   "cell_type": "code",
   "execution_count": 505,
   "metadata": {},
   "outputs": [
    {
     "name": "stdout",
     "output_type": "stream",
     "text": [
      "\n",
      "#\n",
      "##\n",
      "###\n",
      "####\n",
      "#####\n",
      "######\n",
      "#######\n",
      "########\n"
     ]
    }
   ],
   "source": [
    "!node pyramidGenerator_step63.js"
   ]
  },
  {
   "cell_type": "markdown",
   "metadata": {},
   "source": [
    "---"
   ]
  },
  {
   "cell_type": "markdown",
   "metadata": {},
   "source": [
    "## Step64:"
   ]
  },
  {
   "cell_type": "markdown",
   "metadata": {},
   "source": [
    "<p>In order to know how to format a row, your <code>padRow</code> function will need to know which row number you are on, and how many rows in total are being generated.</p>"
   ]
  },
  {
   "cell_type": "markdown",
   "metadata": {},
   "source": [
    "<p>The best way to do this is by creating function parameters for them. Give your <code>padRow</code> function a <code>rowNumber</code> and <code>rowCount</code> parameter. Multiple parameters are separated by a comma:</p>\n",
    "\n",
    "**Example Code**\n",
    "\n",
    "```js\n",
    "function name(first, second) {\n",
    "\n",
    "}\n",
    "```"
   ]
  },
  {
   "cell_type": "markdown",
   "metadata": {},
   "source": [
    "**Source file link:** [pyramidGenerator_step64.js](./pyramidGenerator_step64.js)"
   ]
  },
  {
   "cell_type": "code",
   "execution_count": 506,
   "metadata": {},
   "outputs": [
    {
     "data": {
      "text/markdown": [
       "```js\n",
       "const character = \"#\";\n",
       "const count = 8;\n",
       "const rows = [];\n",
       "\n",
       "function padRow(rowNumber, rowCount) {\n",
       "\n",
       "}\n",
       "\n",
       "for (let i = 0; i < count; i = i + 1) {\n",
       "    rows.push(character.repeat(i + 1));\n",
       "}\n",
       "\n",
       "let result = \"\";\n",
       "\n",
       "for (const row of rows) {\n",
       "    result = result + \"\\n\" + row;\n",
       "}\n",
       "\n",
       "console.log(result);\n",
       "\n",
       "```"
      ],
      "text/plain": [
       "<IPython.core.display.Markdown object>"
      ]
     },
     "metadata": {},
     "output_type": "display_data"
    }
   ],
   "source": [
    "fileName = \"pyramidGenerator_step64.js\"\n",
    "fetchAndDisplaySrcFileAsCodeBlock(fileName)"
   ]
  },
  {
   "cell_type": "markdown",
   "metadata": {},
   "source": [
    "### Execution logs: "
   ]
  },
  {
   "cell_type": "code",
   "execution_count": 507,
   "metadata": {},
   "outputs": [
    {
     "name": "stdout",
     "output_type": "stream",
     "text": [
      "\n",
      "#\n",
      "##\n",
      "###\n",
      "####\n",
      "#####\n",
      "######\n",
      "#######\n",
      "########\n"
     ]
    }
   ],
   "source": [
    "!node pyramidGenerator_step64.js"
   ]
  },
  {
   "cell_type": "markdown",
   "metadata": {},
   "source": [
    "---"
   ]
  },
  {
   "cell_type": "markdown",
   "metadata": {},
   "source": [
    "## Step65:"
   ]
  },
  {
   "cell_type": "markdown",
   "metadata": {},
   "source": [
    "<p>Remember in an earlier step, you learned about return values. A function can <dfn>return</dfn> a value for your application to consume separately.</p>"
   ]
  },
  {
   "cell_type": "markdown",
   "metadata": {},
   "source": [
    "<p>In a function, the <code>return</code> keyword is used to specify a return value. For example, this function would return the value given to the first parameter:</p>\n",
    "\n",
    "**Example Code**\n",
    "\n",
    "```js\n",
    "function name(parameter) {\n",
    "  return parameter;\n",
    "}\n",
    "```"
   ]
  },
  {
   "cell_type": "markdown",
   "metadata": {},
   "source": [
    "<p>Use the <code>return</code> keyword to return the value of the <code>character</code> variable, repeated <code>rowNumber</code> times.</p>"
   ]
  },
  {
   "cell_type": "markdown",
   "metadata": {},
   "source": [
    "**Source file link:** [pyramidGenerator_step65.js](./pyramidGenerator_step65.js)"
   ]
  },
  {
   "cell_type": "code",
   "execution_count": 508,
   "metadata": {},
   "outputs": [
    {
     "data": {
      "text/markdown": [
       "```js\n",
       "const character = \"#\";\n",
       "const count = 8;\n",
       "const rows = [];\n",
       "\n",
       "function padRow(rowNumber, rowCount) {\n",
       "    return character.repeat(rowNumber);\n",
       "}\n",
       "\n",
       "for (let i = 0; i < count; i = i + 1) {\n",
       "    rows.push(character.repeat(i + 1));\n",
       "}\n",
       "\n",
       "let result = \"\";\n",
       "\n",
       "for (const row of rows) {\n",
       "    result = result + \"\\n\" + row;\n",
       "}\n",
       "\n",
       "console.log(result);\n",
       "\n",
       "```"
      ],
      "text/plain": [
       "<IPython.core.display.Markdown object>"
      ]
     },
     "metadata": {},
     "output_type": "display_data"
    }
   ],
   "source": [
    "fileName = \"pyramidGenerator_step65.js\"\n",
    "fetchAndDisplaySrcFileAsCodeBlock(fileName)"
   ]
  },
  {
   "cell_type": "markdown",
   "metadata": {},
   "source": [
    "### Execution logs: "
   ]
  },
  {
   "cell_type": "code",
   "execution_count": 509,
   "metadata": {},
   "outputs": [
    {
     "name": "stdout",
     "output_type": "stream",
     "text": [
      "\n",
      "#\n",
      "##\n",
      "###\n",
      "####\n",
      "#####\n",
      "######\n",
      "#######\n",
      "########\n"
     ]
    }
   ],
   "source": [
    "!node pyramidGenerator_step65.js"
   ]
  },
  {
   "cell_type": "markdown",
   "metadata": {},
   "source": [
    "---"
   ]
  },
  {
   "cell_type": "markdown",
   "metadata": {},
   "source": [
    "## Step66:"
   ]
  },
  {
   "cell_type": "markdown",
   "metadata": {},
   "source": [
    "<p>A <dfn>function call</dfn> allows you to actually use a function. You may not have been aware of it, but the methods like <code>.push()</code> that you have been using have been function calls.</p>"
   ]
  },
  {
   "cell_type": "markdown",
   "metadata": {},
   "source": [
    "<p>A function is called by referencing the function's name, and adding <code>()</code>. Here's how to call a <code>test</code> function:</p>\n",
    "\n",
    "**Example Code**\n",
    "\n",
    "```js\n",
    "test();\n",
    "```"
   ]
  },
  {
   "cell_type": "markdown",
   "metadata": {},
   "source": [
    "<p>Replace the <code>character.repeat(i + 1)</code> in your <code>.push()</code> call with a function call for your <code>padRow</code> function.</p>"
   ]
  },
  {
   "cell_type": "markdown",
   "metadata": {},
   "source": [
    "**Source file link:** [pyramidGenerator_step66.js](./pyramidGenerator_step66.js)"
   ]
  },
  {
   "cell_type": "code",
   "execution_count": 510,
   "metadata": {},
   "outputs": [
    {
     "data": {
      "text/markdown": [
       "```js\n",
       "const character = \"#\";\n",
       "const count = 8;\n",
       "const rows = [];\n",
       "\n",
       "function padRow(rowNumber, rowCount) {\n",
       "    return character.repeat(rowNumber);\n",
       "}\n",
       "\n",
       "for (let i = 0; i < count; i = i + 1) {\n",
       "    rows.push(padRow());\n",
       "}\n",
       "\n",
       "let result = \"\";\n",
       "\n",
       "for (const row of rows) {\n",
       "    result = result + \"\\n\" + row;\n",
       "}\n",
       "\n",
       "console.log(result);\n",
       "\n",
       "```"
      ],
      "text/plain": [
       "<IPython.core.display.Markdown object>"
      ]
     },
     "metadata": {},
     "output_type": "display_data"
    }
   ],
   "source": [
    "fileName = \"pyramidGenerator_step66.js\"\n",
    "fetchAndDisplaySrcFileAsCodeBlock(fileName)"
   ]
  },
  {
   "cell_type": "markdown",
   "metadata": {},
   "source": [
    "### Execution logs: "
   ]
  },
  {
   "cell_type": "code",
   "execution_count": 511,
   "metadata": {},
   "outputs": [
    {
     "name": "stdout",
     "output_type": "stream",
     "text": [
      "\n",
      "\n",
      "\n",
      "\n",
      "\n",
      "\n",
      "\n",
      "\n",
      "\n"
     ]
    }
   ],
   "source": [
    "!node pyramidGenerator_step66.js"
   ]
  },
  {
   "cell_type": "markdown",
   "metadata": {},
   "source": [
    "---"
   ]
  },
  {
   "cell_type": "markdown",
   "metadata": {},
   "source": [
    "## Step67:"
   ]
  },
  {
   "cell_type": "markdown",
   "metadata": {},
   "source": [
    "<p>Your <code>padRow</code> function has two parameters which you defined. Values are provided to those parameters when a function is called.</p>"
   ]
  },
  {
   "cell_type": "markdown",
   "metadata": {},
   "source": [
    "<p>The values you provide to a function call are referred to as <dfn>arguments</dfn>, and you <dfn>pass</dfn> arguments to a function call. Here's a function call with <code>\"Hello\"</code> passed as an argument:</p>\n",
    "\n",
    "**Example Code**\n",
    "\n",
    "```js\n",
    "test(\"Hello\");\n",
    "```"
   ]
  },
  {
   "cell_type": "markdown",
   "metadata": {},
   "source": [
    "<p>Pass <code>i + 1</code> and <code>count</code> as the arguments to your <code>padRow</code> call. Like parameters, arguments are separated by a comma.</p>"
   ]
  },
  {
   "cell_type": "markdown",
   "metadata": {},
   "source": [
    "**Source file link:** [pyramidGenerator_step67.js](./pyramidGenerator_step67.js)"
   ]
  },
  {
   "cell_type": "code",
   "execution_count": 512,
   "metadata": {},
   "outputs": [
    {
     "data": {
      "text/markdown": [
       "```js\n",
       "const character = \"#\";\n",
       "const count = 8;\n",
       "const rows = [];\n",
       "\n",
       "function padRow(rowNumber, rowCount) {\n",
       "    return character.repeat(rowNumber);\n",
       "}\n",
       "\n",
       "for (let i = 0; i < count; i = i + 1) {\n",
       "    rows.push(padRow(i + 1, count));\n",
       "}\n",
       "\n",
       "let result = \"\";\n",
       "\n",
       "for (const row of rows) {\n",
       "    result = result + \"\\n\" + row;\n",
       "}\n",
       "\n",
       "console.log(result);\n",
       "\n",
       "```"
      ],
      "text/plain": [
       "<IPython.core.display.Markdown object>"
      ]
     },
     "metadata": {},
     "output_type": "display_data"
    }
   ],
   "source": [
    "fileName = \"pyramidGenerator_step67.js\"\n",
    "fetchAndDisplaySrcFileAsCodeBlock(fileName)"
   ]
  },
  {
   "cell_type": "markdown",
   "metadata": {},
   "source": [
    "### Execution logs: "
   ]
  },
  {
   "cell_type": "code",
   "execution_count": 513,
   "metadata": {},
   "outputs": [
    {
     "name": "stdout",
     "output_type": "stream",
     "text": [
      "\n",
      "#\n",
      "##\n",
      "###\n",
      "####\n",
      "#####\n",
      "######\n",
      "#######\n",
      "########\n"
     ]
    }
   ],
   "source": [
    "!node pyramidGenerator_step67.js"
   ]
  },
  {
   "cell_type": "markdown",
   "metadata": {},
   "source": [
    "---"
   ]
  },
  {
   "cell_type": "markdown",
   "metadata": {},
   "source": [
    "## Step68:"
   ]
  },
  {
   "cell_type": "markdown",
   "metadata": {},
   "source": [
    "<p>You should now see the same bunch of characters in your console. Your <code>padRow</code> function is doing the exact same thing you were doing earlier, but now it's in a reusable section of its own.</p>"
   ]
  },
  {
   "cell_type": "markdown",
   "metadata": {},
   "source": [
    "<p>Use the addition operator to concatenate a single space <code>\" \"</code> to the beginning and end of your repeated <code>character</code> string.</p>"
   ]
  },
  {
   "cell_type": "markdown",
   "metadata": {},
   "source": [
    "<p>Remember that you can use the <code>+</code> operator to concatenate strings like this:</p>\n",
    "\n",
    "**Example Code**\n",
    "\n",
    "```js\n",
    "\" \" + \"string\"\n",
    "```"
   ]
  },
  {
   "cell_type": "markdown",
   "metadata": {},
   "source": [
    "**Source file link:** [pyramidGenerator_step68.js](./pyramidGenerator_step68.js)"
   ]
  },
  {
   "cell_type": "code",
   "execution_count": 514,
   "metadata": {},
   "outputs": [
    {
     "data": {
      "text/markdown": [
       "```js\n",
       "const character = \"#\";\n",
       "const count = 8;\n",
       "const rows = [];\n",
       "\n",
       "function padRow(rowNumber, rowCount) {\n",
       "    return \" \" + character.repeat(rowNumber) + \" \";\n",
       "}\n",
       "\n",
       "for (let i = 0; i < count; i = i + 1) {\n",
       "    rows.push(padRow(i + 1, count));\n",
       "}\n",
       "\n",
       "let result = \"\";\n",
       "\n",
       "for (const row of rows) {\n",
       "    result = result + \"\\n\" + row;\n",
       "}\n",
       "\n",
       "console.log(result);\n",
       "\n",
       "```"
      ],
      "text/plain": [
       "<IPython.core.display.Markdown object>"
      ]
     },
     "metadata": {},
     "output_type": "display_data"
    }
   ],
   "source": [
    "fileName = \"pyramidGenerator_step68.js\"\n",
    "fetchAndDisplaySrcFileAsCodeBlock(fileName)"
   ]
  },
  {
   "cell_type": "markdown",
   "metadata": {},
   "source": [
    "### Execution logs: "
   ]
  },
  {
   "cell_type": "code",
   "execution_count": 515,
   "metadata": {},
   "outputs": [
    {
     "name": "stdout",
     "output_type": "stream",
     "text": [
      "\n",
      " # \n",
      " ## \n",
      " ### \n",
      " #### \n",
      " ##### \n",
      " ###### \n",
      " ####### \n",
      " ######## \n"
     ]
    }
   ],
   "source": [
    "!node pyramidGenerator_step68.js"
   ]
  },
  {
   "cell_type": "markdown",
   "metadata": {},
   "source": [
    "---"
   ]
  },
  {
   "cell_type": "markdown",
   "metadata": {},
   "source": [
    "## Step69:"
   ]
  },
  {
   "cell_type": "markdown",
   "metadata": {},
   "source": [
    "<p>Now it is time for a bit of math. Consider a three-row pyramid. If we want it centered, it would look something like:</p>\n",
    "\n",
    "**Example Code**\n",
    "\n",
    "```\n",
    "··#··\n",
    "·###·\n",
    "#####\n",
    "```"
   ]
  },
  {
   "cell_type": "markdown",
   "metadata": {},
   "source": [
    "<p>Empty spaces have been replaced with interpuncts, or middle dots, for readability. If you extrapolate the pattern, you can see that the spaces at the beginning and end of a row follow a pattern.</p>\n",
    "\n",
    "<i>Extrapolation: ಸಾಮಾನ್ಯೀಕರಣ (Saamanyeekarana) is the Kannada word for \"extrapolation.\" It refers to the process of making predictions or estimates about data points beyond the range of existing data.</i>\n",
    "\n",
    "<i>Interpuncts: ವಿರಾಮಚಿಹ್ನೆಗಳು (punctuation marks)</i>"
   ]
  },
  {
   "cell_type": "markdown",
   "metadata": {},
   "source": [
    "<p>Update your blank space strings to be repeated <code>rowCount - rowNumber</code> times.</p>"
   ]
  },
  {
   "cell_type": "markdown",
   "metadata": {},
   "source": [
    "**Source file link:** [pyramidGenerator_step69.js](./pyramidGenerator_step69.js)"
   ]
  },
  {
   "cell_type": "code",
   "execution_count": 516,
   "metadata": {},
   "outputs": [
    {
     "data": {
      "text/markdown": [
       "```js\n",
       "const character = \"#\";\n",
       "const count = 8;\n",
       "const rows = [];\n",
       "\n",
       "function padRow(rowNumber, rowCount) {\n",
       "    return \" \".repeat(rowCount - rowNumber) + character.repeat(rowNumber) + \" \".repeat(rowCount - rowNumber);\n",
       "}\n",
       "\n",
       "for (let i = 0; i < count; i = i + 1) {\n",
       "    rows.push(padRow(i + 1, count));\n",
       "}\n",
       "\n",
       "let result = \"\";\n",
       "\n",
       "for (const row of rows) {\n",
       "    result = result + \"\\n\" + row;\n",
       "}\n",
       "\n",
       "console.log(result);\n",
       "\n",
       "```"
      ],
      "text/plain": [
       "<IPython.core.display.Markdown object>"
      ]
     },
     "metadata": {},
     "output_type": "display_data"
    }
   ],
   "source": [
    "fileName = \"pyramidGenerator_step69.js\"\n",
    "fetchAndDisplaySrcFileAsCodeBlock(fileName)"
   ]
  },
  {
   "cell_type": "markdown",
   "metadata": {},
   "source": [
    "### Execution logs: "
   ]
  },
  {
   "cell_type": "code",
   "execution_count": 517,
   "metadata": {},
   "outputs": [
    {
     "name": "stdout",
     "output_type": "stream",
     "text": [
      "\n",
      "       #       \n",
      "      ##      \n",
      "     ###     \n",
      "    ####    \n",
      "   #####   \n",
      "  ######  \n",
      " ####### \n",
      "########\n"
     ]
    }
   ],
   "source": [
    "!node pyramidGenerator_step69.js"
   ]
  },
  {
   "cell_type": "markdown",
   "metadata": {},
   "source": [
    "---"
   ]
  },
  {
   "cell_type": "markdown",
   "metadata": {},
   "source": [
    "## Step70:"
   ]
  },
  {
   "cell_type": "markdown",
   "metadata": {},
   "source": [
    "<p>You can pass full expressions as an argument. The function will receive the result of evaluating that expression. For example, these two function calls would yield the same result:</p>\n",
    "\n",
    "**Example Code**\n",
    "\n",
    "```js\n",
    "test(2 * 3 + 1);\n",
    "test(7);\n",
    "```"
   ]
  },
  {
   "cell_type": "markdown",
   "metadata": {},
   "source": [
    "<p>Looking at the pattern again:</p>\n",
    "\n",
    "**Example Code**\n",
    "\n",
    "```js\n",
    "··#··\n",
    "·###·\n",
    "#####\n",
    "```"
   ]
  },
  {
   "cell_type": "markdown",
   "metadata": {},
   "source": [
    "<p>Update the <code>character</code> value to be repeated <code>2 * rowNumber - 1</code> times.</p>"
   ]
  },
  {
   "cell_type": "markdown",
   "metadata": {},
   "source": [
    "**Source file link:** [pyramidGenerator_step70.js](./pyramidGenerator_step70.js)"
   ]
  },
  {
   "cell_type": "code",
   "execution_count": 518,
   "metadata": {},
   "outputs": [
    {
     "data": {
      "text/markdown": [
       "```js\n",
       "const character = \"#\";\n",
       "const count = 8;\n",
       "const rows = [];\n",
       "\n",
       "function padRow(rowNumber, rowCount) {\n",
       "    return \" \".repeat(rowCount - rowNumber) + character.repeat(2 * rowNumber - 1) + \" \".repeat(rowCount - rowNumber);\n",
       "}\n",
       "\n",
       "for (let i = 0; i < count; i = i + 1) {\n",
       "    rows.push(padRow(i + 1, count));\n",
       "}\n",
       "\n",
       "let result = \"\";\n",
       "\n",
       "for (const row of rows) {\n",
       "    result = result + \"\\n\" + row;\n",
       "}\n",
       "\n",
       "console.log(result);\n",
       "\n",
       "```"
      ],
      "text/plain": [
       "<IPython.core.display.Markdown object>"
      ]
     },
     "metadata": {},
     "output_type": "display_data"
    }
   ],
   "source": [
    "fileName = \"pyramidGenerator_step70.js\"\n",
    "fetchAndDisplaySrcFileAsCodeBlock(fileName)"
   ]
  },
  {
   "cell_type": "markdown",
   "metadata": {},
   "source": [
    "### Execution logs: "
   ]
  },
  {
   "cell_type": "code",
   "execution_count": 519,
   "metadata": {},
   "outputs": [
    {
     "name": "stdout",
     "output_type": "stream",
     "text": [
      "\n",
      "       #       \n",
      "      ###      \n",
      "     #####     \n",
      "    #######    \n",
      "   #########   \n",
      "  ###########  \n",
      " ############# \n",
      "###############\n"
     ]
    }
   ],
   "source": [
    "!node pyramidGenerator_step70.js"
   ]
  },
  {
   "cell_type": "markdown",
   "metadata": {},
   "source": [
    "---"
   ]
  },
  {
   "cell_type": "markdown",
   "metadata": {},
   "source": [
    "## Step71:"
   ]
  },
  {
   "cell_type": "markdown",
   "metadata": {},
   "source": [
    "<p>Your pyramid generator now functions as expected. But this is an excellent opportunity to further explore the code you have written.</p>"
   ]
  },
  {
   "cell_type": "markdown",
   "metadata": {},
   "source": [
    "<p>The addition operator is not the only way to add values to a variable. The <dfn>addition assignment</dfn> operator can be used as shorthand to mean \"take the original value of the variable, add this value, and assign the result back to the variable.\" For example, these two statements would yield the same result:</p>\n",
    "\n",
    "**Example Code**\n",
    "\n",
    "```js\n",
    "test = test + 1;\n",
    "test += 1;\n",
    "```"
   ]
  },
  {
   "cell_type": "markdown",
   "metadata": {},
   "source": [
    "<p>Update your iterator statement in the <code>for</code> loop to use addition assignment.</p>"
   ]
  },
  {
   "cell_type": "markdown",
   "metadata": {},
   "source": [
    "**Source file link:** [pyramidGenerator_step71.js](./pyramidGenerator_step71.js)"
   ]
  },
  {
   "cell_type": "code",
   "execution_count": 520,
   "metadata": {},
   "outputs": [
    {
     "data": {
      "text/markdown": [
       "```js\n",
       "const character = \"#\";\n",
       "const count = 8;\n",
       "const rows = [];\n",
       "\n",
       "function padRow(rowNumber, rowCount) {\n",
       "    return \" \".repeat(rowCount - rowNumber) + character.repeat(2 * rowNumber - 1) + \" \".repeat(rowCount - rowNumber);\n",
       "}\n",
       "\n",
       "for (let i = 0; i < count; i += 1) {\n",
       "    rows.push(padRow(i + 1, count));\n",
       "}\n",
       "\n",
       "let result = \"\";\n",
       "\n",
       "for (const row of rows) {\n",
       "    result = result + \"\\n\" + row;\n",
       "}\n",
       "\n",
       "console.log(result);\n",
       "\n",
       "```"
      ],
      "text/plain": [
       "<IPython.core.display.Markdown object>"
      ]
     },
     "metadata": {},
     "output_type": "display_data"
    }
   ],
   "source": [
    "fileName = \"pyramidGenerator_step71.js\"\n",
    "fetchAndDisplaySrcFileAsCodeBlock(fileName)"
   ]
  },
  {
   "cell_type": "markdown",
   "metadata": {},
   "source": [
    "### Execution logs: "
   ]
  },
  {
   "cell_type": "code",
   "execution_count": 521,
   "metadata": {},
   "outputs": [
    {
     "name": "stdout",
     "output_type": "stream",
     "text": [
      "\n",
      "       #       \n",
      "      ###      \n",
      "     #####     \n",
      "    #######    \n",
      "   #########   \n",
      "  ###########  \n",
      " ############# \n",
      "###############\n"
     ]
    }
   ],
   "source": [
    "!node pyramidGenerator_step71.js"
   ]
  },
  {
   "cell_type": "markdown",
   "metadata": {},
   "source": [
    "---"
   ]
  },
  {
   "cell_type": "markdown",
   "metadata": {},
   "source": [
    "## Step72:"
   ]
  },
  {
   "cell_type": "markdown",
   "metadata": {},
   "source": [
    "<p>Because you are only increasing <code>i</code> by <code>1</code>, you can use the <dfn>increment operator</dfn> <code>++</code>. This operator increases the value of a variable by 1, updating the assignment for that variable. For example, <code>test</code> would become <code>8</code> here:</p>\n",
    "\n",
    "**Example Code**\n",
    "\n",
    "```js\n",
    "let test = 7;\n",
    "test++;\n",
    "```"
   ]
  },
  {
   "cell_type": "markdown",
   "metadata": {},
   "source": [
    "<p>Replace your addition assignment with the increment operator for your loop iteration.</p>"
   ]
  },
  {
   "cell_type": "markdown",
   "metadata": {},
   "source": [
    "**Source file link:** [pyramidGenerator_step72.js](./pyramidGenerator_step72.js)"
   ]
  },
  {
   "cell_type": "code",
   "execution_count": 522,
   "metadata": {},
   "outputs": [
    {
     "data": {
      "text/markdown": [
       "```js\n",
       "const character = \"#\";\n",
       "const count = 8;\n",
       "const rows = [];\n",
       "\n",
       "function padRow(rowNumber, rowCount) {\n",
       "    return \" \".repeat(rowCount - rowNumber) + character.repeat(2 * rowNumber - 1) + \" \".repeat(rowCount - rowNumber);\n",
       "}\n",
       "\n",
       "for (let i = 0; i < count; i++) {\n",
       "    rows.push(padRow(i + 1, count));\n",
       "}\n",
       "\n",
       "let result = \"\";\n",
       "\n",
       "for (const row of rows) {\n",
       "    result = result + \"\\n\" + row;\n",
       "}\n",
       "\n",
       "console.log(result);\n",
       "\n",
       "```"
      ],
      "text/plain": [
       "<IPython.core.display.Markdown object>"
      ]
     },
     "metadata": {},
     "output_type": "display_data"
    }
   ],
   "source": [
    "fileName = \"pyramidGenerator_step72.js\"\n",
    "fetchAndDisplaySrcFileAsCodeBlock(fileName)"
   ]
  },
  {
   "cell_type": "markdown",
   "metadata": {},
   "source": [
    "### Execution logs: "
   ]
  },
  {
   "cell_type": "code",
   "execution_count": 523,
   "metadata": {},
   "outputs": [
    {
     "name": "stdout",
     "output_type": "stream",
     "text": [
      "\n",
      "       #       \n",
      "      ###      \n",
      "     #####     \n",
      "    #######    \n",
      "   #########   \n",
      "  ###########  \n",
      " ############# \n",
      "###############\n"
     ]
    }
   ],
   "source": [
    "!node pyramidGenerator_step72.js"
   ]
  },
  {
   "cell_type": "markdown",
   "metadata": {},
   "source": [
    "---"
   ]
  },
  {
   "cell_type": "markdown",
   "metadata": {},
   "source": [
    "## Step73:"
   ]
  },
  {
   "cell_type": "markdown",
   "metadata": {},
   "source": [
    "<p>Rather than having to pass <code>i + 1</code> to your <code>padRow</code> call, you could instead start your loop at <code>1</code>. This would allow you to create a one-indexed loop.</p>"
   ]
  },
  {
   "cell_type": "markdown",
   "metadata": {},
   "source": [
    "<p>Update your iterator to start at <code>1</code> instead of <code>0</code>.</p>"
   ]
  },
  {
   "cell_type": "markdown",
   "metadata": {},
   "source": [
    "**Source file link:** [pyramidGenerator_step73.js](./pyramidGenerator_step73.js)"
   ]
  },
  {
   "cell_type": "code",
   "execution_count": 526,
   "metadata": {},
   "outputs": [
    {
     "data": {
      "text/markdown": [
       "```js\n",
       "const character = \"#\";\n",
       "const count = 8;\n",
       "const rows = [];\n",
       "\n",
       "function padRow(rowNumber, rowCount) {\n",
       "    return \" \".repeat(rowCount - rowNumber) + character.repeat(2 * rowNumber - 1) + \" \".repeat(rowCount - rowNumber);\n",
       "}\n",
       "\n",
       "for (let i = 1; i < count; i++) {\n",
       "    rows.push(padRow(i + 1, count));\n",
       "}\n",
       "\n",
       "let result = \"\";\n",
       "\n",
       "for (const row of rows) {\n",
       "    result = result + \"\\n\" + row;\n",
       "}\n",
       "\n",
       "console.log(result);\n",
       "\n",
       "```"
      ],
      "text/plain": [
       "<IPython.core.display.Markdown object>"
      ]
     },
     "metadata": {},
     "output_type": "display_data"
    }
   ],
   "source": [
    "fileName = \"pyramidGenerator_step73.js\"\n",
    "fetchAndDisplaySrcFileAsCodeBlock(fileName)"
   ]
  },
  {
   "cell_type": "markdown",
   "metadata": {},
   "source": [
    "### Execution logs: "
   ]
  },
  {
   "cell_type": "code",
   "execution_count": 527,
   "metadata": {},
   "outputs": [
    {
     "name": "stdout",
     "output_type": "stream",
     "text": [
      "\n",
      "      ###      \n",
      "     #####     \n",
      "    #######    \n",
      "   #########   \n",
      "  ###########  \n",
      " ############# \n",
      "###############\n"
     ]
    }
   ],
   "source": [
    "!node pyramidGenerator_step73.js"
   ]
  },
  {
   "cell_type": "markdown",
   "metadata": {},
   "source": [
    "---"
   ]
  },
  {
   "cell_type": "markdown",
   "metadata": {},
   "source": [
    "## Step74:"
   ]
  },
  {
   "cell_type": "markdown",
   "metadata": {},
   "source": [
    "<p>The pyramid looks a little funny now. Because you are starting the loop at <code>1</code> instead of <code>0</code>, you do not need to add one to <code>i</code> when you pass it to <code>padRow</code>.</p>"
   ]
  },
  {
   "cell_type": "markdown",
   "metadata": {},
   "source": [
    "<p>Update the first argument of your <code>padRow</code> call to be <code>i</code>.</p>"
   ]
  },
  {
   "cell_type": "markdown",
   "metadata": {},
   "source": [
    "**Source file link:** [pyramidGenerator_step74.js](./pyramidGenerator_step74.js)"
   ]
  },
  {
   "cell_type": "code",
   "execution_count": 528,
   "metadata": {},
   "outputs": [
    {
     "data": {
      "text/markdown": [
       "```js\n",
       "const character = \"#\";\n",
       "const count = 8;\n",
       "const rows = [];\n",
       "\n",
       "function padRow(rowNumber, rowCount) {\n",
       "    return \" \".repeat(rowCount - rowNumber) + character.repeat(2 * rowNumber - 1) + \" \".repeat(rowCount - rowNumber);\n",
       "}\n",
       "\n",
       "for (let i = 1; i < count; i++) {\n",
       "    rows.push(padRow(i, count));\n",
       "}\n",
       "\n",
       "let result = \"\";\n",
       "\n",
       "for (const row of rows) {\n",
       "    result = result + \"\\n\" + row;\n",
       "}\n",
       "\n",
       "console.log(result);\n",
       "\n",
       "```"
      ],
      "text/plain": [
       "<IPython.core.display.Markdown object>"
      ]
     },
     "metadata": {},
     "output_type": "display_data"
    }
   ],
   "source": [
    "fileName = \"pyramidGenerator_step74.js\"\n",
    "fetchAndDisplaySrcFileAsCodeBlock(fileName)"
   ]
  },
  {
   "cell_type": "markdown",
   "metadata": {},
   "source": [
    "### Execution logs: "
   ]
  },
  {
   "cell_type": "code",
   "execution_count": 529,
   "metadata": {},
   "outputs": [
    {
     "name": "stdout",
     "output_type": "stream",
     "text": [
      "\n",
      "       #       \n",
      "      ###      \n",
      "     #####     \n",
      "    #######    \n",
      "   #########   \n",
      "  ###########  \n",
      " ############# \n"
     ]
    }
   ],
   "source": [
    "!node pyramidGenerator_step74.js"
   ]
  },
  {
   "cell_type": "markdown",
   "metadata": {},
   "source": [
    "---"
   ]
  },
  {
   "cell_type": "markdown",
   "metadata": {},
   "source": [
    "## Step75:"
   ]
  },
  {
   "cell_type": "markdown",
   "metadata": {},
   "source": [
    "<p>Unfortunately, now the bottom of the pyramid has disappeared. This is because you have created another <dfn>off-by-one error</dfn>.</p>"
   ]
  },
  {
   "cell_type": "markdown",
   "metadata": {},
   "source": [
    "<p>Your original loop went for <code>i</code> values from <code>0</code> to <code>7</code>, because <code>count</code> is <code>8</code> and your condition requires <code>i</code> to be less than <code>count</code>. Your loop is now running for <code>i</code> values from <code>1</code> to <code>7</code>.</p>"
   ]
  },
  {
   "cell_type": "markdown",
   "metadata": {},
   "source": [
    "<p>Your loop needs to be updated to run when <code>i</code> is <code>8</code>, too. Looking at your logic, this means your loop should run when <code>i</code> is <dfn>less than or equal to</dfn> <code>count</code>. You can use the less than or equal to operator <code>&lt;=</code> for this.</p>"
   ]
  },
  {
   "cell_type": "markdown",
   "metadata": {},
   "source": [
    "<p>Update your loop condition to run while <code>i</code> is less than or equal to <code>count</code>.</p>"
   ]
  },
  {
   "cell_type": "markdown",
   "metadata": {},
   "source": [
    "**Source file link:** [pyramidGenerator_step75.js](./pyramidGenerator_step75.js)"
   ]
  },
  {
   "cell_type": "code",
   "execution_count": 530,
   "metadata": {},
   "outputs": [
    {
     "data": {
      "text/markdown": [
       "```js\n",
       "const character = \"#\";\n",
       "const count = 8;\n",
       "const rows = [];\n",
       "\n",
       "function padRow(rowNumber, rowCount) {\n",
       "    return \" \".repeat(rowCount - rowNumber) + character.repeat(2 * rowNumber - 1) + \" \".repeat(rowCount - rowNumber);\n",
       "}\n",
       "\n",
       "for (let i = 1; i <= count; i++) {\n",
       "    rows.push(padRow(i, count));\n",
       "}\n",
       "\n",
       "let result = \"\";\n",
       "\n",
       "for (const row of rows) {\n",
       "    result = result + \"\\n\" + row;\n",
       "}\n",
       "\n",
       "console.log(result);\n",
       "\n",
       "```"
      ],
      "text/plain": [
       "<IPython.core.display.Markdown object>"
      ]
     },
     "metadata": {},
     "output_type": "display_data"
    }
   ],
   "source": [
    "fileName = \"pyramidGenerator_step75.js\"\n",
    "fetchAndDisplaySrcFileAsCodeBlock(fileName)"
   ]
  },
  {
   "cell_type": "markdown",
   "metadata": {},
   "source": [
    "### Execution logs: "
   ]
  },
  {
   "cell_type": "code",
   "execution_count": 531,
   "metadata": {},
   "outputs": [
    {
     "name": "stdout",
     "output_type": "stream",
     "text": [
      "\n",
      "       #       \n",
      "      ###      \n",
      "     #####     \n",
      "    #######    \n",
      "   #########   \n",
      "  ###########  \n",
      " ############# \n",
      "###############\n"
     ]
    }
   ],
   "source": [
    "!node pyramidGenerator_step75.js"
   ]
  },
  {
   "cell_type": "markdown",
   "metadata": {},
   "source": [
    "---"
   ]
  },
  {
   "cell_type": "markdown",
   "metadata": {},
   "source": [
    "## Step76:"
   ]
  },
  {
   "cell_type": "markdown",
   "metadata": {},
   "source": [
    "<p>Comments can be helpful for explaining why your code takes a certain approach, or leaving to-do notes for your future self.</p>"
   ]
  },
  {
   "cell_type": "markdown",
   "metadata": {},
   "source": [
    "<p>In JavaScript, you can use <code>//</code> to leave a single-line comment in your code.</p>"
   ]
  },
  {
   "cell_type": "markdown",
   "metadata": {},
   "source": [
    "<p>Add a single-line comment above your function to remind yourself to change the code to a different kind of loop.</p>"
   ]
  },
  {
   "cell_type": "markdown",
   "metadata": {},
   "source": [
    "**Source file link:** [pyramidGenerator_step76.js](./pyramidGenerator_step76.js)"
   ]
  },
  {
   "cell_type": "code",
   "execution_count": 532,
   "metadata": {},
   "outputs": [
    {
     "data": {
      "text/markdown": [
       "```js\n",
       "const character = \"#\";\n",
       "const count = 8;\n",
       "const rows = [];\n",
       "\n",
       "function padRow(rowNumber, rowCount) {\n",
       "    return \" \".repeat(rowCount - rowNumber) + character.repeat(2 * rowNumber - 1) + \" \".repeat(rowCount - rowNumber);\n",
       "}\n",
       "\n",
       "// Change to different kind of loop\n",
       "for (let i = 1; i <= count; i++) {\n",
       "    rows.push(padRow(i, count));\n",
       "}\n",
       "\n",
       "let result = \"\";\n",
       "\n",
       "for (const row of rows) {\n",
       "    result = result + \"\\n\" + row;\n",
       "}\n",
       "\n",
       "console.log(result);\n",
       "\n",
       "```"
      ],
      "text/plain": [
       "<IPython.core.display.Markdown object>"
      ]
     },
     "metadata": {},
     "output_type": "display_data"
    }
   ],
   "source": [
    "fileName = \"pyramidGenerator_step76.js\"\n",
    "fetchAndDisplaySrcFileAsCodeBlock(fileName)"
   ]
  },
  {
   "cell_type": "markdown",
   "metadata": {},
   "source": [
    "### Execution logs: "
   ]
  },
  {
   "cell_type": "code",
   "execution_count": 533,
   "metadata": {},
   "outputs": [
    {
     "name": "stdout",
     "output_type": "stream",
     "text": [
      "\n",
      "       #       \n",
      "      ###      \n",
      "     #####     \n",
      "    #######    \n",
      "   #########   \n",
      "  ###########  \n",
      " ############# \n",
      "###############\n"
     ]
    }
   ],
   "source": [
    "!node pyramidGenerator_step76.js"
   ]
  },
  {
   "cell_type": "markdown",
   "metadata": {},
   "source": [
    "---"
   ]
  },
  {
   "cell_type": "markdown",
   "metadata": {},
   "source": [
    "## Step77:"
   ]
  },
  {
   "cell_type": "markdown",
   "metadata": {},
   "source": [
    "<p>JavaScript also has support for multi-line comments. A multi-line comment starts with <code>/*</code> and ends with <code>*/</code>.</p>"
   ]
  },
  {
   "cell_type": "markdown",
   "metadata": {},
   "source": [
    "<p>Unlike a single-line comment, a multi-line comment will encapsulate multiple lines.</p>"
   ]
  },
  {
   "cell_type": "markdown",
   "metadata": {},
   "source": [
    "<p>Use <code>/*</code> and <code>*/</code> to turn your current <code>for</code> loop, including the body, into a multi-line comment.</p>"
   ]
  },
  {
   "cell_type": "markdown",
   "metadata": {},
   "source": [
    "**Source file link:** [pyramidGenerator_step77.js](./pyramidGenerator_step77.js)"
   ]
  },
  {
   "cell_type": "code",
   "execution_count": 534,
   "metadata": {},
   "outputs": [
    {
     "data": {
      "text/markdown": [
       "```js\n",
       "const character = \"#\";\n",
       "const count = 8;\n",
       "const rows = [];\n",
       "\n",
       "function padRow(rowNumber, rowCount) {\n",
       "    return \" \".repeat(rowCount - rowNumber) + character.repeat(2 * rowNumber - 1) + \" \".repeat(rowCount - rowNumber);\n",
       "}\n",
       "\n",
       "// Change to different kind of loop\n",
       "/*\n",
       "for (let i = 1; i <= count; i++) {\n",
       "    rows.push(padRow(i, count));\n",
       "}\n",
       "*/\n",
       "let result = \"\";\n",
       "\n",
       "for (const row of rows) {\n",
       "    result = result + \"\\n\" + row;\n",
       "}\n",
       "\n",
       "console.log(result);\n",
       "\n",
       "```"
      ],
      "text/plain": [
       "<IPython.core.display.Markdown object>"
      ]
     },
     "metadata": {},
     "output_type": "display_data"
    }
   ],
   "source": [
    "fileName = \"pyramidGenerator_step77.js\"\n",
    "fetchAndDisplaySrcFileAsCodeBlock(fileName)"
   ]
  },
  {
   "cell_type": "markdown",
   "metadata": {},
   "source": [
    "### Execution logs: "
   ]
  },
  {
   "cell_type": "code",
   "execution_count": 535,
   "metadata": {},
   "outputs": [
    {
     "name": "stdout",
     "output_type": "stream",
     "text": [
      "\n"
     ]
    }
   ],
   "source": [
    "!node pyramidGenerator_step77.js"
   ]
  },
  {
   "cell_type": "markdown",
   "metadata": {},
   "source": [
    "---"
   ]
  },
  {
   "cell_type": "markdown",
   "metadata": {},
   "source": [
    "## Step78:"
   ]
  },
  {
   "cell_type": "markdown",
   "metadata": {},
   "source": [
    "<p>Your pyramid has disappeared again. That's okay - that is to be expected.</p>"
   ]
  },
  {
   "cell_type": "markdown",
   "metadata": {},
   "source": [
    "<p>Before you create your new loop, you need to learn about <code>if</code> statements. An <dfn><code>if</code> statement</dfn> allows you to run a block of code only when a condition is met. They use the following syntax:</p>\n",
    "\n",
    "**Example Code**\n",
    "\n",
    "```js\n",
    "if (condition) {\n",
    "  logic\n",
    "}\n",
    "```"
   ]
  },
  {
   "cell_type": "markdown",
   "metadata": {},
   "source": [
    "<p>Create an <code>if</code> statement with the boolean <code>true</code> as the condition. In the body, print the string <code>\"Condition is true\"</code>.</p>"
   ]
  },
  {
   "cell_type": "markdown",
   "metadata": {},
   "source": [
    "**Source file link:** [pyramidGenerator_step78.js](./pyramidGenerator_step78.js)"
   ]
  },
  {
   "cell_type": "code",
   "execution_count": 536,
   "metadata": {},
   "outputs": [
    {
     "data": {
      "text/markdown": [
       "```js\n",
       "const character = \"#\";\n",
       "const count = 8;\n",
       "const rows = [];\n",
       "\n",
       "function padRow(rowNumber, rowCount) {\n",
       "    return \" \".repeat(rowCount - rowNumber) + character.repeat(2 * rowNumber - 1) + \" \".repeat(rowCount - rowNumber);\n",
       "}\n",
       "\n",
       "// Change to different kind of loop\n",
       "/*\n",
       "for (let i = 1; i <= count; i++) {\n",
       "    rows.push(padRow(i, count));\n",
       "}\n",
       "*/\n",
       "\n",
       "if(true) {\n",
       "    console.log(\"Condition is true\");\n",
       "    \n",
       "}\n",
       "\n",
       "let result = \"\";\n",
       "\n",
       "for (const row of rows) {\n",
       "    result = result + \"\\n\" + row;\n",
       "}\n",
       "\n",
       "console.log(result);\n",
       "\n",
       "```"
      ],
      "text/plain": [
       "<IPython.core.display.Markdown object>"
      ]
     },
     "metadata": {},
     "output_type": "display_data"
    }
   ],
   "source": [
    "fileName = \"pyramidGenerator_step78.js\"\n",
    "fetchAndDisplaySrcFileAsCodeBlock(fileName)"
   ]
  },
  {
   "cell_type": "markdown",
   "metadata": {},
   "source": [
    "### Execution logs: "
   ]
  },
  {
   "cell_type": "code",
   "execution_count": 537,
   "metadata": {},
   "outputs": [
    {
     "name": "stdout",
     "output_type": "stream",
     "text": [
      "Condition is true\n",
      "\n"
     ]
    }
   ],
   "source": [
    "!node pyramidGenerator_step78.js"
   ]
  },
  {
   "cell_type": "markdown",
   "metadata": {},
   "source": [
    "---"
   ]
  },
  {
   "cell_type": "markdown",
   "metadata": {},
   "source": [
    "## Step79:"
   ]
  },
  {
   "cell_type": "markdown",
   "metadata": {},
   "source": [
    "<p>You'll see the string printed in the console, because <code>true</code> is in fact true.</p>"
   ]
  },
  {
   "cell_type": "markdown",
   "metadata": {},
   "source": [
    "<p>Change the condition of your <code>if</code> statement to the boolean <code>false</code>.</p>"
   ]
  },
  {
   "cell_type": "markdown",
   "metadata": {},
   "source": [
    "**Source file link:** [pyramidGenerator_step79.js](./pyramidGenerator_step79.js)"
   ]
  },
  {
   "cell_type": "code",
   "execution_count": 538,
   "metadata": {},
   "outputs": [
    {
     "data": {
      "text/markdown": [
       "```js\n",
       "const character = \"#\";\n",
       "const count = 8;\n",
       "const rows = [];\n",
       "\n",
       "function padRow(rowNumber, rowCount) {\n",
       "    return \" \".repeat(rowCount - rowNumber) + character.repeat(2 * rowNumber - 1) + \" \".repeat(rowCount - rowNumber);\n",
       "}\n",
       "\n",
       "// Change to different kind of loop\n",
       "/*\n",
       "for (let i = 1; i <= count; i++) {\n",
       "    rows.push(padRow(i, count));\n",
       "}\n",
       "*/\n",
       "\n",
       "if(false) {\n",
       "    console.log(\"Condition is true\");    \n",
       "}\n",
       "\n",
       "let result = \"\";\n",
       "\n",
       "for (const row of rows) {\n",
       "    result = result + \"\\n\" + row;\n",
       "}\n",
       "\n",
       "console.log(result);\n",
       "\n",
       "```"
      ],
      "text/plain": [
       "<IPython.core.display.Markdown object>"
      ]
     },
     "metadata": {},
     "output_type": "display_data"
    }
   ],
   "source": [
    "fileName = \"pyramidGenerator_step79.js\"\n",
    "fetchAndDisplaySrcFileAsCodeBlock(fileName)"
   ]
  },
  {
   "cell_type": "markdown",
   "metadata": {},
   "source": [
    "### Execution logs: "
   ]
  },
  {
   "cell_type": "code",
   "execution_count": 539,
   "metadata": {},
   "outputs": [
    {
     "name": "stdout",
     "output_type": "stream",
     "text": [
      "\n"
     ]
    }
   ],
   "source": [
    "!node pyramidGenerator_step79.js"
   ]
  },
  {
   "cell_type": "markdown",
   "metadata": {},
   "source": [
    "---"
   ]
  },
  {
   "cell_type": "markdown",
   "metadata": {},
   "source": [
    "## Step80:"
   ]
  },
  {
   "cell_type": "markdown",
   "metadata": {},
   "source": [
    "<p>Now the string is no longer printing, because <code>false</code> is not <code>true</code>. But what about other values?</p>"
   ]
  },
  {
   "cell_type": "markdown",
   "metadata": {},
   "source": [
    "<p>Try changing the condition to the string <code>\"false\"</code>.</p>"
   ]
  },
  {
   "cell_type": "markdown",
   "metadata": {},
   "source": [
    "**Source file link:** [pyramidGenerator_step80.js](./pyramidGenerator_step80.js)"
   ]
  },
  {
   "cell_type": "code",
   "execution_count": 540,
   "metadata": {},
   "outputs": [
    {
     "data": {
      "text/markdown": [
       "```js\n",
       "const character = \"#\";\n",
       "const count = 8;\n",
       "const rows = [];\n",
       "\n",
       "function padRow(rowNumber, rowCount) {\n",
       "    return \" \".repeat(rowCount - rowNumber) + character.repeat(2 * rowNumber - 1) + \" \".repeat(rowCount - rowNumber);\n",
       "}\n",
       "\n",
       "// Change to different kind of loop\n",
       "/*\n",
       "for (let i = 1; i <= count; i++) {\n",
       "    rows.push(padRow(i, count));\n",
       "}\n",
       "*/\n",
       "\n",
       "if(\"false\") {\n",
       "    console.log(\"Condition is true\");    \n",
       "}\n",
       "\n",
       "let result = \"\";\n",
       "\n",
       "for (const row of rows) {\n",
       "    result = result + \"\\n\" + row;\n",
       "}\n",
       "\n",
       "console.log(result);\n",
       "\n",
       "```"
      ],
      "text/plain": [
       "<IPython.core.display.Markdown object>"
      ]
     },
     "metadata": {},
     "output_type": "display_data"
    }
   ],
   "source": [
    "fileName = \"pyramidGenerator_step80.js\"\n",
    "fetchAndDisplaySrcFileAsCodeBlock(fileName)"
   ]
  },
  {
   "cell_type": "markdown",
   "metadata": {},
   "source": [
    "### Execution logs: "
   ]
  },
  {
   "cell_type": "code",
   "execution_count": 541,
   "metadata": {},
   "outputs": [
    {
     "name": "stdout",
     "output_type": "stream",
     "text": [
      "Condition is true\n",
      "\n"
     ]
    }
   ],
   "source": [
    "!node pyramidGenerator_step80.js"
   ]
  },
  {
   "cell_type": "markdown",
   "metadata": {},
   "source": [
    "---"
   ]
  },
  {
   "cell_type": "markdown",
   "metadata": {},
   "source": [
    "## Step81:"
   ]
  },
  {
   "cell_type": "markdown",
   "metadata": {},
   "source": [
    "<p>The text has appeared again! This is because <code>\"false\"</code> is a string, which when evaluated to a boolean becomes <code>true</code>. This means <code>\"false\"</code> is a truthy value.</p>"
   ]
  },
  {
   "cell_type": "markdown",
   "metadata": {},
   "source": [
    "<p>A <dfn>truthy value</dfn> is a value that is considered true when evaluated as a boolean. Most of the values you encounter in JavaScript will be truthy.</p>"
   ]
  },
  {
   "cell_type": "markdown",
   "metadata": {},
   "source": [
    "<p>A <dfn>falsy value</dfn> is the opposite - a value considered false when evaluated as a boolean. JavaScript has a defined list of falsy values. Some of them include <code>false</code>, <code>0</code>, <code>\"\"</code>, <code>null</code>, <code>undefined</code>, and <code>NaN</code>.</p>"
   ]
  },
  {
   "cell_type": "markdown",
   "metadata": {},
   "source": [
    "<p>Try changing your <code>if</code> condition to an empty string <code>\"\"</code>, which is a falsy value.</p>"
   ]
  },
  {
   "cell_type": "markdown",
   "metadata": {},
   "source": [
    "**Source file link:** [pyramidGenerator_step81.js](./pyramidGenerator_step81.js)"
   ]
  },
  {
   "cell_type": "code",
   "execution_count": 400,
   "metadata": {},
   "outputs": [
    {
     "data": {
      "text/markdown": [
       "```js\n",
       "\n",
       "```"
      ],
      "text/plain": [
       "<IPython.core.display.Markdown object>"
      ]
     },
     "metadata": {},
     "output_type": "display_data"
    }
   ],
   "source": [
    "fileName = \"pyramidGenerator_step81.js\"\n",
    "fetchAndDisplaySrcFileAsCodeBlock(fileName)"
   ]
  },
  {
   "cell_type": "markdown",
   "metadata": {},
   "source": [
    "### Execution logs: "
   ]
  },
  {
   "cell_type": "code",
   "execution_count": 401,
   "metadata": {},
   "outputs": [],
   "source": [
    "!node pyramidGenerator_step81.js"
   ]
  },
  {
   "cell_type": "markdown",
   "metadata": {},
   "source": [
    "---"
   ]
  },
  {
   "cell_type": "markdown",
   "metadata": {},
   "source": [
    "## Step82:"
   ]
  },
  {
   "cell_type": "markdown",
   "metadata": {},
   "source": [
    "<p>The text is gone again! Empty strings evaluate to <code>false</code>, making them a <dfn>falsy value</dfn>. You will learn more about truthy and falsy values in future projects.</p>"
   ]
  },
  {
   "cell_type": "markdown",
   "metadata": {},
   "source": [
    "<p>In addition to <code>if</code> statements, JavaScript also has <dfn>else if</dfn> statements. <code>else if</code> statements allow you to check multiple conditions in a single block of code.</p>"
   ]
  },
  {
   "cell_type": "markdown",
   "metadata": {},
   "source": [
    "<p>Here is the syntax for an <code>else if</code> statement:</p>"
   ]
  },
  {
   "cell_type": "markdown",
   "metadata": {},
   "source": [
    "<p>If the first condition is <code>false</code>, JavaScript will check the next condition in the chain. If the second condition is <code>false</code>, JavaScript will check the third condition, and so on.</p>"
   ]
  },
  {
   "cell_type": "markdown",
   "metadata": {},
   "source": [
    "<p>Below your <code>if</code> statement, add an <code>else if</code> statement that checks if <code>5</code> is less than <code>10</code>. Then inside the body of the <code>else if</code> statement, log the string <code>\"5 is less than 10\"</code> to the console.</p>"
   ]
  },
  {
   "cell_type": "markdown",
   "metadata": {},
   "source": [
    "<p>Check the console to see the results.</p>"
   ]
  },
  {
   "cell_type": "markdown",
   "metadata": {},
   "source": [
    "**Source file link:** [pyramidGenerator_step82.js](./pyramidGenerator_step82.js)"
   ]
  },
  {
   "cell_type": "code",
   "execution_count": 402,
   "metadata": {},
   "outputs": [
    {
     "data": {
      "text/markdown": [
       "```js\n",
       "\n",
       "```"
      ],
      "text/plain": [
       "<IPython.core.display.Markdown object>"
      ]
     },
     "metadata": {},
     "output_type": "display_data"
    }
   ],
   "source": [
    "fileName = \"pyramidGenerator_step82.js\"\n",
    "fetchAndDisplaySrcFileAsCodeBlock(fileName)"
   ]
  },
  {
   "cell_type": "markdown",
   "metadata": {},
   "source": [
    "### Execution logs: "
   ]
  },
  {
   "cell_type": "code",
   "execution_count": 403,
   "metadata": {},
   "outputs": [],
   "source": [
    "!node pyramidGenerator_step82.js"
   ]
  },
  {
   "cell_type": "markdown",
   "metadata": {},
   "source": [
    "---"
   ]
  },
  {
   "cell_type": "markdown",
   "metadata": {},
   "source": [
    "## Step83:"
   ]
  },
  {
   "cell_type": "markdown",
   "metadata": {},
   "source": [
    "<p>Sometimes you will want to run different code when all of the <code>if...else if</code> conditions are <code>false</code>. You can do this by adding an <code>else</code> block.</p>"
   ]
  },
  {
   "cell_type": "markdown",
   "metadata": {},
   "source": [
    "<p>An <code>else</code> block will only evaluate if the conditions in the <code>if</code> and <code>else if</code> blocks are not met.</p>"
   ]
  },
  {
   "cell_type": "markdown",
   "metadata": {},
   "source": [
    "<p>Here the <code>else</code> block is added to the <code>else if</code> block.</p>"
   ]
  },
  {
   "cell_type": "markdown",
   "metadata": {},
   "source": [
    "<p>Add an <code>else</code> block to the <code>else if</code> block. Inside the <code>else</code> block, log the string <code>\"This is the else block\"</code> to the console.</p>"
   ]
  },
  {
   "cell_type": "markdown",
   "metadata": {},
   "source": [
    "<p>To see the results in the console, you can manually change the <code>&lt;</code> in the <code>else if</code> statement to <code>&gt;</code>. That will make the condition <code>false</code> and the <code>else</code> block will run.</p>"
   ]
  },
  {
   "cell_type": "markdown",
   "metadata": {},
   "source": [
    "**Source file link:** [pyramidGenerator_step83.js](./pyramidGenerator_step83.js)"
   ]
  },
  {
   "cell_type": "code",
   "execution_count": 404,
   "metadata": {},
   "outputs": [
    {
     "data": {
      "text/markdown": [
       "```js\n",
       "\n",
       "```"
      ],
      "text/plain": [
       "<IPython.core.display.Markdown object>"
      ]
     },
     "metadata": {},
     "output_type": "display_data"
    }
   ],
   "source": [
    "fileName = \"pyramidGenerator_step83.js\"\n",
    "fetchAndDisplaySrcFileAsCodeBlock(fileName)"
   ]
  },
  {
   "cell_type": "markdown",
   "metadata": {},
   "source": [
    "### Execution logs: "
   ]
  },
  {
   "cell_type": "code",
   "execution_count": 405,
   "metadata": {},
   "outputs": [],
   "source": [
    "!node pyramidGenerator_step83.js"
   ]
  },
  {
   "cell_type": "markdown",
   "metadata": {},
   "source": [
    "---"
   ]
  },
  {
   "cell_type": "markdown",
   "metadata": {},
   "source": [
    "## Step84:"
   ]
  },
  {
   "cell_type": "markdown",
   "metadata": {},
   "source": [
    "<p>Now that you have practiced working with <code>if...else if...else</code> statements, you can remove them from your code.</p>"
   ]
  },
  {
   "cell_type": "markdown",
   "metadata": {},
   "source": [
    "<p>Once you complete that, use <code>let</code> to declare a <code>continueLoop</code> variable and assign it the boolean <code>false</code>. Then use <code>let</code> to declare a <code>done</code> variable and assign it the value <code>0</code>.</p>"
   ]
  },
  {
   "cell_type": "markdown",
   "metadata": {},
   "source": [
    "**Source file link:** [pyramidGenerator_step84.js](./pyramidGenerator_step84.js)"
   ]
  },
  {
   "cell_type": "code",
   "execution_count": 406,
   "metadata": {},
   "outputs": [
    {
     "data": {
      "text/markdown": [
       "```js\n",
       "\n",
       "```"
      ],
      "text/plain": [
       "<IPython.core.display.Markdown object>"
      ]
     },
     "metadata": {},
     "output_type": "display_data"
    }
   ],
   "source": [
    "fileName = \"pyramidGenerator_step84.js\"\n",
    "fetchAndDisplaySrcFileAsCodeBlock(fileName)"
   ]
  },
  {
   "cell_type": "markdown",
   "metadata": {},
   "source": [
    "### Execution logs: "
   ]
  },
  {
   "cell_type": "code",
   "execution_count": 407,
   "metadata": {},
   "outputs": [],
   "source": [
    "!node pyramidGenerator_step84.js"
   ]
  },
  {
   "cell_type": "markdown",
   "metadata": {},
   "source": [
    "---"
   ]
  },
  {
   "cell_type": "markdown",
   "metadata": {},
   "source": [
    "## Step85:"
   ]
  },
  {
   "cell_type": "markdown",
   "metadata": {},
   "source": [
    "<p>A <dfn><code>while</code></dfn> loop will run over and over again until the <code>condition</code> specified is no longer true. It has the following syntax:</p>"
   ]
  },
  {
   "cell_type": "markdown",
   "metadata": {},
   "source": [
    "<p>Use that syntax to declare a <code>while</code> loop with <code>continueLoop</code> as the condition. The body should be empty.</p>"
   ]
  },
  {
   "cell_type": "markdown",
   "metadata": {},
   "source": [
    "**Source file link:** [pyramidGenerator_step85.js](./pyramidGenerator_step85.js)"
   ]
  },
  {
   "cell_type": "code",
   "execution_count": 408,
   "metadata": {},
   "outputs": [
    {
     "data": {
      "text/markdown": [
       "```js\n",
       "\n",
       "```"
      ],
      "text/plain": [
       "<IPython.core.display.Markdown object>"
      ]
     },
     "metadata": {},
     "output_type": "display_data"
    }
   ],
   "source": [
    "fileName = \"pyramidGenerator_step85.js\"\n",
    "fetchAndDisplaySrcFileAsCodeBlock(fileName)"
   ]
  },
  {
   "cell_type": "markdown",
   "metadata": {},
   "source": [
    "### Execution logs: "
   ]
  },
  {
   "cell_type": "code",
   "execution_count": 409,
   "metadata": {},
   "outputs": [],
   "source": [
    "!node pyramidGenerator_step85.js"
   ]
  },
  {
   "cell_type": "markdown",
   "metadata": {},
   "source": [
    "---"
   ]
  },
  {
   "cell_type": "markdown",
   "metadata": {},
   "source": [
    "## Step86:"
   ]
  },
  {
   "cell_type": "markdown",
   "metadata": {},
   "source": [
    "<p>Right now, if you change <code>continueLoop</code> to true, your <code>while</code> loop will run forever. This is called an <dfn>infinite loop</dfn>, and you should be careful to avoid these. An infinite loop can lock up your system, requiring a full restart to escape.</p>"
   ]
  },
  {
   "cell_type": "markdown",
   "metadata": {},
   "source": [
    "<p>To avoid this, start by using the increment operator to increase the value of the <code>done</code> variable inside your loop.</p>"
   ]
  },
  {
   "cell_type": "markdown",
   "metadata": {},
   "source": [
    "**Source file link:** [pyramidGenerator_step86.js](./pyramidGenerator_step86.js)"
   ]
  },
  {
   "cell_type": "code",
   "execution_count": 410,
   "metadata": {},
   "outputs": [
    {
     "data": {
      "text/markdown": [
       "```js\n",
       "\n",
       "```"
      ],
      "text/plain": [
       "<IPython.core.display.Markdown object>"
      ]
     },
     "metadata": {},
     "output_type": "display_data"
    }
   ],
   "source": [
    "fileName = \"pyramidGenerator_step86.js\"\n",
    "fetchAndDisplaySrcFileAsCodeBlock(fileName)"
   ]
  },
  {
   "cell_type": "markdown",
   "metadata": {},
   "source": [
    "### Execution logs: "
   ]
  },
  {
   "cell_type": "code",
   "execution_count": 411,
   "metadata": {},
   "outputs": [],
   "source": [
    "!node pyramidGenerator_step86.js"
   ]
  },
  {
   "cell_type": "markdown",
   "metadata": {},
   "source": [
    "---"
   ]
  },
  {
   "cell_type": "markdown",
   "metadata": {},
   "source": [
    "## Step87:"
   ]
  },
  {
   "cell_type": "markdown",
   "metadata": {},
   "source": [
    "<p>The <dfn>equality</dfn> operator <code>==</code> is used to check if two values are equal. To compare two values, you'd use a statement like <code>value == 8</code>.</p>"
   ]
  },
  {
   "cell_type": "markdown",
   "metadata": {},
   "source": [
    "<p>Below <code>done++</code> inside your loop, add an <code>if</code> statement. The statement should check if <code>done</code> is equal to <code>count</code> using the equality operator.</p>"
   ]
  },
  {
   "cell_type": "markdown",
   "metadata": {},
   "source": [
    "**Source file link:** [pyramidGenerator_step87.js](./pyramidGenerator_step87.js)"
   ]
  },
  {
   "cell_type": "code",
   "execution_count": 412,
   "metadata": {},
   "outputs": [
    {
     "data": {
      "text/markdown": [
       "```js\n",
       "\n",
       "```"
      ],
      "text/plain": [
       "<IPython.core.display.Markdown object>"
      ]
     },
     "metadata": {},
     "output_type": "display_data"
    }
   ],
   "source": [
    "fileName = \"pyramidGenerator_step87.js\"\n",
    "fetchAndDisplaySrcFileAsCodeBlock(fileName)"
   ]
  },
  {
   "cell_type": "markdown",
   "metadata": {},
   "source": [
    "### Execution logs: "
   ]
  },
  {
   "cell_type": "code",
   "execution_count": 413,
   "metadata": {},
   "outputs": [],
   "source": [
    "!node pyramidGenerator_step87.js"
   ]
  },
  {
   "cell_type": "markdown",
   "metadata": {},
   "source": [
    "---"
   ]
  },
  {
   "cell_type": "markdown",
   "metadata": {},
   "source": [
    "## Step88:"
   ]
  },
  {
   "cell_type": "markdown",
   "metadata": {},
   "source": [
    "<p>The equality operator can lead to some strange behavior in JavaScript. For example, <code>\"0\" == 0</code> is true, even though one is a string and one is a number.</p>"
   ]
  },
  {
   "cell_type": "markdown",
   "metadata": {},
   "source": [
    "<p>The <dfn>strict equality</dfn> operator <code>===</code> is used to check if two values are equal and share the same type. As a general rule, this is the equality operator you should always use. With the strict equality operator, <code>\"0\" === 0</code> becomes false, because while they might have the same value of zero, they are not of the same type.</p>"
   ]
  },
  {
   "cell_type": "markdown",
   "metadata": {},
   "source": [
    "<p>Update your <code>done == count</code> condition to use the strict equality operator.</p>"
   ]
  },
  {
   "cell_type": "markdown",
   "metadata": {},
   "source": [
    "**Source file link:** [pyramidGenerator_step88.js](./pyramidGenerator_step88.js)"
   ]
  },
  {
   "cell_type": "code",
   "execution_count": 414,
   "metadata": {},
   "outputs": [
    {
     "data": {
      "text/markdown": [
       "```js\n",
       "\n",
       "```"
      ],
      "text/plain": [
       "<IPython.core.display.Markdown object>"
      ]
     },
     "metadata": {},
     "output_type": "display_data"
    }
   ],
   "source": [
    "fileName = \"pyramidGenerator_step88.js\"\n",
    "fetchAndDisplaySrcFileAsCodeBlock(fileName)"
   ]
  },
  {
   "cell_type": "markdown",
   "metadata": {},
   "source": [
    "### Execution logs: "
   ]
  },
  {
   "cell_type": "code",
   "execution_count": 415,
   "metadata": {},
   "outputs": [],
   "source": [
    "!node pyramidGenerator_step88.js"
   ]
  },
  {
   "cell_type": "markdown",
   "metadata": {},
   "source": [
    "---"
   ]
  },
  {
   "cell_type": "markdown",
   "metadata": {},
   "source": [
    "## Step89:"
   ]
  },
  {
   "cell_type": "markdown",
   "metadata": {},
   "source": [
    "<p>When <code>done</code> has reached the value of <code>count</code>, we want the loop to stop executing.</p>"
   ]
  },
  {
   "cell_type": "markdown",
   "metadata": {},
   "source": [
    "<p>Inside your <code>if</code> body, assign the boolean <code>false</code> to your <code>continueLoop</code> variable.</p>"
   ]
  },
  {
   "cell_type": "markdown",
   "metadata": {},
   "source": [
    "**Source file link:** [pyramidGenerator_step89.js](./pyramidGenerator_step89.js)"
   ]
  },
  {
   "cell_type": "code",
   "execution_count": 416,
   "metadata": {},
   "outputs": [
    {
     "data": {
      "text/markdown": [
       "```js\n",
       "\n",
       "```"
      ],
      "text/plain": [
       "<IPython.core.display.Markdown object>"
      ]
     },
     "metadata": {},
     "output_type": "display_data"
    }
   ],
   "source": [
    "fileName = \"pyramidGenerator_step89.js\"\n",
    "fetchAndDisplaySrcFileAsCodeBlock(fileName)"
   ]
  },
  {
   "cell_type": "markdown",
   "metadata": {},
   "source": [
    "### Execution logs: "
   ]
  },
  {
   "cell_type": "code",
   "execution_count": 417,
   "metadata": {},
   "outputs": [],
   "source": [
    "!node pyramidGenerator_step89.js"
   ]
  },
  {
   "cell_type": "markdown",
   "metadata": {},
   "source": [
    "---"
   ]
  },
  {
   "cell_type": "markdown",
   "metadata": {},
   "source": [
    "## Step90:"
   ]
  },
  {
   "cell_type": "markdown",
   "metadata": {},
   "source": [
    "<p>To make your pyramid generate again, push the result of calling <code>padRow</code> with <code>done</code> and <code>count</code> as the arguments to your <code>rows</code> array, similar to what you did in your first loop.</p>"
   ]
  },
  {
   "cell_type": "markdown",
   "metadata": {},
   "source": [
    "**Source file link:** [pyramidGenerator_step90.js](./pyramidGenerator_step90.js)"
   ]
  },
  {
   "cell_type": "code",
   "execution_count": 418,
   "metadata": {},
   "outputs": [
    {
     "data": {
      "text/markdown": [
       "```js\n",
       "\n",
       "```"
      ],
      "text/plain": [
       "<IPython.core.display.Markdown object>"
      ]
     },
     "metadata": {},
     "output_type": "display_data"
    }
   ],
   "source": [
    "fileName = \"pyramidGenerator_step90.js\"\n",
    "fetchAndDisplaySrcFileAsCodeBlock(fileName)"
   ]
  },
  {
   "cell_type": "markdown",
   "metadata": {},
   "source": [
    "### Execution logs: "
   ]
  },
  {
   "cell_type": "code",
   "execution_count": 419,
   "metadata": {},
   "outputs": [],
   "source": [
    "!node pyramidGenerator_step90.js"
   ]
  },
  {
   "cell_type": "markdown",
   "metadata": {},
   "source": [
    "---"
   ]
  },
  {
   "cell_type": "markdown",
   "metadata": {},
   "source": [
    "## Step91:"
   ]
  },
  {
   "cell_type": "markdown",
   "metadata": {},
   "source": [
    "<p>The <dfn>strict inequality</dfn> operator <code>!==</code> allows you to check if two values are not equal, or do not have the same type. The syntax is similar to the equality operator: <code>value !== 4</code>.</p>"
   ]
  },
  {
   "cell_type": "markdown",
   "metadata": {},
   "source": [
    "<p>Update your <code>while</code> loop condition to check if <code>done</code> is not equal to <code>count</code>.</p>"
   ]
  },
  {
   "cell_type": "markdown",
   "metadata": {},
   "source": [
    "**Source file link:** [pyramidGenerator_step91.js](./pyramidGenerator_step91.js)"
   ]
  },
  {
   "cell_type": "code",
   "execution_count": 420,
   "metadata": {},
   "outputs": [
    {
     "data": {
      "text/markdown": [
       "```js\n",
       "\n",
       "```"
      ],
      "text/plain": [
       "<IPython.core.display.Markdown object>"
      ]
     },
     "metadata": {},
     "output_type": "display_data"
    }
   ],
   "source": [
    "fileName = \"pyramidGenerator_step91.js\"\n",
    "fetchAndDisplaySrcFileAsCodeBlock(fileName)"
   ]
  },
  {
   "cell_type": "markdown",
   "metadata": {},
   "source": [
    "### Execution logs: "
   ]
  },
  {
   "cell_type": "code",
   "execution_count": 421,
   "metadata": {},
   "outputs": [],
   "source": [
    "!node pyramidGenerator_step91.js"
   ]
  },
  {
   "cell_type": "markdown",
   "metadata": {},
   "source": [
    "---"
   ]
  },
  {
   "cell_type": "markdown",
   "metadata": {},
   "source": [
    "## Step92:"
   ]
  },
  {
   "cell_type": "markdown",
   "metadata": {},
   "source": [
    "<p>Since you have moved the comparison into the <code>while</code> condition, you can remove your entire <code>if</code> statement.</p>"
   ]
  },
  {
   "cell_type": "markdown",
   "metadata": {},
   "source": [
    "**Source file link:** [pyramidGenerator_step92.js](./pyramidGenerator_step92.js)"
   ]
  },
  {
   "cell_type": "code",
   "execution_count": 422,
   "metadata": {},
   "outputs": [
    {
     "data": {
      "text/markdown": [
       "```js\n",
       "\n",
       "```"
      ],
      "text/plain": [
       "<IPython.core.display.Markdown object>"
      ]
     },
     "metadata": {},
     "output_type": "display_data"
    }
   ],
   "source": [
    "fileName = \"pyramidGenerator_step92.js\"\n",
    "fetchAndDisplaySrcFileAsCodeBlock(fileName)"
   ]
  },
  {
   "cell_type": "markdown",
   "metadata": {},
   "source": [
    "### Execution logs: "
   ]
  },
  {
   "cell_type": "code",
   "execution_count": 423,
   "metadata": {},
   "outputs": [],
   "source": [
    "!node pyramidGenerator_step92.js"
   ]
  },
  {
   "cell_type": "markdown",
   "metadata": {},
   "source": [
    "---"
   ]
  },
  {
   "cell_type": "markdown",
   "metadata": {},
   "source": [
    "## Step93:"
   ]
  },
  {
   "cell_type": "markdown",
   "metadata": {},
   "source": [
    "<p>Your loop is no longer relying on the <code>continueLoop</code> variable. This makes the variable an <dfn>unused declaration</dfn>. Generally, you want to avoid unused declarations to prevent future confusion.</p>"
   ]
  },
  {
   "cell_type": "markdown",
   "metadata": {},
   "source": [
    "<p>Remove your <code>continueLoop</code> variable.</p>"
   ]
  },
  {
   "cell_type": "markdown",
   "metadata": {},
   "source": [
    "**Source file link:** [pyramidGenerator_step93.js](./pyramidGenerator_step93.js)"
   ]
  },
  {
   "cell_type": "code",
   "execution_count": 424,
   "metadata": {},
   "outputs": [
    {
     "data": {
      "text/markdown": [
       "```js\n",
       "\n",
       "```"
      ],
      "text/plain": [
       "<IPython.core.display.Markdown object>"
      ]
     },
     "metadata": {},
     "output_type": "display_data"
    }
   ],
   "source": [
    "fileName = \"pyramidGenerator_step93.js\"\n",
    "fetchAndDisplaySrcFileAsCodeBlock(fileName)"
   ]
  },
  {
   "cell_type": "markdown",
   "metadata": {},
   "source": [
    "### Execution logs: "
   ]
  },
  {
   "cell_type": "code",
   "execution_count": 425,
   "metadata": {},
   "outputs": [],
   "source": [
    "!node pyramidGenerator_step93.js"
   ]
  },
  {
   "cell_type": "markdown",
   "metadata": {},
   "source": [
    "---"
   ]
  },
  {
   "cell_type": "markdown",
   "metadata": {},
   "source": [
    "## Step94:"
   ]
  },
  {
   "cell_type": "markdown",
   "metadata": {},
   "source": [
    "<p>Your pyramid generator is still working. However, it could be possible to end up with an infinite loop again.</p>"
   ]
  },
  {
   "cell_type": "markdown",
   "metadata": {},
   "source": [
    "<p>Because you are only checking if <code>done</code> is not equal to <code>count</code>, if <code>done</code> were to be <strong>larger</strong> than <code>count</code> your loop would go on forever.</p>"
   ]
  },
  {
   "cell_type": "markdown",
   "metadata": {},
   "source": [
    "<p>Update your loop's condition to check if <code>done</code> is less than or equal to <code>count</code>.</p>"
   ]
  },
  {
   "cell_type": "markdown",
   "metadata": {},
   "source": [
    "**Source file link:** [pyramidGenerator_step94.js](./pyramidGenerator_step94.js)"
   ]
  },
  {
   "cell_type": "code",
   "execution_count": 426,
   "metadata": {},
   "outputs": [
    {
     "data": {
      "text/markdown": [
       "```js\n",
       "\n",
       "```"
      ],
      "text/plain": [
       "<IPython.core.display.Markdown object>"
      ]
     },
     "metadata": {},
     "output_type": "display_data"
    }
   ],
   "source": [
    "fileName = \"pyramidGenerator_step94.js\"\n",
    "fetchAndDisplaySrcFileAsCodeBlock(fileName)"
   ]
  },
  {
   "cell_type": "markdown",
   "metadata": {},
   "source": [
    "### Execution logs: "
   ]
  },
  {
   "cell_type": "code",
   "execution_count": 427,
   "metadata": {},
   "outputs": [],
   "source": [
    "!node pyramidGenerator_step94.js"
   ]
  },
  {
   "cell_type": "markdown",
   "metadata": {},
   "source": [
    "---"
   ]
  },
  {
   "cell_type": "markdown",
   "metadata": {},
   "source": [
    "## Step95:"
   ]
  },
  {
   "cell_type": "markdown",
   "metadata": {},
   "source": [
    "<p>Using <code>done</code> to track the number of rows that have been generated is functional, but you can actually clean up the logic a bit further.</p>"
   ]
  },
  {
   "cell_type": "markdown",
   "metadata": {},
   "source": [
    "<p>Arrays have a special <code>length</code> property that allows you to see how many values, or <dfn>elements</dfn>, are in the array. You would access this property using syntax like <code>myArray.length</code>.</p>"
   ]
  },
  {
   "cell_type": "markdown",
   "metadata": {},
   "source": [
    "<p>Note that <code>rows.length</code> in the <code>padRow</code> call would give you an off-by-one error, because <code>done</code> is incremented <em>before</em> the call.</p>"
   ]
  },
  {
   "cell_type": "markdown",
   "metadata": {},
   "source": [
    "<p>Update your condition to check if <code>rows.length</code> is less than <code>count</code>.</p>"
   ]
  },
  {
   "cell_type": "markdown",
   "metadata": {},
   "source": [
    "**Source file link:** [pyramidGenerator_step95.js](./pyramidGenerator_step95.js)"
   ]
  },
  {
   "cell_type": "code",
   "execution_count": 428,
   "metadata": {},
   "outputs": [
    {
     "data": {
      "text/markdown": [
       "```js\n",
       "\n",
       "```"
      ],
      "text/plain": [
       "<IPython.core.display.Markdown object>"
      ]
     },
     "metadata": {},
     "output_type": "display_data"
    }
   ],
   "source": [
    "fileName = \"pyramidGenerator_step95.js\"\n",
    "fetchAndDisplaySrcFileAsCodeBlock(fileName)"
   ]
  },
  {
   "cell_type": "markdown",
   "metadata": {},
   "source": [
    "### Execution logs: "
   ]
  },
  {
   "cell_type": "code",
   "execution_count": 429,
   "metadata": {},
   "outputs": [],
   "source": [
    "!node pyramidGenerator_step95.js"
   ]
  },
  {
   "cell_type": "markdown",
   "metadata": {},
   "source": [
    "---"
   ]
  },
  {
   "cell_type": "markdown",
   "metadata": {},
   "source": [
    "## Step96:"
   ]
  },
  {
   "cell_type": "markdown",
   "metadata": {},
   "source": [
    "<p>Replace the <code>done</code> reference in your <code>padRow</code> call with <code>rows.length + 1</code>.</p>"
   ]
  },
  {
   "cell_type": "markdown",
   "metadata": {},
   "source": [
    "**Source file link:** [pyramidGenerator_step96.js](./pyramidGenerator_step96.js)"
   ]
  },
  {
   "cell_type": "code",
   "execution_count": 430,
   "metadata": {},
   "outputs": [
    {
     "data": {
      "text/markdown": [
       "```js\n",
       "\n",
       "```"
      ],
      "text/plain": [
       "<IPython.core.display.Markdown object>"
      ]
     },
     "metadata": {},
     "output_type": "display_data"
    }
   ],
   "source": [
    "fileName = \"pyramidGenerator_step96.js\"\n",
    "fetchAndDisplaySrcFileAsCodeBlock(fileName)"
   ]
  },
  {
   "cell_type": "markdown",
   "metadata": {},
   "source": [
    "### Execution logs: "
   ]
  },
  {
   "cell_type": "code",
   "execution_count": 431,
   "metadata": {},
   "outputs": [],
   "source": [
    "!node pyramidGenerator_step96.js"
   ]
  },
  {
   "cell_type": "markdown",
   "metadata": {},
   "source": [
    "---"
   ]
  },
  {
   "cell_type": "markdown",
   "metadata": {},
   "source": [
    "## Step97:"
   ]
  },
  {
   "cell_type": "markdown",
   "metadata": {},
   "source": [
    "<p>Now you no longer need your <code>done</code> variable. Remove the increment operation from your loop, and the variable declaration for <code>done</code>.</p>"
   ]
  },
  {
   "cell_type": "markdown",
   "metadata": {},
   "source": [
    "**Source file link:** [pyramidGenerator_step97.js](./pyramidGenerator_step97.js)"
   ]
  },
  {
   "cell_type": "code",
   "execution_count": 432,
   "metadata": {},
   "outputs": [
    {
     "data": {
      "text/markdown": [
       "```js\n",
       "\n",
       "```"
      ],
      "text/plain": [
       "<IPython.core.display.Markdown object>"
      ]
     },
     "metadata": {},
     "output_type": "display_data"
    }
   ],
   "source": [
    "fileName = \"pyramidGenerator_step97.js\"\n",
    "fetchAndDisplaySrcFileAsCodeBlock(fileName)"
   ]
  },
  {
   "cell_type": "markdown",
   "metadata": {},
   "source": [
    "### Execution logs: "
   ]
  },
  {
   "cell_type": "code",
   "execution_count": 433,
   "metadata": {},
   "outputs": [],
   "source": [
    "!node pyramidGenerator_step97.js"
   ]
  },
  {
   "cell_type": "markdown",
   "metadata": {},
   "source": [
    "---"
   ]
  },
  {
   "cell_type": "markdown",
   "metadata": {},
   "source": [
    "## Step98:"
   ]
  },
  {
   "cell_type": "markdown",
   "metadata": {},
   "source": [
    "<p>That's a very clean and functional loop. Nice work! But there's still more to explore.</p>"
   ]
  },
  {
   "cell_type": "markdown",
   "metadata": {},
   "source": [
    "<p>Use a multi-line comment to comment out your <code>while</code> loop.</p>"
   ]
  },
  {
   "cell_type": "markdown",
   "metadata": {},
   "source": [
    "**Source file link:** [pyramidGenerator_step98.js](./pyramidGenerator_step98.js)"
   ]
  },
  {
   "cell_type": "code",
   "execution_count": 434,
   "metadata": {},
   "outputs": [
    {
     "data": {
      "text/markdown": [
       "```js\n",
       "\n",
       "```"
      ],
      "text/plain": [
       "<IPython.core.display.Markdown object>"
      ]
     },
     "metadata": {},
     "output_type": "display_data"
    }
   ],
   "source": [
    "fileName = \"pyramidGenerator_step98.js\"\n",
    "fetchAndDisplaySrcFileAsCodeBlock(fileName)"
   ]
  },
  {
   "cell_type": "markdown",
   "metadata": {},
   "source": [
    "### Execution logs: "
   ]
  },
  {
   "cell_type": "code",
   "execution_count": 435,
   "metadata": {},
   "outputs": [],
   "source": [
    "!node pyramidGenerator_step98.js"
   ]
  },
  {
   "cell_type": "markdown",
   "metadata": {},
   "source": [
    "---"
   ]
  },
  {
   "cell_type": "markdown",
   "metadata": {},
   "source": [
    "## Step99:"
   ]
  },
  {
   "cell_type": "markdown",
   "metadata": {},
   "source": [
    "<p>What if you made your pyramid upside-down, or <dfn>inverted</dfn>? Time to try it out!</p>"
   ]
  },
  {
   "cell_type": "markdown",
   "metadata": {},
   "source": [
    "<p>Start by creating a new <code>for</code> loop. Declare your iterator <code>i</code> and assign it the value of <code>count</code>, then use the boolean <code>false</code> for your condition and iteration statements.</p>"
   ]
  },
  {
   "cell_type": "markdown",
   "metadata": {},
   "source": [
    "**Source file link:** [pyramidGenerator_step99.js](./pyramidGenerator_step99.js)"
   ]
  },
  {
   "cell_type": "code",
   "execution_count": 436,
   "metadata": {},
   "outputs": [
    {
     "data": {
      "text/markdown": [
       "```js\n",
       "\n",
       "```"
      ],
      "text/plain": [
       "<IPython.core.display.Markdown object>"
      ]
     },
     "metadata": {},
     "output_type": "display_data"
    }
   ],
   "source": [
    "fileName = \"pyramidGenerator_step99.js\"\n",
    "fetchAndDisplaySrcFileAsCodeBlock(fileName)"
   ]
  },
  {
   "cell_type": "markdown",
   "metadata": {},
   "source": [
    "### Execution logs: "
   ]
  },
  {
   "cell_type": "code",
   "execution_count": 437,
   "metadata": {},
   "outputs": [],
   "source": [
    "!node pyramidGenerator_step99.js"
   ]
  },
  {
   "cell_type": "markdown",
   "metadata": {},
   "source": [
    "---"
   ]
  },
  {
   "cell_type": "markdown",
   "metadata": {},
   "source": [
    "## Step100:"
   ]
  },
  {
   "cell_type": "markdown",
   "metadata": {},
   "source": [
    "<p>Because you are going to loop in the opposite direction, your loop needs to run while <code>i</code> is greater than <code>0</code>. You can use the <dfn>greater than</dfn> operator <code>&gt;</code> for this.</p>"
   ]
  },
  {
   "cell_type": "markdown",
   "metadata": {},
   "source": [
    "<p>Set your loop's condition to run when <code>i</code> is greater than <code>0</code>.</p>"
   ]
  },
  {
   "cell_type": "markdown",
   "metadata": {},
   "source": [
    "**Source file link:** [pyramidGenerator_step100.js](./pyramidGenerator_step100.js)"
   ]
  },
  {
   "cell_type": "code",
   "execution_count": 438,
   "metadata": {},
   "outputs": [
    {
     "data": {
      "text/markdown": [
       "```js\n",
       "\n",
       "```"
      ],
      "text/plain": [
       "<IPython.core.display.Markdown object>"
      ]
     },
     "metadata": {},
     "output_type": "display_data"
    }
   ],
   "source": [
    "fileName = \"pyramidGenerator_step100.js\"\n",
    "fetchAndDisplaySrcFileAsCodeBlock(fileName)"
   ]
  },
  {
   "cell_type": "markdown",
   "metadata": {},
   "source": [
    "### Execution logs: "
   ]
  },
  {
   "cell_type": "code",
   "execution_count": 439,
   "metadata": {},
   "outputs": [],
   "source": [
    "!node pyramidGenerator_step100.js"
   ]
  },
  {
   "cell_type": "markdown",
   "metadata": {},
   "source": [
    "---"
   ]
  },
  {
   "cell_type": "markdown",
   "metadata": {},
   "source": [
    "## Step101:"
   ]
  },
  {
   "cell_type": "markdown",
   "metadata": {},
   "source": [
    "<p>Your iteration statement is also going to be different. Instead of adding <code>1</code> to <code>i</code> with each loop, you need to subtract <code>1</code>.</p>"
   ]
  },
  {
   "cell_type": "markdown",
   "metadata": {},
   "source": [
    "<p>Like you did earlier with <code>i = i + 1</code>, update your iteration statement to give <code>i</code> the value of subtracting <code>1</code> from itself.</p>"
   ]
  },
  {
   "cell_type": "markdown",
   "metadata": {},
   "source": [
    "**Source file link:** [pyramidGenerator_step101.js](./pyramidGenerator_step101.js)"
   ]
  },
  {
   "cell_type": "code",
   "execution_count": 440,
   "metadata": {},
   "outputs": [
    {
     "data": {
      "text/markdown": [
       "```js\n",
       "\n",
       "```"
      ],
      "text/plain": [
       "<IPython.core.display.Markdown object>"
      ]
     },
     "metadata": {},
     "output_type": "display_data"
    }
   ],
   "source": [
    "fileName = \"pyramidGenerator_step101.js\"\n",
    "fetchAndDisplaySrcFileAsCodeBlock(fileName)"
   ]
  },
  {
   "cell_type": "markdown",
   "metadata": {},
   "source": [
    "### Execution logs: "
   ]
  },
  {
   "cell_type": "code",
   "execution_count": 441,
   "metadata": {},
   "outputs": [],
   "source": [
    "!node pyramidGenerator_step101.js"
   ]
  },
  {
   "cell_type": "markdown",
   "metadata": {},
   "source": [
    "---"
   ]
  },
  {
   "cell_type": "markdown",
   "metadata": {},
   "source": [
    "## Step102:"
   ]
  },
  {
   "cell_type": "markdown",
   "metadata": {},
   "source": [
    "<p>Again, push the result of calling <code>padRow</code> with your <code>i</code> and <code>count</code> variables to your <code>rows</code> array.</p>"
   ]
  },
  {
   "cell_type": "markdown",
   "metadata": {},
   "source": [
    "<p>Open up the console to see the upside-down pyramid.</p>"
   ]
  },
  {
   "cell_type": "markdown",
   "metadata": {},
   "source": [
    "**Source file link:** [pyramidGenerator_step102.js](./pyramidGenerator_step102.js)"
   ]
  },
  {
   "cell_type": "code",
   "execution_count": 442,
   "metadata": {},
   "outputs": [
    {
     "data": {
      "text/markdown": [
       "```js\n",
       "\n",
       "```"
      ],
      "text/plain": [
       "<IPython.core.display.Markdown object>"
      ]
     },
     "metadata": {},
     "output_type": "display_data"
    }
   ],
   "source": [
    "fileName = \"pyramidGenerator_step102.js\"\n",
    "fetchAndDisplaySrcFileAsCodeBlock(fileName)"
   ]
  },
  {
   "cell_type": "markdown",
   "metadata": {},
   "source": [
    "### Execution logs: "
   ]
  },
  {
   "cell_type": "code",
   "execution_count": 443,
   "metadata": {},
   "outputs": [],
   "source": [
    "!node pyramidGenerator_step102.js"
   ]
  },
  {
   "cell_type": "markdown",
   "metadata": {},
   "source": [
    "---"
   ]
  },
  {
   "cell_type": "markdown",
   "metadata": {},
   "source": [
    "## Step103:"
   ]
  },
  {
   "cell_type": "markdown",
   "metadata": {},
   "source": [
    "<p>Just like addition, there are different operators you can use for subtraction. The <dfn>subtraction assignment</dfn> operator <code>-=</code> subtracts the given value from the current variable value, then assigns the result back to the variable.</p>"
   ]
  },
  {
   "cell_type": "markdown",
   "metadata": {},
   "source": [
    "<p>Replace your iterator statement with the correct statement using the subtraction assignment operator.</p>"
   ]
  },
  {
   "cell_type": "markdown",
   "metadata": {},
   "source": [
    "**Source file link:** [pyramidGenerator_step103.js](./pyramidGenerator_step103.js)"
   ]
  },
  {
   "cell_type": "code",
   "execution_count": 444,
   "metadata": {},
   "outputs": [
    {
     "data": {
      "text/markdown": [
       "```js\n",
       "\n",
       "```"
      ],
      "text/plain": [
       "<IPython.core.display.Markdown object>"
      ]
     },
     "metadata": {},
     "output_type": "display_data"
    }
   ],
   "source": [
    "fileName = \"pyramidGenerator_step103.js\"\n",
    "fetchAndDisplaySrcFileAsCodeBlock(fileName)"
   ]
  },
  {
   "cell_type": "markdown",
   "metadata": {},
   "source": [
    "### Execution logs: "
   ]
  },
  {
   "cell_type": "code",
   "execution_count": 445,
   "metadata": {},
   "outputs": [],
   "source": [
    "!node pyramidGenerator_step103.js"
   ]
  },
  {
   "cell_type": "markdown",
   "metadata": {},
   "source": [
    "---"
   ]
  },
  {
   "cell_type": "markdown",
   "metadata": {},
   "source": [
    "## Step104:"
   ]
  },
  {
   "cell_type": "markdown",
   "metadata": {},
   "source": [
    "<p>Because you are only subtracting one from <code>i</code>, you can use the <dfn>decrement operator</dfn> <code>--</code>.</p>"
   ]
  },
  {
   "cell_type": "markdown",
   "metadata": {},
   "source": [
    "<p>Replace your subtraction assignment with the decrement operator.</p>"
   ]
  },
  {
   "cell_type": "markdown",
   "metadata": {},
   "source": [
    "**Source file link:** [pyramidGenerator_step104.js](./pyramidGenerator_step104.js)"
   ]
  },
  {
   "cell_type": "code",
   "execution_count": 446,
   "metadata": {},
   "outputs": [
    {
     "data": {
      "text/markdown": [
       "```js\n",
       "\n",
       "```"
      ],
      "text/plain": [
       "<IPython.core.display.Markdown object>"
      ]
     },
     "metadata": {},
     "output_type": "display_data"
    }
   ],
   "source": [
    "fileName = \"pyramidGenerator_step104.js\"\n",
    "fetchAndDisplaySrcFileAsCodeBlock(fileName)"
   ]
  },
  {
   "cell_type": "markdown",
   "metadata": {},
   "source": [
    "### Execution logs: "
   ]
  },
  {
   "cell_type": "code",
   "execution_count": 447,
   "metadata": {},
   "outputs": [],
   "source": [
    "!node pyramidGenerator_step104.js"
   ]
  },
  {
   "cell_type": "markdown",
   "metadata": {},
   "source": [
    "---"
   ]
  },
  {
   "cell_type": "markdown",
   "metadata": {},
   "source": [
    "## Step105:"
   ]
  },
  {
   "cell_type": "markdown",
   "metadata": {},
   "source": [
    "<p>Use a multi-line comment to comment out this loop as well, to prepare for the next approach.</p>"
   ]
  },
  {
   "cell_type": "markdown",
   "metadata": {},
   "source": [
    "**Source file link:** [pyramidGenerator_step105.js](./pyramidGenerator_step105.js)"
   ]
  },
  {
   "cell_type": "code",
   "execution_count": 448,
   "metadata": {},
   "outputs": [
    {
     "data": {
      "text/markdown": [
       "```js\n",
       "\n",
       "```"
      ],
      "text/plain": [
       "<IPython.core.display.Markdown object>"
      ]
     },
     "metadata": {},
     "output_type": "display_data"
    }
   ],
   "source": [
    "fileName = \"pyramidGenerator_step105.js\"\n",
    "fetchAndDisplaySrcFileAsCodeBlock(fileName)"
   ]
  },
  {
   "cell_type": "markdown",
   "metadata": {},
   "source": [
    "### Execution logs: "
   ]
  },
  {
   "cell_type": "code",
   "execution_count": 449,
   "metadata": {},
   "outputs": [],
   "source": [
    "!node pyramidGenerator_step105.js"
   ]
  },
  {
   "cell_type": "markdown",
   "metadata": {},
   "source": [
    "---"
   ]
  },
  {
   "cell_type": "markdown",
   "metadata": {},
   "source": [
    "## Step106:"
   ]
  },
  {
   "cell_type": "markdown",
   "metadata": {},
   "source": [
    "<p>You can actually build the inverted pyramid without needing to loop \"backwards\" like you did.</p>"
   ]
  },
  {
   "cell_type": "markdown",
   "metadata": {},
   "source": [
    "<p>To do this, you'll need to learn a couple of new array methods. Start by using <code>const</code> to declare a <code>numbers</code> variable. Assign it an array with the elements <code>1</code>, <code>2</code>, and <code>3</code>. Then log the <code>numbers</code> array.</p>"
   ]
  },
  {
   "cell_type": "markdown",
   "metadata": {},
   "source": [
    "**Source file link:** [pyramidGenerator_step106.js](./pyramidGenerator_step106.js)"
   ]
  },
  {
   "cell_type": "code",
   "execution_count": 450,
   "metadata": {},
   "outputs": [
    {
     "data": {
      "text/markdown": [
       "```js\n",
       "\n",
       "```"
      ],
      "text/plain": [
       "<IPython.core.display.Markdown object>"
      ]
     },
     "metadata": {},
     "output_type": "display_data"
    }
   ],
   "source": [
    "fileName = \"pyramidGenerator_step106.js\"\n",
    "fetchAndDisplaySrcFileAsCodeBlock(fileName)"
   ]
  },
  {
   "cell_type": "markdown",
   "metadata": {},
   "source": [
    "### Execution logs: "
   ]
  },
  {
   "cell_type": "code",
   "execution_count": 451,
   "metadata": {},
   "outputs": [],
   "source": [
    "!node pyramidGenerator_step106.js"
   ]
  },
  {
   "cell_type": "markdown",
   "metadata": {},
   "source": [
    "---"
   ]
  },
  {
   "cell_type": "markdown",
   "metadata": {},
   "source": [
    "## Step107:"
   ]
  },
  {
   "cell_type": "markdown",
   "metadata": {},
   "source": [
    "<p>The <code>.unshift()</code> method of an array allows you to add a value to the <strong>beginning</strong> of the array, unlike <code>.push()</code> which adds the value at the end of the array. <code>.unshift()</code> returns the new length of the array it was called on.</p>"
   ]
  },
  {
   "cell_type": "markdown",
   "metadata": {},
   "source": [
    "<p>Use <code>const</code> to declare an <code>unshifted</code> variable, and assign it the result of calling <code>.unshift()</code> on your <code>numbers</code> array. Pass <code>5</code> as the argument. Then print your <code>unshifted</code> variable.</p>"
   ]
  },
  {
   "cell_type": "markdown",
   "metadata": {},
   "source": [
    "**Source file link:** [pyramidGenerator_step107.js](./pyramidGenerator_step107.js)"
   ]
  },
  {
   "cell_type": "code",
   "execution_count": 452,
   "metadata": {},
   "outputs": [
    {
     "data": {
      "text/markdown": [
       "```js\n",
       "\n",
       "```"
      ],
      "text/plain": [
       "<IPython.core.display.Markdown object>"
      ]
     },
     "metadata": {},
     "output_type": "display_data"
    }
   ],
   "source": [
    "fileName = \"pyramidGenerator_step107.js\"\n",
    "fetchAndDisplaySrcFileAsCodeBlock(fileName)"
   ]
  },
  {
   "cell_type": "markdown",
   "metadata": {},
   "source": [
    "### Execution logs: "
   ]
  },
  {
   "cell_type": "code",
   "execution_count": 453,
   "metadata": {},
   "outputs": [],
   "source": [
    "!node pyramidGenerator_step107.js"
   ]
  },
  {
   "cell_type": "markdown",
   "metadata": {},
   "source": [
    "---"
   ]
  },
  {
   "cell_type": "markdown",
   "metadata": {},
   "source": [
    "## Step108:"
   ]
  },
  {
   "cell_type": "markdown",
   "metadata": {},
   "source": [
    "<p>Arrays also have a <code>.shift()</code> method. This will remove the <strong>first</strong> element of the array, unlike <code>.pop()</code> which removes the last element. Here is an example of the <code>.shift()</code> method:</p>"
   ]
  },
  {
   "cell_type": "markdown",
   "metadata": {},
   "source": [
    "<p>The <code>numbers</code> array would be <code>[2, 3]</code>.</p>"
   ]
  },
  {
   "cell_type": "markdown",
   "metadata": {},
   "source": [
    "<p>Directly below your <code>numbers</code> array, declare a <code>shifted</code> variable and assign it the result of calling <code>.shift()</code> on the <code>numbers</code> array. On the next line, log the <code>shifted</code> variable to the console.</p>"
   ]
  },
  {
   "cell_type": "markdown",
   "metadata": {},
   "source": [
    "**Source file link:** [pyramidGenerator_step108.js](./pyramidGenerator_step108.js)"
   ]
  },
  {
   "cell_type": "code",
   "execution_count": 454,
   "metadata": {},
   "outputs": [
    {
     "data": {
      "text/markdown": [
       "```js\n",
       "\n",
       "```"
      ],
      "text/plain": [
       "<IPython.core.display.Markdown object>"
      ]
     },
     "metadata": {},
     "output_type": "display_data"
    }
   ],
   "source": [
    "fileName = \"pyramidGenerator_step108.js\"\n",
    "fetchAndDisplaySrcFileAsCodeBlock(fileName)"
   ]
  },
  {
   "cell_type": "markdown",
   "metadata": {},
   "source": [
    "### Execution logs: "
   ]
  },
  {
   "cell_type": "code",
   "execution_count": 455,
   "metadata": {},
   "outputs": [],
   "source": [
    "!node pyramidGenerator_step108.js"
   ]
  },
  {
   "cell_type": "markdown",
   "metadata": {},
   "source": [
    "---"
   ]
  },
  {
   "cell_type": "markdown",
   "metadata": {},
   "source": [
    "## Step109:"
   ]
  },
  {
   "cell_type": "markdown",
   "metadata": {},
   "source": [
    "<p>Now that you've tried these methods, you can do another inverted pyramid approach. But first you need to clean up your experimentation.</p>"
   ]
  },
  {
   "cell_type": "markdown",
   "metadata": {},
   "source": [
    "<p>Remove your <code>numbers</code> array, and the method calls and log calls.</p>"
   ]
  },
  {
   "cell_type": "markdown",
   "metadata": {},
   "source": [
    "**Source file link:** [pyramidGenerator_step109.js](./pyramidGenerator_step109.js)"
   ]
  },
  {
   "cell_type": "code",
   "execution_count": 456,
   "metadata": {},
   "outputs": [
    {
     "data": {
      "text/markdown": [
       "```js\n",
       "\n",
       "```"
      ],
      "text/plain": [
       "<IPython.core.display.Markdown object>"
      ]
     },
     "metadata": {},
     "output_type": "display_data"
    }
   ],
   "source": [
    "fileName = \"pyramidGenerator_step109.js\"\n",
    "fetchAndDisplaySrcFileAsCodeBlock(fileName)"
   ]
  },
  {
   "cell_type": "markdown",
   "metadata": {},
   "source": [
    "### Execution logs: "
   ]
  },
  {
   "cell_type": "code",
   "execution_count": 457,
   "metadata": {},
   "outputs": [],
   "source": [
    "!node pyramidGenerator_step109.js"
   ]
  },
  {
   "cell_type": "markdown",
   "metadata": {},
   "source": [
    "---"
   ]
  },
  {
   "cell_type": "markdown",
   "metadata": {},
   "source": [
    "## Step110:"
   ]
  },
  {
   "cell_type": "markdown",
   "metadata": {},
   "source": [
    "<p>Sometimes you may wish to bring back previous code that you commented out. You can do so by removing the <code>/*</code> and <code>*/</code> around that code. This is called <dfn>uncommenting</dfn>.</p>"
   ]
  },
  {
   "cell_type": "markdown",
   "metadata": {},
   "source": [
    "<p>Uncomment only your first <code>for</code> loop. Leave the single line comment and the other two multi line comments in place.</p>"
   ]
  },
  {
   "cell_type": "markdown",
   "metadata": {},
   "source": [
    "**Source file link:** [pyramidGenerator_step110.js](./pyramidGenerator_step110.js)"
   ]
  },
  {
   "cell_type": "code",
   "execution_count": 458,
   "metadata": {},
   "outputs": [
    {
     "data": {
      "text/markdown": [
       "```js\n",
       "\n",
       "```"
      ],
      "text/plain": [
       "<IPython.core.display.Markdown object>"
      ]
     },
     "metadata": {},
     "output_type": "display_data"
    }
   ],
   "source": [
    "fileName = \"pyramidGenerator_step110.js\"\n",
    "fetchAndDisplaySrcFileAsCodeBlock(fileName)"
   ]
  },
  {
   "cell_type": "markdown",
   "metadata": {},
   "source": [
    "### Execution logs: "
   ]
  },
  {
   "cell_type": "code",
   "execution_count": 459,
   "metadata": {},
   "outputs": [],
   "source": [
    "!node pyramidGenerator_step110.js"
   ]
  },
  {
   "cell_type": "markdown",
   "metadata": {},
   "source": [
    "---"
   ]
  },
  {
   "cell_type": "markdown",
   "metadata": {},
   "source": [
    "## Step111:"
   ]
  },
  {
   "cell_type": "markdown",
   "metadata": {},
   "source": [
    "<p>Your pyramid is no longer inverted. This is because you are adding new rows to the <strong>end</strong> of the array.</p>"
   ]
  },
  {
   "cell_type": "markdown",
   "metadata": {},
   "source": [
    "<p>Update your loop body to add new rows to the beginning of the array.</p>"
   ]
  },
  {
   "cell_type": "markdown",
   "metadata": {},
   "source": [
    "**Source file link:** [pyramidGenerator_step111.js](./pyramidGenerator_step111.js)"
   ]
  },
  {
   "cell_type": "code",
   "execution_count": 460,
   "metadata": {},
   "outputs": [
    {
     "data": {
      "text/markdown": [
       "```js\n",
       "\n",
       "```"
      ],
      "text/plain": [
       "<IPython.core.display.Markdown object>"
      ]
     },
     "metadata": {},
     "output_type": "display_data"
    }
   ],
   "source": [
    "fileName = \"pyramidGenerator_step111.js\"\n",
    "fetchAndDisplaySrcFileAsCodeBlock(fileName)"
   ]
  },
  {
   "cell_type": "markdown",
   "metadata": {},
   "source": [
    "### Execution logs: "
   ]
  },
  {
   "cell_type": "code",
   "execution_count": 461,
   "metadata": {},
   "outputs": [],
   "source": [
    "!node pyramidGenerator_step111.js"
   ]
  },
  {
   "cell_type": "markdown",
   "metadata": {},
   "source": [
    "---"
   ]
  },
  {
   "cell_type": "markdown",
   "metadata": {},
   "source": [
    "## Step112:"
   ]
  },
  {
   "cell_type": "markdown",
   "metadata": {},
   "source": [
    "<p>What if you had a way to toggle between an inverted pyramid and a standard pyramid?</p>"
   ]
  },
  {
   "cell_type": "markdown",
   "metadata": {},
   "source": [
    "<p>Start by declaring an <code>inverted</code> variable, and assigning it the value <code>true</code>. You are not changing this variable in your code, but you will need to use <code>let</code> so our tests can modify it later.</p>"
   ]
  },
  {
   "cell_type": "markdown",
   "metadata": {},
   "source": [
    "**Source file link:** [pyramidGenerator_step112.js](./pyramidGenerator_step112.js)"
   ]
  },
  {
   "cell_type": "code",
   "execution_count": 462,
   "metadata": {},
   "outputs": [
    {
     "data": {
      "text/markdown": [
       "```js\n",
       "\n",
       "```"
      ],
      "text/plain": [
       "<IPython.core.display.Markdown object>"
      ]
     },
     "metadata": {},
     "output_type": "display_data"
    }
   ],
   "source": [
    "fileName = \"pyramidGenerator_step112.js\"\n",
    "fetchAndDisplaySrcFileAsCodeBlock(fileName)"
   ]
  },
  {
   "cell_type": "markdown",
   "metadata": {},
   "source": [
    "### Execution logs: "
   ]
  },
  {
   "cell_type": "code",
   "execution_count": 463,
   "metadata": {},
   "outputs": [],
   "source": [
    "!node pyramidGenerator_step112.js"
   ]
  },
  {
   "cell_type": "markdown",
   "metadata": {},
   "source": [
    "---"
   ]
  },
  {
   "cell_type": "markdown",
   "metadata": {},
   "source": [
    "## Step113:"
   ]
  },
  {
   "cell_type": "markdown",
   "metadata": {},
   "source": [
    "<p>Use an <code>if</code> statement to check if <code>inverted</code> is true. Remember that you do not need to use an equality operator here.</p>"
   ]
  },
  {
   "cell_type": "markdown",
   "metadata": {},
   "source": [
    "**Source file link:** [pyramidGenerator_step113.js](./pyramidGenerator_step113.js)"
   ]
  },
  {
   "cell_type": "code",
   "execution_count": 464,
   "metadata": {},
   "outputs": [
    {
     "data": {
      "text/markdown": [
       "```js\n",
       "\n",
       "```"
      ],
      "text/plain": [
       "<IPython.core.display.Markdown object>"
      ]
     },
     "metadata": {},
     "output_type": "display_data"
    }
   ],
   "source": [
    "fileName = \"pyramidGenerator_step113.js\"\n",
    "fetchAndDisplaySrcFileAsCodeBlock(fileName)"
   ]
  },
  {
   "cell_type": "markdown",
   "metadata": {},
   "source": [
    "### Execution logs: "
   ]
  },
  {
   "cell_type": "code",
   "execution_count": 465,
   "metadata": {},
   "outputs": [],
   "source": [
    "!node pyramidGenerator_step113.js"
   ]
  },
  {
   "cell_type": "markdown",
   "metadata": {},
   "source": [
    "---"
   ]
  },
  {
   "cell_type": "markdown",
   "metadata": {},
   "source": [
    "## Step114:"
   ]
  },
  {
   "cell_type": "markdown",
   "metadata": {},
   "source": [
    "<p>Now move your <code>.unshift()</code> call into your <code>if</code> block.</p>"
   ]
  },
  {
   "cell_type": "markdown",
   "metadata": {},
   "source": [
    "**Source file link:** [pyramidGenerator_step114.js](./pyramidGenerator_step114.js)"
   ]
  },
  {
   "cell_type": "code",
   "execution_count": 466,
   "metadata": {},
   "outputs": [
    {
     "data": {
      "text/markdown": [
       "```js\n",
       "\n",
       "```"
      ],
      "text/plain": [
       "<IPython.core.display.Markdown object>"
      ]
     },
     "metadata": {},
     "output_type": "display_data"
    }
   ],
   "source": [
    "fileName = \"pyramidGenerator_step114.js\"\n",
    "fetchAndDisplaySrcFileAsCodeBlock(fileName)"
   ]
  },
  {
   "cell_type": "markdown",
   "metadata": {},
   "source": [
    "### Execution logs: "
   ]
  },
  {
   "cell_type": "code",
   "execution_count": 467,
   "metadata": {},
   "outputs": [],
   "source": [
    "!node pyramidGenerator_step114.js"
   ]
  },
  {
   "cell_type": "markdown",
   "metadata": {},
   "source": [
    "---"
   ]
  },
  {
   "cell_type": "markdown",
   "metadata": {},
   "source": [
    "## Step115:"
   ]
  },
  {
   "cell_type": "markdown",
   "metadata": {},
   "source": [
    "<p>If your pyramid is not inverted, then you will want to have an <code>else</code> block that builds the pyramid in the normal order.</p>"
   ]
  },
  {
   "cell_type": "markdown",
   "metadata": {},
   "source": [
    "<p>In earlier steps, you learned how to work with <code>else</code> statement like this:</p>"
   ]
  },
  {
   "cell_type": "markdown",
   "metadata": {},
   "source": [
    "<p>Add an <code>else</code> block to your <code>if</code> block.</p>"
   ]
  },
  {
   "cell_type": "markdown",
   "metadata": {},
   "source": [
    "**Source file link:** [pyramidGenerator_step115.js](./pyramidGenerator_step115.js)"
   ]
  },
  {
   "cell_type": "code",
   "execution_count": 468,
   "metadata": {},
   "outputs": [
    {
     "data": {
      "text/markdown": [
       "```js\n",
       "\n",
       "```"
      ],
      "text/plain": [
       "<IPython.core.display.Markdown object>"
      ]
     },
     "metadata": {},
     "output_type": "display_data"
    }
   ],
   "source": [
    "fileName = \"pyramidGenerator_step115.js\"\n",
    "fetchAndDisplaySrcFileAsCodeBlock(fileName)"
   ]
  },
  {
   "cell_type": "markdown",
   "metadata": {},
   "source": [
    "### Execution logs: "
   ]
  },
  {
   "cell_type": "code",
   "execution_count": 469,
   "metadata": {},
   "outputs": [],
   "source": [
    "!node pyramidGenerator_step115.js"
   ]
  },
  {
   "cell_type": "markdown",
   "metadata": {},
   "source": [
    "---"
   ]
  },
  {
   "cell_type": "markdown",
   "metadata": {},
   "source": [
    "## Step116:"
   ]
  },
  {
   "cell_type": "markdown",
   "metadata": {},
   "source": [
    "<p>When <code>inverted</code> is false, you want to build a standard pyramid. Use <code>.push()</code> like you have in previous steps to achieve this.</p>"
   ]
  },
  {
   "cell_type": "markdown",
   "metadata": {},
   "source": [
    "**Source file link:** [pyramidGenerator_step116.js](./pyramidGenerator_step116.js)"
   ]
  },
  {
   "cell_type": "code",
   "execution_count": 470,
   "metadata": {},
   "outputs": [
    {
     "data": {
      "text/markdown": [
       "```js\n",
       "\n",
       "```"
      ],
      "text/plain": [
       "<IPython.core.display.Markdown object>"
      ]
     },
     "metadata": {},
     "output_type": "display_data"
    }
   ],
   "source": [
    "fileName = \"pyramidGenerator_step116.js\"\n",
    "fetchAndDisplaySrcFileAsCodeBlock(fileName)"
   ]
  },
  {
   "cell_type": "markdown",
   "metadata": {},
   "source": [
    "### Execution logs: "
   ]
  },
  {
   "cell_type": "code",
   "execution_count": 471,
   "metadata": {},
   "outputs": [],
   "source": [
    "!node pyramidGenerator_step116.js"
   ]
  },
  {
   "cell_type": "markdown",
   "metadata": {},
   "source": [
    "---"
   ]
  },
  {
   "cell_type": "markdown",
   "metadata": {},
   "source": [
    "## Step117:"
   ]
  },
  {
   "cell_type": "markdown",
   "metadata": {},
   "source": [
    "<p>Your pyramid generator is now in a finished state, with more functionality than you originally planned! The next step is to clean up your code.</p>"
   ]
  },
  {
   "cell_type": "markdown",
   "metadata": {},
   "source": [
    "<p>Remove all comments, both single- and multi-line, from your code.</p>"
   ]
  },
  {
   "cell_type": "markdown",
   "metadata": {},
   "source": [
    "**Source file link:** [pyramidGenerator_step117.js](./pyramidGenerator_step117.js)"
   ]
  },
  {
   "cell_type": "code",
   "execution_count": 472,
   "metadata": {},
   "outputs": [
    {
     "data": {
      "text/markdown": [
       "```js\n",
       "\n",
       "```"
      ],
      "text/plain": [
       "<IPython.core.display.Markdown object>"
      ]
     },
     "metadata": {},
     "output_type": "display_data"
    }
   ],
   "source": [
    "fileName = \"pyramidGenerator_step117.js\"\n",
    "fetchAndDisplaySrcFileAsCodeBlock(fileName)"
   ]
  },
  {
   "cell_type": "markdown",
   "metadata": {},
   "source": [
    "### Execution logs: "
   ]
  },
  {
   "cell_type": "code",
   "execution_count": 473,
   "metadata": {},
   "outputs": [],
   "source": [
    "!node pyramidGenerator_step117.js"
   ]
  },
  {
   "cell_type": "markdown",
   "metadata": {},
   "source": [
    "---"
   ]
  },
  {
   "cell_type": "markdown",
   "metadata": {},
   "source": [
    "## Step118:"
   ]
  },
  {
   "cell_type": "markdown",
   "metadata": {},
   "source": [
    "<p>Nice work! Experiment with different values for your <code>character</code>, <code>count</code>, and <code>inverted</code> variables.</p>"
   ]
  },
  {
   "cell_type": "markdown",
   "metadata": {},
   "source": [
    "<p>When you are ready to move on to your next project, set <code>character</code> to <code>\"!\"</code>, <code>count</code> to <code>10</code>, and <code>inverted</code> to <code>false</code> to continue.</p>"
   ]
  },
  {
   "cell_type": "markdown",
   "metadata": {},
   "source": [
    "<p>Congratulations on completing your first JavaScript project!</p>"
   ]
  },
  {
   "cell_type": "markdown",
   "metadata": {},
   "source": [
    "**Source file link:** [pyramidGenerator_step118.js](./pyramidGenerator_step118.js)"
   ]
  },
  {
   "cell_type": "code",
   "execution_count": 474,
   "metadata": {},
   "outputs": [
    {
     "data": {
      "text/markdown": [
       "```js\n",
       "\n",
       "```"
      ],
      "text/plain": [
       "<IPython.core.display.Markdown object>"
      ]
     },
     "metadata": {},
     "output_type": "display_data"
    }
   ],
   "source": [
    "fileName = \"pyramidGenerator_step118.js\"\n",
    "fetchAndDisplaySrcFileAsCodeBlock(fileName)"
   ]
  },
  {
   "cell_type": "markdown",
   "metadata": {},
   "source": [
    "### Execution logs: "
   ]
  },
  {
   "cell_type": "code",
   "execution_count": 475,
   "metadata": {},
   "outputs": [],
   "source": [
    "!node pyramidGenerator_step118.js"
   ]
  },
  {
   "cell_type": "markdown",
   "metadata": {},
   "source": [
    "---"
   ]
  }
 ],
 "metadata": {
  "kernelspec": {
   "display_name": "Python 3",
   "language": "python",
   "name": "python3"
  },
  "language_info": {
   "codemirror_mode": {
    "name": "ipython",
    "version": 3
   },
   "file_extension": ".py",
   "mimetype": "text/x-python",
   "name": "python",
   "nbconvert_exporter": "python",
   "pygments_lexer": "ipython3",
   "version": "3.11.2"
  }
 },
 "nbformat": 4,
 "nbformat_minor": 2
}
